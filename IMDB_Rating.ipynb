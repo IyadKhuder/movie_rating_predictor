{
  "nbformat": 4,
  "nbformat_minor": 0,
  "metadata": {
    "colab": {
      "provenance": [],
      "mount_file_id": "1mlRauClT1m8RvpJQb4I3VRBPvk9qaJqN",
      "authorship_tag": "ABX9TyPs/9zbK0gI9AM2IwbSFpQQ",
      "include_colab_link": true
    },
    "kernelspec": {
      "name": "python3",
      "display_name": "Python 3"
    },
    "language_info": {
      "name": "python"
    },
    "accelerator": "GPU",
    "gpuClass": "standard"
  },
  "cells": [
    {
      "cell_type": "markdown",
      "metadata": {
        "id": "view-in-github",
        "colab_type": "text"
      },
      "source": [
        "<a href=\"https://colab.research.google.com/github/IyadKhuder/movie_rating_predictor/blob/main/IMDB_Rating.ipynb\" target=\"_parent\"><img src=\"https://colab.research.google.com/assets/colab-badge.svg\" alt=\"Open In Colab\"/></a>"
      ]
    },
    {
      "cell_type": "markdown",
      "source": [
        "###  Engr. Iyad Khuder\n",
        "###  *Date:* Monday, February 20th, 2023\n",
        "\n",
        "###  *Problem:*\n",
        "A model in Python to predict IMDB rating and measure the accuracy of the model"
      ],
      "metadata": {
        "id": "xAM82oom4904"
      }
    },
    {
      "cell_type": "markdown",
      "source": [
        "# I. SETUP & Data surveillance \n",
        "\n",
        "---\n",
        "\n"
      ],
      "metadata": {
        "id": "KZ78NjDCOYLT"
      }
    },
    {
      "cell_type": "markdown",
      "source": [
        "\n",
        "### *Importing Modules*\n",
        "\n",
        "\n"
      ],
      "metadata": {
        "id": "7I0PKNuuOZGp"
      }
    },
    {
      "cell_type": "code",
      "source": [
        "import io\n",
        "import os\n",
        "import matplotlib.pyplot as plt\n",
        "import numpy as np \n",
        "import pandas as pd \n",
        "\n",
        "import json #converting JSON to lists for dataframe\n",
        "import warnings\n",
        "warnings.filterwarnings('ignore')\n",
        "import base64\n",
        "import codecs\n",
        "from IPython.display import HTML\n",
        "\n",
        "%matplotlib inline"
      ],
      "metadata": {
        "id": "_YPhTCuNOjYh"
      },
      "execution_count": null,
      "outputs": []
    },
    {
      "cell_type": "code",
      "source": [
        "# libraries for the files in google drive\n",
        "from pydrive.auth import GoogleAuth\n",
        "from google.colab import drive\n",
        "from pydrive.drive import GoogleDrive\n",
        "from google.colab import auth\n",
        "from oauth2client.client import GoogleCredentials"
      ],
      "metadata": {
        "id": "4VY1J-m4fSeB"
      },
      "execution_count": null,
      "outputs": []
    },
    {
      "cell_type": "markdown",
      "source": [
        "### *Importing Google-Drive relevant libraries*"
      ],
      "metadata": {
        "id": "1HlBvBXCOj9V"
      }
    },
    {
      "cell_type": "code",
      "source": [
        "auth.authenticate_user()\n",
        "gauth = GoogleAuth()\n",
        "gauth.credentials = GoogleCredentials.get_application_default()\n",
        "drive = GoogleDrive(gauth)\n",
        "\n",
        "file_id = 'google drive file id' #<-- You add in here the id from you google drive file, you can find it\n",
        "\n",
        "# The link to the dataset on my Google Drive:\n",
        "# https://drive.google.com/file/d/1JBelJu0AJGB_IYVQxVNirrnptAMaxWPA/view?usp=sharing\n",
        "# Hence, we get the ID of the dataset file: \n",
        "Google_ID = '1JBelJu0AJGB_IYVQxVNirrnptAMaxWPA'\n",
        "download = drive.CreateFile({'id': Google_ID})\n",
        "\n",
        "# Download the file to a local disc\n",
        "download.GetContentFile('IMDb_Dataset.csv')\n"
      ],
      "metadata": {
        "id": "vvz_iIB0ULje"
      },
      "execution_count": null,
      "outputs": []
    },
    {
      "cell_type": "code",
      "execution_count": null,
      "metadata": {
        "id": "D5x5AcxPWKYB"
      },
      "outputs": [],
      "source": [
        "df = pd.read_csv('IMDb_Dataset.csv')"
      ]
    },
    {
      "cell_type": "markdown",
      "source": [
        "* Surveillance over the dataset\n",
        "\n"
      ],
      "metadata": {
        "id": "F84lHgjIo0Z5"
      }
    },
    {
      "cell_type": "code",
      "source": [
        "df.shape"
      ],
      "metadata": {
        "colab": {
          "base_uri": "https://localhost:8080/"
        },
        "id": "ZPuHzl5zRdk9",
        "outputId": "6934fe2b-c0e3-41a9-f93e-5cb9bd4a0503"
      },
      "execution_count": null,
      "outputs": [
        {
          "output_type": "execute_result",
          "data": {
            "text/plain": [
              "(5043, 28)"
            ]
          },
          "metadata": {},
          "execution_count": 6
        }
      ]
    },
    {
      "cell_type": "code",
      "source": [
        "for col in df:\n",
        "  print(col)"
      ],
      "metadata": {
        "colab": {
          "base_uri": "https://localhost:8080/"
        },
        "id": "RTvrz4OOamfx",
        "outputId": "2b97ce35-c61b-4165-9bcb-3a0f5f91e4bb"
      },
      "execution_count": null,
      "outputs": [
        {
          "output_type": "stream",
          "name": "stdout",
          "text": [
            "color\n",
            "director_name\n",
            "num_critic_for_reviews\n",
            "duration\n",
            "director_facebook_likes\n",
            "actor_3_facebook_likes\n",
            "actor_2_name\n",
            "actor_1_facebook_likes\n",
            "gross\n",
            "genres\n",
            "actor_1_name\n",
            "movie_title\n",
            "num_voted_users\n",
            "cast_total_facebook_likes\n",
            "actor_3_name\n",
            "facenumber_in_poster\n",
            "plot_keywords\n",
            "movie_imdb_link\n",
            "num_user_for_reviews\n",
            "language\n",
            "country\n",
            "content_rating\n",
            "budget\n",
            "title_year\n",
            "actor_2_facebook_likes\n",
            "imdb_score\n",
            "aspect_ratio\n",
            "movie_facebook_likes\n"
          ]
        }
      ]
    },
    {
      "cell_type": "code",
      "source": [
        "df.info()"
      ],
      "metadata": {
        "colab": {
          "base_uri": "https://localhost:8080/"
        },
        "id": "jp-S5qZVRisu",
        "outputId": "b209241f-67c7-4216-bc72-bc714b7f4162"
      },
      "execution_count": null,
      "outputs": [
        {
          "output_type": "stream",
          "name": "stdout",
          "text": [
            "<class 'pandas.core.frame.DataFrame'>\n",
            "RangeIndex: 5043 entries, 0 to 5042\n",
            "Data columns (total 28 columns):\n",
            " #   Column                     Non-Null Count  Dtype  \n",
            "---  ------                     --------------  -----  \n",
            " 0   color                      5024 non-null   object \n",
            " 1   director_name              4939 non-null   object \n",
            " 2   num_critic_for_reviews     4993 non-null   float64\n",
            " 3   duration                   5028 non-null   float64\n",
            " 4   director_facebook_likes    4939 non-null   float64\n",
            " 5   actor_3_facebook_likes     5020 non-null   float64\n",
            " 6   actor_2_name               5030 non-null   object \n",
            " 7   actor_1_facebook_likes     5036 non-null   float64\n",
            " 8   gross                      4159 non-null   float64\n",
            " 9   genres                     5043 non-null   object \n",
            " 10  actor_1_name               5036 non-null   object \n",
            " 11  movie_title                5043 non-null   object \n",
            " 12  num_voted_users            5043 non-null   int64  \n",
            " 13  cast_total_facebook_likes  5043 non-null   int64  \n",
            " 14  actor_3_name               5020 non-null   object \n",
            " 15  facenumber_in_poster       5030 non-null   float64\n",
            " 16  plot_keywords              4890 non-null   object \n",
            " 17  movie_imdb_link            5043 non-null   object \n",
            " 18  num_user_for_reviews       5022 non-null   float64\n",
            " 19  language                   5031 non-null   object \n",
            " 20  country                    5038 non-null   object \n",
            " 21  content_rating             4740 non-null   object \n",
            " 22  budget                     4551 non-null   float64\n",
            " 23  title_year                 4935 non-null   float64\n",
            " 24  actor_2_facebook_likes     5030 non-null   float64\n",
            " 25  imdb_score                 5043 non-null   float64\n",
            " 26  aspect_ratio               4714 non-null   float64\n",
            " 27  movie_facebook_likes       5043 non-null   int64  \n",
            "dtypes: float64(13), int64(3), object(12)\n",
            "memory usage: 1.1+ MB\n"
          ]
        }
      ]
    },
    {
      "cell_type": "code",
      "source": [
        "df.head()"
      ],
      "metadata": {
        "colab": {
          "base_uri": "https://localhost:8080/",
          "height": 334
        },
        "id": "-tfNusg9Zbbs",
        "outputId": "c63aca9f-17fe-48c8-dcf1-2ce340d76b27"
      },
      "execution_count": null,
      "outputs": [
        {
          "output_type": "execute_result",
          "data": {
            "text/plain": [
              "   color      director_name  num_critic_for_reviews  duration  \\\n",
              "0  Color      James Cameron                   723.0     178.0   \n",
              "1  Color     Gore Verbinski                   302.0     169.0   \n",
              "2  Color         Sam Mendes                   602.0     148.0   \n",
              "3  Color  Christopher Nolan                   813.0     164.0   \n",
              "4    NaN        Doug Walker                     NaN       NaN   \n",
              "\n",
              "   director_facebook_likes  actor_3_facebook_likes      actor_2_name  \\\n",
              "0                      0.0                   855.0  Joel David Moore   \n",
              "1                    563.0                  1000.0     Orlando Bloom   \n",
              "2                      0.0                   161.0      Rory Kinnear   \n",
              "3                  22000.0                 23000.0    Christian Bale   \n",
              "4                    131.0                     NaN        Rob Walker   \n",
              "\n",
              "   actor_1_facebook_likes        gross                           genres  ...  \\\n",
              "0                  1000.0  760505847.0  Action|Adventure|Fantasy|Sci-Fi  ...   \n",
              "1                 40000.0  309404152.0         Action|Adventure|Fantasy  ...   \n",
              "2                 11000.0  200074175.0        Action|Adventure|Thriller  ...   \n",
              "3                 27000.0  448130642.0                  Action|Thriller  ...   \n",
              "4                   131.0          NaN                      Documentary  ...   \n",
              "\n",
              "  num_user_for_reviews language  country  content_rating       budget  \\\n",
              "0               3054.0  English      USA           PG-13  237000000.0   \n",
              "1               1238.0  English      USA           PG-13  300000000.0   \n",
              "2                994.0  English       UK           PG-13  245000000.0   \n",
              "3               2701.0  English      USA           PG-13  250000000.0   \n",
              "4                  NaN      NaN      NaN             NaN          NaN   \n",
              "\n",
              "   title_year actor_2_facebook_likes imdb_score  aspect_ratio  \\\n",
              "0      2009.0                  936.0        7.9          1.78   \n",
              "1      2007.0                 5000.0        7.1          2.35   \n",
              "2      2015.0                  393.0        6.8          2.35   \n",
              "3      2012.0                23000.0        8.5          2.35   \n",
              "4         NaN                   12.0        7.1           NaN   \n",
              "\n",
              "  movie_facebook_likes  \n",
              "0                33000  \n",
              "1                    0  \n",
              "2                85000  \n",
              "3               164000  \n",
              "4                    0  \n",
              "\n",
              "[5 rows x 28 columns]"
            ],
            "text/html": [
              "\n",
              "  <div id=\"df-eb9c993a-f16d-4bbb-8583-0944bebf645c\">\n",
              "    <div class=\"colab-df-container\">\n",
              "      <div>\n",
              "<style scoped>\n",
              "    .dataframe tbody tr th:only-of-type {\n",
              "        vertical-align: middle;\n",
              "    }\n",
              "\n",
              "    .dataframe tbody tr th {\n",
              "        vertical-align: top;\n",
              "    }\n",
              "\n",
              "    .dataframe thead th {\n",
              "        text-align: right;\n",
              "    }\n",
              "</style>\n",
              "<table border=\"1\" class=\"dataframe\">\n",
              "  <thead>\n",
              "    <tr style=\"text-align: right;\">\n",
              "      <th></th>\n",
              "      <th>color</th>\n",
              "      <th>director_name</th>\n",
              "      <th>num_critic_for_reviews</th>\n",
              "      <th>duration</th>\n",
              "      <th>director_facebook_likes</th>\n",
              "      <th>actor_3_facebook_likes</th>\n",
              "      <th>actor_2_name</th>\n",
              "      <th>actor_1_facebook_likes</th>\n",
              "      <th>gross</th>\n",
              "      <th>genres</th>\n",
              "      <th>...</th>\n",
              "      <th>num_user_for_reviews</th>\n",
              "      <th>language</th>\n",
              "      <th>country</th>\n",
              "      <th>content_rating</th>\n",
              "      <th>budget</th>\n",
              "      <th>title_year</th>\n",
              "      <th>actor_2_facebook_likes</th>\n",
              "      <th>imdb_score</th>\n",
              "      <th>aspect_ratio</th>\n",
              "      <th>movie_facebook_likes</th>\n",
              "    </tr>\n",
              "  </thead>\n",
              "  <tbody>\n",
              "    <tr>\n",
              "      <th>0</th>\n",
              "      <td>Color</td>\n",
              "      <td>James Cameron</td>\n",
              "      <td>723.0</td>\n",
              "      <td>178.0</td>\n",
              "      <td>0.0</td>\n",
              "      <td>855.0</td>\n",
              "      <td>Joel David Moore</td>\n",
              "      <td>1000.0</td>\n",
              "      <td>760505847.0</td>\n",
              "      <td>Action|Adventure|Fantasy|Sci-Fi</td>\n",
              "      <td>...</td>\n",
              "      <td>3054.0</td>\n",
              "      <td>English</td>\n",
              "      <td>USA</td>\n",
              "      <td>PG-13</td>\n",
              "      <td>237000000.0</td>\n",
              "      <td>2009.0</td>\n",
              "      <td>936.0</td>\n",
              "      <td>7.9</td>\n",
              "      <td>1.78</td>\n",
              "      <td>33000</td>\n",
              "    </tr>\n",
              "    <tr>\n",
              "      <th>1</th>\n",
              "      <td>Color</td>\n",
              "      <td>Gore Verbinski</td>\n",
              "      <td>302.0</td>\n",
              "      <td>169.0</td>\n",
              "      <td>563.0</td>\n",
              "      <td>1000.0</td>\n",
              "      <td>Orlando Bloom</td>\n",
              "      <td>40000.0</td>\n",
              "      <td>309404152.0</td>\n",
              "      <td>Action|Adventure|Fantasy</td>\n",
              "      <td>...</td>\n",
              "      <td>1238.0</td>\n",
              "      <td>English</td>\n",
              "      <td>USA</td>\n",
              "      <td>PG-13</td>\n",
              "      <td>300000000.0</td>\n",
              "      <td>2007.0</td>\n",
              "      <td>5000.0</td>\n",
              "      <td>7.1</td>\n",
              "      <td>2.35</td>\n",
              "      <td>0</td>\n",
              "    </tr>\n",
              "    <tr>\n",
              "      <th>2</th>\n",
              "      <td>Color</td>\n",
              "      <td>Sam Mendes</td>\n",
              "      <td>602.0</td>\n",
              "      <td>148.0</td>\n",
              "      <td>0.0</td>\n",
              "      <td>161.0</td>\n",
              "      <td>Rory Kinnear</td>\n",
              "      <td>11000.0</td>\n",
              "      <td>200074175.0</td>\n",
              "      <td>Action|Adventure|Thriller</td>\n",
              "      <td>...</td>\n",
              "      <td>994.0</td>\n",
              "      <td>English</td>\n",
              "      <td>UK</td>\n",
              "      <td>PG-13</td>\n",
              "      <td>245000000.0</td>\n",
              "      <td>2015.0</td>\n",
              "      <td>393.0</td>\n",
              "      <td>6.8</td>\n",
              "      <td>2.35</td>\n",
              "      <td>85000</td>\n",
              "    </tr>\n",
              "    <tr>\n",
              "      <th>3</th>\n",
              "      <td>Color</td>\n",
              "      <td>Christopher Nolan</td>\n",
              "      <td>813.0</td>\n",
              "      <td>164.0</td>\n",
              "      <td>22000.0</td>\n",
              "      <td>23000.0</td>\n",
              "      <td>Christian Bale</td>\n",
              "      <td>27000.0</td>\n",
              "      <td>448130642.0</td>\n",
              "      <td>Action|Thriller</td>\n",
              "      <td>...</td>\n",
              "      <td>2701.0</td>\n",
              "      <td>English</td>\n",
              "      <td>USA</td>\n",
              "      <td>PG-13</td>\n",
              "      <td>250000000.0</td>\n",
              "      <td>2012.0</td>\n",
              "      <td>23000.0</td>\n",
              "      <td>8.5</td>\n",
              "      <td>2.35</td>\n",
              "      <td>164000</td>\n",
              "    </tr>\n",
              "    <tr>\n",
              "      <th>4</th>\n",
              "      <td>NaN</td>\n",
              "      <td>Doug Walker</td>\n",
              "      <td>NaN</td>\n",
              "      <td>NaN</td>\n",
              "      <td>131.0</td>\n",
              "      <td>NaN</td>\n",
              "      <td>Rob Walker</td>\n",
              "      <td>131.0</td>\n",
              "      <td>NaN</td>\n",
              "      <td>Documentary</td>\n",
              "      <td>...</td>\n",
              "      <td>NaN</td>\n",
              "      <td>NaN</td>\n",
              "      <td>NaN</td>\n",
              "      <td>NaN</td>\n",
              "      <td>NaN</td>\n",
              "      <td>NaN</td>\n",
              "      <td>12.0</td>\n",
              "      <td>7.1</td>\n",
              "      <td>NaN</td>\n",
              "      <td>0</td>\n",
              "    </tr>\n",
              "  </tbody>\n",
              "</table>\n",
              "<p>5 rows × 28 columns</p>\n",
              "</div>\n",
              "      <button class=\"colab-df-convert\" onclick=\"convertToInteractive('df-eb9c993a-f16d-4bbb-8583-0944bebf645c')\"\n",
              "              title=\"Convert this dataframe to an interactive table.\"\n",
              "              style=\"display:none;\">\n",
              "        \n",
              "  <svg xmlns=\"http://www.w3.org/2000/svg\" height=\"24px\"viewBox=\"0 0 24 24\"\n",
              "       width=\"24px\">\n",
              "    <path d=\"M0 0h24v24H0V0z\" fill=\"none\"/>\n",
              "    <path d=\"M18.56 5.44l.94 2.06.94-2.06 2.06-.94-2.06-.94-.94-2.06-.94 2.06-2.06.94zm-11 1L8.5 8.5l.94-2.06 2.06-.94-2.06-.94L8.5 2.5l-.94 2.06-2.06.94zm10 10l.94 2.06.94-2.06 2.06-.94-2.06-.94-.94-2.06-.94 2.06-2.06.94z\"/><path d=\"M17.41 7.96l-1.37-1.37c-.4-.4-.92-.59-1.43-.59-.52 0-1.04.2-1.43.59L10.3 9.45l-7.72 7.72c-.78.78-.78 2.05 0 2.83L4 21.41c.39.39.9.59 1.41.59.51 0 1.02-.2 1.41-.59l7.78-7.78 2.81-2.81c.8-.78.8-2.07 0-2.86zM5.41 20L4 18.59l7.72-7.72 1.47 1.35L5.41 20z\"/>\n",
              "  </svg>\n",
              "      </button>\n",
              "      \n",
              "  <style>\n",
              "    .colab-df-container {\n",
              "      display:flex;\n",
              "      flex-wrap:wrap;\n",
              "      gap: 12px;\n",
              "    }\n",
              "\n",
              "    .colab-df-convert {\n",
              "      background-color: #E8F0FE;\n",
              "      border: none;\n",
              "      border-radius: 50%;\n",
              "      cursor: pointer;\n",
              "      display: none;\n",
              "      fill: #1967D2;\n",
              "      height: 32px;\n",
              "      padding: 0 0 0 0;\n",
              "      width: 32px;\n",
              "    }\n",
              "\n",
              "    .colab-df-convert:hover {\n",
              "      background-color: #E2EBFA;\n",
              "      box-shadow: 0px 1px 2px rgba(60, 64, 67, 0.3), 0px 1px 3px 1px rgba(60, 64, 67, 0.15);\n",
              "      fill: #174EA6;\n",
              "    }\n",
              "\n",
              "    [theme=dark] .colab-df-convert {\n",
              "      background-color: #3B4455;\n",
              "      fill: #D2E3FC;\n",
              "    }\n",
              "\n",
              "    [theme=dark] .colab-df-convert:hover {\n",
              "      background-color: #434B5C;\n",
              "      box-shadow: 0px 1px 3px 1px rgba(0, 0, 0, 0.15);\n",
              "      filter: drop-shadow(0px 1px 2px rgba(0, 0, 0, 0.3));\n",
              "      fill: #FFFFFF;\n",
              "    }\n",
              "  </style>\n",
              "\n",
              "      <script>\n",
              "        const buttonEl =\n",
              "          document.querySelector('#df-eb9c993a-f16d-4bbb-8583-0944bebf645c button.colab-df-convert');\n",
              "        buttonEl.style.display =\n",
              "          google.colab.kernel.accessAllowed ? 'block' : 'none';\n",
              "\n",
              "        async function convertToInteractive(key) {\n",
              "          const element = document.querySelector('#df-eb9c993a-f16d-4bbb-8583-0944bebf645c');\n",
              "          const dataTable =\n",
              "            await google.colab.kernel.invokeFunction('convertToInteractive',\n",
              "                                                     [key], {});\n",
              "          if (!dataTable) return;\n",
              "\n",
              "          const docLinkHtml = 'Like what you see? Visit the ' +\n",
              "            '<a target=\"_blank\" href=https://colab.research.google.com/notebooks/data_table.ipynb>data table notebook</a>'\n",
              "            + ' to learn more about interactive tables.';\n",
              "          element.innerHTML = '';\n",
              "          dataTable['output_type'] = 'display_data';\n",
              "          await google.colab.output.renderOutput(dataTable, element);\n",
              "          const docLink = document.createElement('div');\n",
              "          docLink.innerHTML = docLinkHtml;\n",
              "          element.appendChild(docLink);\n",
              "        }\n",
              "      </script>\n",
              "    </div>\n",
              "  </div>\n",
              "  "
            ]
          },
          "metadata": {},
          "execution_count": 9
        }
      ]
    },
    {
      "cell_type": "markdown",
      "source": [
        "We notice that the field that represents the movie's rating is: imdb_score\n",
        "\n",
        "We also notice that the fields that are most correlated to the rating and are \n",
        "* efficient to use are:\n",
        "* director_name\n",
        "* director_facebook_likes\n",
        "* actor_3_facebook_likes\n",
        "* actor_2_name\n",
        "* actor_1_facebook_likes\n",
        "* gross\n",
        "* genres\n",
        "* actor_1_name\n",
        "* num_voted_users\n",
        "* cast_total_facebook_likes\n",
        "* actor_3_name\n",
        "* plot_keywords\n",
        "* num_user_for_reviews\n",
        "* country\n",
        "* budget\n",
        "* actor_2_facebook_likes\n",
        "* imdb_score\n",
        "* movie_facebook_likes\n",
        "\n",
        "\n",
        "\n",
        "\n",
        "\n"
      ],
      "metadata": {
        "id": "VNytZOHWZqfP"
      }
    },
    {
      "cell_type": "code",
      "source": [
        "plt.subplots(figsize=(12,10))\n",
        "n, bins, patches = plt.hist(df['imdb_score'], 20, density=1, facecolor='g', alpha=0.75)\n",
        "\n",
        "plt.xlabel('imdb_score')\n",
        "plt.ylabel('Occurence')\n",
        "plt.title('Distribution of voter average')\n",
        "plt.grid(True)\n",
        "plt.show()\n",
        "print(\"Minimum of Ratings:\", round(min(df['imdb_score']),2))\n",
        "print(\"Maximum of Ratings:\", round(max(df['imdb_score']),2))\n",
        "print(\"Average of Ratings:\", round(np.mean(df['imdb_score']),2))\n",
        "print(\"Variance of Ratings:\",round(np.var(df['imdb_score']),2))"
      ],
      "metadata": {
        "colab": {
          "base_uri": "https://localhost:8080/",
          "height": 691
        },
        "id": "L9ESzOEOmW3l",
        "outputId": "585a6ff4-d857-4f05-c937-af286ad36e8b"
      },
      "execution_count": null,
      "outputs": [
        {
          "output_type": "display_data",
          "data": {
            "text/plain": [
              "<Figure size 864x720 with 1 Axes>"
            ],
            "image/png": "[encoded data removed]"
          },
          "metadata": {
            "needs_background": "light"
          }
        },
        {
          "output_type": "stream",
          "name": "stdout",
          "text": [
            "Minimum of Ratings: 1.6\n",
            "Maximum of Ratings: 9.5\n",
            "Average of Ratings: 6.44\n",
            "Variance of Ratings: 1.27\n"
          ]
        }
      ]
    },
    {
      "cell_type": "markdown",
      "source": [
        "## II. Dataset Preprocessing\n",
        "\n",
        "---\n",
        "\n"
      ],
      "metadata": {
        "id": "l-HOY2TPpN42"
      }
    },
    {
      "cell_type": "markdown",
      "source": [
        "* Dataset Cleaning"
      ],
      "metadata": {
        "id": "SLgzsYm2qJjV"
      }
    },
    {
      "cell_type": "markdown",
      "source": [
        "*checking records with rating = 0:*"
      ],
      "metadata": {
        "id": "V5mGzo1Bqvwb"
      }
    },
    {
      "cell_type": "code",
      "source": [
        "counts = df[(df['imdb_score']==0)]['imdb_score'] # get vote counts for all movies that have a rating of 0.0\n",
        "\n",
        "print(\"Unique vote counts for movies with 0.0 rating\")\n",
        "for u in set(counts):\n",
        "    print(u)"
      ],
      "metadata": {
        "colab": {
          "base_uri": "https://localhost:8080/"
        },
        "id": "E712MGLYOkr4",
        "outputId": "8b7e20fa-597f-4349-866c-ec595d782351"
      },
      "execution_count": null,
      "outputs": [
        {
          "output_type": "stream",
          "name": "stdout",
          "text": [
            "Unique vote counts for movies with 0.0 rating\n"
          ]
        }
      ]
    },
    {
      "cell_type": "markdown",
      "source": [
        "Extracting the above-mentioned fields from df, moving the 'imdb_score' field to the end (as it is the output feature), and saving it in a new one:"
      ],
      "metadata": {
        "id": "EWwDbikCOlAp"
      }
    },
    {
      "cell_type": "code",
      "source": [
        "df = df[ ['movie_title','director_name','director_facebook_likes','actor_3_facebook_likes','actor_2_name','actor_1_facebook_likes','gross','genres','actor_1_name','num_voted_users','cast_total_facebook_likes','actor_3_name','plot_keywords','num_user_for_reviews','country','budget','actor_2_facebook_likes','movie_facebook_likes','imdb_score'] ]"
      ],
      "metadata": {
        "id": "Mp97x8FBOlhd"
      },
      "execution_count": null,
      "outputs": []
    },
    {
      "cell_type": "markdown",
      "source": [
        "* Shortening the fields with too long names (to reduce the width of the table, for display purposes):"
      ],
      "metadata": {
        "id": "laayHmekyTKB"
      }
    },
    {
      "cell_type": "code",
      "source": [
        "df = df.rename(columns={'plot_keywords': 'keywords'})\n",
        "df = df.rename(columns={'director_facebook_likes': 'director_FBLikes'})\n",
        "df = df.rename(columns={'actor_1_facebook_likes': 'act1_FBLikes'})\n",
        "df = df.rename(columns={'actor_2_facebook_likes': 'act2_FBLikes'})\n",
        "df = df.rename(columns={'actor_3_facebook_likes': 'act3_FBLikes'})\n",
        "df = df.rename(columns={'actor_1_name': 'act1_name'})\n",
        "df = df.rename(columns={'actor_2_name': 'act2_name'})\n",
        "df = df.rename(columns={'actor_3_name': 'act3_name'})\n",
        "df = df.rename(columns={'cast_total_facebook_likes': 'cast_total_FBLikes'})\n",
        "df = df.rename(columns={'movie_facebook_likes': 'movie_FBLikes'})\n",
        "df = df.rename(columns={'num_voted_users': 'vote_users'})\n",
        "df = df.rename(columns={'num_user_for_reviews': 'review_users'})\n",
        "df = df.rename(columns={'imdb_score': 'rating'})\n"
      ],
      "metadata": {
        "id": "_b8tsdfJrFWj"
      },
      "execution_count": null,
      "outputs": []
    },
    {
      "cell_type": "code",
      "source": [
        "df.head()"
      ],
      "metadata": {
        "colab": {
          "base_uri": "https://localhost:8080/",
          "height": 426
        },
        "id": "0ftg-XHMyvyN",
        "outputId": "169cf95b-8eab-4fb7-e4ee-3faa714c89a9"
      },
      "execution_count": null,
      "outputs": [
        {
          "output_type": "execute_result",
          "data": {
            "text/plain": [
              "                                         movie_title      director_name  \\\n",
              "0                                            Avatar       James Cameron   \n",
              "1          Pirates of the Caribbean: At World's End      Gore Verbinski   \n",
              "2                                           Spectre          Sam Mendes   \n",
              "3                             The Dark Knight Rises   Christopher Nolan   \n",
              "4  Star Wars: Episode VII - The Force Awakens    ...        Doug Walker   \n",
              "\n",
              "   director_FBLikes  act3_FBLikes         act2_name  act1_FBLikes  \\\n",
              "0               0.0         855.0  Joel David Moore        1000.0   \n",
              "1             563.0        1000.0     Orlando Bloom       40000.0   \n",
              "2               0.0         161.0      Rory Kinnear       11000.0   \n",
              "3           22000.0       23000.0    Christian Bale       27000.0   \n",
              "4             131.0           NaN        Rob Walker         131.0   \n",
              "\n",
              "         gross                           genres        act1_name  vote_users  \\\n",
              "0  760505847.0  Action|Adventure|Fantasy|Sci-Fi      CCH Pounder      886204   \n",
              "1  309404152.0         Action|Adventure|Fantasy      Johnny Depp      471220   \n",
              "2  200074175.0        Action|Adventure|Thriller  Christoph Waltz      275868   \n",
              "3  448130642.0                  Action|Thriller        Tom Hardy     1144337   \n",
              "4          NaN                      Documentary      Doug Walker           8   \n",
              "\n",
              "   cast_total_FBLikes             act3_name  \\\n",
              "0                4834             Wes Studi   \n",
              "1               48350        Jack Davenport   \n",
              "2               11700      Stephanie Sigman   \n",
              "3              106759  Joseph Gordon-Levitt   \n",
              "4                 143                   NaN   \n",
              "\n",
              "                                            keywords  review_users country  \\\n",
              "0             avatar|future|marine|native|paraplegic        3054.0     USA   \n",
              "1  goddess|marriage ceremony|marriage proposal|pi...        1238.0     USA   \n",
              "2                bomb|espionage|sequel|spy|terrorist         994.0      UK   \n",
              "3  deception|imprisonment|lawlessness|police offi...        2701.0     USA   \n",
              "4                                                NaN           NaN     NaN   \n",
              "\n",
              "        budget  act2_FBLikes  movie_FBLikes  rating  \n",
              "0  237000000.0         936.0          33000     7.9  \n",
              "1  300000000.0        5000.0              0     7.1  \n",
              "2  245000000.0         393.0          85000     6.8  \n",
              "3  250000000.0       23000.0         164000     8.5  \n",
              "4          NaN          12.0              0     7.1  "
            ],
            "text/html": [
              "\n",
              "  <div id=\"df-4b980486-3377-4763-86db-c8bd44f799fa\">\n",
              "    <div class=\"colab-df-container\">\n",
              "      <div>\n",
              "<style scoped>\n",
              "    .dataframe tbody tr th:only-of-type {\n",
              "        vertical-align: middle;\n",
              "    }\n",
              "\n",
              "    .dataframe tbody tr th {\n",
              "        vertical-align: top;\n",
              "    }\n",
              "\n",
              "    .dataframe thead th {\n",
              "        text-align: right;\n",
              "    }\n",
              "</style>\n",
              "<table border=\"1\" class=\"dataframe\">\n",
              "  <thead>\n",
              "    <tr style=\"text-align: right;\">\n",
              "      <th></th>\n",
              "      <th>movie_title</th>\n",
              "      <th>director_name</th>\n",
              "      <th>director_FBLikes</th>\n",
              "      <th>act3_FBLikes</th>\n",
              "      <th>act2_name</th>\n",
              "      <th>act1_FBLikes</th>\n",
              "      <th>gross</th>\n",
              "      <th>genres</th>\n",
              "      <th>act1_name</th>\n",
              "      <th>vote_users</th>\n",
              "      <th>cast_total_FBLikes</th>\n",
              "      <th>act3_name</th>\n",
              "      <th>keywords</th>\n",
              "      <th>review_users</th>\n",
              "      <th>country</th>\n",
              "      <th>budget</th>\n",
              "      <th>act2_FBLikes</th>\n",
              "      <th>movie_FBLikes</th>\n",
              "      <th>rating</th>\n",
              "    </tr>\n",
              "  </thead>\n",
              "  <tbody>\n",
              "    <tr>\n",
              "      <th>0</th>\n",
              "      <td>Avatar</td>\n",
              "      <td>James Cameron</td>\n",
              "      <td>0.0</td>\n",
              "      <td>855.0</td>\n",
              "      <td>Joel David Moore</td>\n",
              "      <td>1000.0</td>\n",
              "      <td>760505847.0</td>\n",
              "      <td>Action|Adventure|Fantasy|Sci-Fi</td>\n",
              "      <td>CCH Pounder</td>\n",
              "      <td>886204</td>\n",
              "      <td>4834</td>\n",
              "      <td>Wes Studi</td>\n",
              "      <td>avatar|future|marine|native|paraplegic</td>\n",
              "      <td>3054.0</td>\n",
              "      <td>USA</td>\n",
              "      <td>237000000.0</td>\n",
              "      <td>936.0</td>\n",
              "      <td>33000</td>\n",
              "      <td>7.9</td>\n",
              "    </tr>\n",
              "    <tr>\n",
              "      <th>1</th>\n",
              "      <td>Pirates of the Caribbean: At World's End</td>\n",
              "      <td>Gore Verbinski</td>\n",
              "      <td>563.0</td>\n",
              "      <td>1000.0</td>\n",
              "      <td>Orlando Bloom</td>\n",
              "      <td>40000.0</td>\n",
              "      <td>309404152.0</td>\n",
              "      <td>Action|Adventure|Fantasy</td>\n",
              "      <td>Johnny Depp</td>\n",
              "      <td>471220</td>\n",
              "      <td>48350</td>\n",
              "      <td>Jack Davenport</td>\n",
              "      <td>goddess|marriage ceremony|marriage proposal|pi...</td>\n",
              "      <td>1238.0</td>\n",
              "      <td>USA</td>\n",
              "      <td>300000000.0</td>\n",
              "      <td>5000.0</td>\n",
              "      <td>0</td>\n",
              "      <td>7.1</td>\n",
              "    </tr>\n",
              "    <tr>\n",
              "      <th>2</th>\n",
              "      <td>Spectre</td>\n",
              "      <td>Sam Mendes</td>\n",
              "      <td>0.0</td>\n",
              "      <td>161.0</td>\n",
              "      <td>Rory Kinnear</td>\n",
              "      <td>11000.0</td>\n",
              "      <td>200074175.0</td>\n",
              "      <td>Action|Adventure|Thriller</td>\n",
              "      <td>Christoph Waltz</td>\n",
              "      <td>275868</td>\n",
              "      <td>11700</td>\n",
              "      <td>Stephanie Sigman</td>\n",
              "      <td>bomb|espionage|sequel|spy|terrorist</td>\n",
              "      <td>994.0</td>\n",
              "      <td>UK</td>\n",
              "      <td>245000000.0</td>\n",
              "      <td>393.0</td>\n",
              "      <td>85000</td>\n",
              "      <td>6.8</td>\n",
              "    </tr>\n",
              "    <tr>\n",
              "      <th>3</th>\n",
              "      <td>The Dark Knight Rises</td>\n",
              "      <td>Christopher Nolan</td>\n",
              "      <td>22000.0</td>\n",
              "      <td>23000.0</td>\n",
              "      <td>Christian Bale</td>\n",
              "      <td>27000.0</td>\n",
              "      <td>448130642.0</td>\n",
              "      <td>Action|Thriller</td>\n",
              "      <td>Tom Hardy</td>\n",
              "      <td>1144337</td>\n",
              "      <td>106759</td>\n",
              "      <td>Joseph Gordon-Levitt</td>\n",
              "      <td>deception|imprisonment|lawlessness|police offi...</td>\n",
              "      <td>2701.0</td>\n",
              "      <td>USA</td>\n",
              "      <td>250000000.0</td>\n",
              "      <td>23000.0</td>\n",
              "      <td>164000</td>\n",
              "      <td>8.5</td>\n",
              "    </tr>\n",
              "    <tr>\n",
              "      <th>4</th>\n",
              "      <td>Star Wars: Episode VII - The Force Awakens    ...</td>\n",
              "      <td>Doug Walker</td>\n",
              "      <td>131.0</td>\n",
              "      <td>NaN</td>\n",
              "      <td>Rob Walker</td>\n",
              "      <td>131.0</td>\n",
              "      <td>NaN</td>\n",
              "      <td>Documentary</td>\n",
              "      <td>Doug Walker</td>\n",
              "      <td>8</td>\n",
              "      <td>143</td>\n",
              "      <td>NaN</td>\n",
              "      <td>NaN</td>\n",
              "      <td>NaN</td>\n",
              "      <td>NaN</td>\n",
              "      <td>NaN</td>\n",
              "      <td>12.0</td>\n",
              "      <td>0</td>\n",
              "      <td>7.1</td>\n",
              "    </tr>\n",
              "  </tbody>\n",
              "</table>\n",
              "</div>\n",
              "      <button class=\"colab-df-convert\" onclick=\"convertToInteractive('df-4b980486-3377-4763-86db-c8bd44f799fa')\"\n",
              "              title=\"Convert this dataframe to an interactive table.\"\n",
              "              style=\"display:none;\">\n",
              "        \n",
              "  <svg xmlns=\"http://www.w3.org/2000/svg\" height=\"24px\"viewBox=\"0 0 24 24\"\n",
              "       width=\"24px\">\n",
              "    <path d=\"M0 0h24v24H0V0z\" fill=\"none\"/>\n",
              "    <path d=\"M18.56 5.44l.94 2.06.94-2.06 2.06-.94-2.06-.94-.94-2.06-.94 2.06-2.06.94zm-11 1L8.5 8.5l.94-2.06 2.06-.94-2.06-.94L8.5 2.5l-.94 2.06-2.06.94zm10 10l.94 2.06.94-2.06 2.06-.94-2.06-.94-.94-2.06-.94 2.06-2.06.94z\"/><path d=\"M17.41 7.96l-1.37-1.37c-.4-.4-.92-.59-1.43-.59-.52 0-1.04.2-1.43.59L10.3 9.45l-7.72 7.72c-.78.78-.78 2.05 0 2.83L4 21.41c.39.39.9.59 1.41.59.51 0 1.02-.2 1.41-.59l7.78-7.78 2.81-2.81c.8-.78.8-2.07 0-2.86zM5.41 20L4 18.59l7.72-7.72 1.47 1.35L5.41 20z\"/>\n",
              "  </svg>\n",
              "      </button>\n",
              "      \n",
              "  <style>\n",
              "    .colab-df-container {\n",
              "      display:flex;\n",
              "      flex-wrap:wrap;\n",
              "      gap: 12px;\n",
              "    }\n",
              "\n",
              "    .colab-df-convert {\n",
              "      background-color: #E8F0FE;\n",
              "      border: none;\n",
              "      border-radius: 50%;\n",
              "      cursor: pointer;\n",
              "      display: none;\n",
              "      fill: #1967D2;\n",
              "      height: 32px;\n",
              "      padding: 0 0 0 0;\n",
              "      width: 32px;\n",
              "    }\n",
              "\n",
              "    .colab-df-convert:hover {\n",
              "      background-color: #E2EBFA;\n",
              "      box-shadow: 0px 1px 2px rgba(60, 64, 67, 0.3), 0px 1px 3px 1px rgba(60, 64, 67, 0.15);\n",
              "      fill: #174EA6;\n",
              "    }\n",
              "\n",
              "    [theme=dark] .colab-df-convert {\n",
              "      background-color: #3B4455;\n",
              "      fill: #D2E3FC;\n",
              "    }\n",
              "\n",
              "    [theme=dark] .colab-df-convert:hover {\n",
              "      background-color: #434B5C;\n",
              "      box-shadow: 0px 1px 3px 1px rgba(0, 0, 0, 0.15);\n",
              "      filter: drop-shadow(0px 1px 2px rgba(0, 0, 0, 0.3));\n",
              "      fill: #FFFFFF;\n",
              "    }\n",
              "  </style>\n",
              "\n",
              "      <script>\n",
              "        const buttonEl =\n",
              "          document.querySelector('#df-4b980486-3377-4763-86db-c8bd44f799fa button.colab-df-convert');\n",
              "        buttonEl.style.display =\n",
              "          google.colab.kernel.accessAllowed ? 'block' : 'none';\n",
              "\n",
              "        async function convertToInteractive(key) {\n",
              "          const element = document.querySelector('#df-4b980486-3377-4763-86db-c8bd44f799fa');\n",
              "          const dataTable =\n",
              "            await google.colab.kernel.invokeFunction('convertToInteractive',\n",
              "                                                     [key], {});\n",
              "          if (!dataTable) return;\n",
              "\n",
              "          const docLinkHtml = 'Like what you see? Visit the ' +\n",
              "            '<a target=\"_blank\" href=https://colab.research.google.com/notebooks/data_table.ipynb>data table notebook</a>'\n",
              "            + ' to learn more about interactive tables.';\n",
              "          element.innerHTML = '';\n",
              "          dataTable['output_type'] = 'display_data';\n",
              "          await google.colab.output.renderOutput(dataTable, element);\n",
              "          const docLink = document.createElement('div');\n",
              "          docLink.innerHTML = docLinkHtml;\n",
              "          element.appendChild(docLink);\n",
              "        }\n",
              "      </script>\n",
              "    </div>\n",
              "  </div>\n",
              "  "
            ]
          },
          "metadata": {},
          "execution_count": 14
        }
      ]
    },
    {
      "cell_type": "markdown",
      "source": [
        "Note: I've kept the 'movie_title', not because it is correlated to the score, but rather because it is the main identifier of the movie."
      ],
      "metadata": {
        "id": "Oq03RJhEBEvv"
      }
    },
    {
      "cell_type": "code",
      "source": [
        "df.shape"
      ],
      "metadata": {
        "colab": {
          "base_uri": "https://localhost:8080/"
        },
        "id": "hLfkLbX4GSgF",
        "outputId": "dfa6b48e-c7d7-43cd-d884-0f9019d67a0b"
      },
      "execution_count": null,
      "outputs": [
        {
          "output_type": "execute_result",
          "data": {
            "text/plain": [
              "(5043, 19)"
            ]
          },
          "metadata": {},
          "execution_count": 15
        }
      ]
    },
    {
      "cell_type": "code",
      "source": [
        "# Number of missing values for each column, sorted in descending order\n",
        "df.isnull().sum().sort_values(ascending=False)"
      ],
      "metadata": {
        "colab": {
          "base_uri": "https://localhost:8080/"
        },
        "id": "ZtgvV2blLU7H",
        "outputId": "4d15815e-2b2d-441f-ea73-8e5d088a4897"
      },
      "execution_count": null,
      "outputs": [
        {
          "output_type": "execute_result",
          "data": {
            "text/plain": [
              "gross                 884\n",
              "budget                492\n",
              "keywords              153\n",
              "director_FBLikes      104\n",
              "director_name         104\n",
              "act3_FBLikes           23\n",
              "act3_name              23\n",
              "review_users           21\n",
              "act2_name              13\n",
              "act2_FBLikes           13\n",
              "act1_FBLikes            7\n",
              "act1_name               7\n",
              "country                 5\n",
              "movie_title             0\n",
              "movie_FBLikes           0\n",
              "vote_users              0\n",
              "cast_total_FBLikes      0\n",
              "genres                  0\n",
              "rating                  0\n",
              "dtype: int64"
            ]
          },
          "metadata": {},
          "execution_count": 16
        }
      ]
    },
    {
      "cell_type": "code",
      "source": [
        "df = df.dropna()"
      ],
      "metadata": {
        "id": "ekrq6yqqIAe2"
      },
      "execution_count": null,
      "outputs": []
    },
    {
      "cell_type": "code",
      "source": [
        "df.shape"
      ],
      "metadata": {
        "colab": {
          "base_uri": "https://localhost:8080/"
        },
        "outputId": "8c4ae754-9bd0-4928-fcbf-ce034508507c",
        "id": "uKArkVwBIJ2Z"
      },
      "execution_count": null,
      "outputs": [
        {
          "output_type": "execute_result",
          "data": {
            "text/plain": [
              "(3851, 19)"
            ]
          },
          "metadata": {},
          "execution_count": 18
        }
      ]
    },
    {
      "cell_type": "code",
      "source": [
        "# Number of missing values for each column, sorted in descending order\n",
        "df.isnull().sum().sort_values(ascending=False)"
      ],
      "metadata": {
        "colab": {
          "base_uri": "https://localhost:8080/"
        },
        "outputId": "b1921ab0-5ce2-4749-a34c-8af467dae221",
        "id": "GAh-OYLoT05x"
      },
      "execution_count": null,
      "outputs": [
        {
          "output_type": "execute_result",
          "data": {
            "text/plain": [
              "movie_title           0\n",
              "cast_total_FBLikes    0\n",
              "movie_FBLikes         0\n",
              "act2_FBLikes          0\n",
              "budget                0\n",
              "country               0\n",
              "review_users          0\n",
              "keywords              0\n",
              "act3_name             0\n",
              "vote_users            0\n",
              "director_name         0\n",
              "act1_name             0\n",
              "genres                0\n",
              "gross                 0\n",
              "act1_FBLikes          0\n",
              "act2_name             0\n",
              "act3_FBLikes          0\n",
              "director_FBLikes      0\n",
              "rating                0\n",
              "dtype: int64"
            ]
          },
          "metadata": {},
          "execution_count": 19
        }
      ]
    },
    {
      "cell_type": "markdown",
      "source": [
        "# II. Data Preprocessing\n",
        "\n",
        "---\n",
        "\n"
      ],
      "metadata": {
        "id": "vjxF6ywBpdYV"
      }
    },
    {
      "cell_type": "markdown",
      "source": [
        "## **Formatting fields**"
      ],
      "metadata": {
        "id": "PSJQX5-dfrjF"
      }
    },
    {
      "cell_type": "markdown",
      "source": [
        "* Converting the bar-separated-values fields into a lists:"
      ],
      "metadata": {
        "id": "TiMV4JYfe-mO"
      }
    },
    {
      "cell_type": "markdown",
      "source": [
        "The following fields are bar-separated-values:\n",
        "* genres\n",
        "* keywords\n"
      ],
      "metadata": {
        "id": "5K5XVuoUfn_B"
      }
    },
    {
      "cell_type": "code",
      "source": [
        "def string_to_list(composite_string):\n",
        "    return composite_string.split('|')"
      ],
      "metadata": {
        "id": "mlSgoh97g3dw"
      },
      "execution_count": null,
      "outputs": []
    },
    {
      "cell_type": "code",
      "source": [
        "df['keywords'] = df['keywords'].apply(string_to_list)\n",
        "df['genres'] = df['genres'].apply(string_to_list)\n"
      ],
      "metadata": {
        "id": "XD7xMlXrfUJY"
      },
      "execution_count": null,
      "outputs": []
    },
    {
      "cell_type": "markdown",
      "source": [
        "I will convert all string fields, which represent potential features, into lists as well, so I can apply the same processing steps on them later."
      ],
      "metadata": {
        "id": "8nQx5LOFPVwv"
      }
    },
    {
      "cell_type": "code",
      "source": [
        "df['director_name'] = df['director_name'].apply(string_to_list)\n",
        "df['act2_name'] = df['act2_name'].apply(string_to_list)\n",
        "df['act1_name'] = df['act1_name'].apply(string_to_list)\n",
        "df['act3_name'] = df['act3_name'].apply(string_to_list)\n",
        "df['country'] = df['country'].apply(string_to_list)\n"
      ],
      "metadata": {
        "id": "MFC-VXxNPVGi"
      },
      "execution_count": null,
      "outputs": []
    },
    {
      "cell_type": "code",
      "source": [
        "df.sample(10)"
      ],
      "metadata": {
        "colab": {
          "base_uri": "https://localhost:8080/",
          "height": 876
        },
        "id": "SykPptT-isr2",
        "outputId": "2bc615f4-daee-410a-95ee-ecb591ff548d"
      },
      "execution_count": null,
      "outputs": [
        {
          "output_type": "execute_result",
          "data": {
            "text/plain": [
              "                                    movie_title               director_name  \\\n",
              "1259                                  Sex Tape                [Jake Kasdan]   \n",
              "1304  Cirque du Freak: The Vampire's Assistant                 [Paul Weitz]   \n",
              "4860                                      Cube            [Vincenzo Natali]   \n",
              "2535                     Sense and Sensibility                    [Ang Lee]   \n",
              "4489             The Day the Earth Stood Still           [Scott Derrickson]   \n",
              "2021                                  Scream 2                 [Wes Craven]   \n",
              "4095                   8 Heads in a Duffel Bag               [Tom Schulman]   \n",
              "2865                                       Woo   [Daisy von Scherler Mayer]   \n",
              "4593              Chocolate: Deep Dark Secrets            [Vivek Agnihotri]   \n",
              "2914        Tae Guk Gi: The Brotherhood of War                [Je-kyu Kang]   \n",
              "\n",
              "      director_FBLikes  act3_FBLikes             act2_name  act1_FBLikes  \\\n",
              "1259              52.0         214.0        [Randall Park]         683.0   \n",
              "1304              80.0         835.0         [Salma Hayek]       14000.0   \n",
              "4860             165.0         319.0     [Julian Richings]         686.0   \n",
              "2535               0.0        1000.0        [Kate Winslet]       25000.0   \n",
              "4489             301.0          71.0            [Jon Hamm]       18000.0   \n",
              "2021               0.0         221.0  [Jada Pinkett Smith]         865.0   \n",
              "4095              45.0         267.0     [George Hamilton]         578.0   \n",
              "2865              18.0         744.0  [Jada Pinkett Smith]        1000.0   \n",
              "4593               5.0         219.0         [Anil Kapoor]         724.0   \n",
              "2914              16.0         489.0             [Bin Won]         717.0   \n",
              "\n",
              "            gross                                  genres          act1_name  \\\n",
              "1259   38543473.0                                [Comedy]     [James Wilcox]   \n",
              "1304   13838130.0  [Action, Adventure, Fantasy, Thriller]  [Josh Hutcherson]   \n",
              "4860     489220.0             [Mystery, Sci-Fi, Thriller]    [David Hewlett]   \n",
              "2535   42700000.0                        [Drama, Romance]     [Alan Rickman]   \n",
              "4489   79363785.0               [Drama, Sci-Fi, Thriller]     [Keanu Reeves]   \n",
              "2021  101334374.0                       [Horror, Mystery]        [Omar Epps]   \n",
              "4095    3559990.0                         [Comedy, Crime]   [Kristy Swanson]   \n",
              "2865    8026971.0                       [Comedy, Romance]        [LL Cool J]   \n",
              "4593      49000.0                              [Thriller]    [Emraan Hashmi]   \n",
              "2914    1110186.0                    [Action, Drama, War]     [Min-sik Choi]   \n",
              "\n",
              "      vote_users  cast_total_FBLikes           act3_name  \\\n",
              "1259       84382                1488         [Nat Faxon]   \n",
              "1304       35990               20503     [Patrick Fugit]   \n",
              "4860      160511                1743    [Nicole de Boer]   \n",
              "2535       78392               41059     [Tom Wilkinson]   \n",
              "4489      139426               22194    [Juan Riedinger]   \n",
              "2021      124941                2321  [Kevin Williamson]   \n",
              "4095        8005                1363       [Dyan Cannon]   \n",
              "2865        1520                3352    [Dave Chappelle]   \n",
              "4593        1524                2024      [Sunil Shetty]   \n",
              "2914       31943                1730     [Dong-gun Jang]   \n",
              "\n",
              "                                               keywords  review_users  \\\n",
              "1259  [sex in a car, sex video, sexual desire, sexua...         158.0   \n",
              "1304  [antidote, based on young adult novel, flyer, ...         157.0   \n",
              "4860         [escape, labyrinth, maze, red light, trap]         696.0   \n",
              "2535  [1810s, female protagonist, horseback riding, ...         196.0   \n",
              "4489   [alien, earth, giant robot, military, scientist]         698.0   \n",
              "2021  [college, ghostface, killer, killing spree, mu...         488.0   \n",
              "4095  [camera shot of feet, female stockinged feet, ...          49.0   \n",
              "2865  [blind date, law clerk, love, manhattan new yo...          20.0   \n",
              "4593  [chocolate, christmas, christmas eve, death, s...          30.0   \n",
              "2914  [1950s, archeologist, korea, korean war, soldier]         224.0   \n",
              "\n",
              "            country      budget  act2_FBLikes  movie_FBLikes  rating  \n",
              "1259          [USA]  40000000.0         392.0              0     5.1  \n",
              "1304          [USA]  40000000.0        4000.0              0     5.9  \n",
              "4860       [Canada]    365000.0         648.0          11000     7.3  \n",
              "2535          [USA]  16500000.0       14000.0              0     7.7  \n",
              "4489          [USA]  80000000.0        4000.0              0     5.5  \n",
              "2021          [USA]  24000000.0         851.0              0     6.1  \n",
              "4095          [USA]   3000000.0         341.0            417     5.3  \n",
              "2865          [USA]  13000000.0         851.0            204     3.8  \n",
              "4593        [India]   1500000.0         668.0             31     4.8  \n",
              "2914  [South Korea]  12800000.0         517.0              0     8.1  "
            ],
            "text/html": [
              "\n",
              "  <div id=\"df-4cd5db0d-37c8-4b09-bd0c-a48af6a235b7\">\n",
              "    <div class=\"colab-df-container\">\n",
              "      <div>\n",
              "<style scoped>\n",
              "    .dataframe tbody tr th:only-of-type {\n",
              "        vertical-align: middle;\n",
              "    }\n",
              "\n",
              "    .dataframe tbody tr th {\n",
              "        vertical-align: top;\n",
              "    }\n",
              "\n",
              "    .dataframe thead th {\n",
              "        text-align: right;\n",
              "    }\n",
              "</style>\n",
              "<table border=\"1\" class=\"dataframe\">\n",
              "  <thead>\n",
              "    <tr style=\"text-align: right;\">\n",
              "      <th></th>\n",
              "      <th>movie_title</th>\n",
              "      <th>director_name</th>\n",
              "      <th>director_FBLikes</th>\n",
              "      <th>act3_FBLikes</th>\n",
              "      <th>act2_name</th>\n",
              "      <th>act1_FBLikes</th>\n",
              "      <th>gross</th>\n",
              "      <th>genres</th>\n",
              "      <th>act1_name</th>\n",
              "      <th>vote_users</th>\n",
              "      <th>cast_total_FBLikes</th>\n",
              "      <th>act3_name</th>\n",
              "      <th>keywords</th>\n",
              "      <th>review_users</th>\n",
              "      <th>country</th>\n",
              "      <th>budget</th>\n",
              "      <th>act2_FBLikes</th>\n",
              "      <th>movie_FBLikes</th>\n",
              "      <th>rating</th>\n",
              "    </tr>\n",
              "  </thead>\n",
              "  <tbody>\n",
              "    <tr>\n",
              "      <th>1259</th>\n",
              "      <td>Sex Tape</td>\n",
              "      <td>[Jake Kasdan]</td>\n",
              "      <td>52.0</td>\n",
              "      <td>214.0</td>\n",
              "      <td>[Randall Park]</td>\n",
              "      <td>683.0</td>\n",
              "      <td>38543473.0</td>\n",
              "      <td>[Comedy]</td>\n",
              "      <td>[James Wilcox]</td>\n",
              "      <td>84382</td>\n",
              "      <td>1488</td>\n",
              "      <td>[Nat Faxon]</td>\n",
              "      <td>[sex in a car, sex video, sexual desire, sexua...</td>\n",
              "      <td>158.0</td>\n",
              "      <td>[USA]</td>\n",
              "      <td>40000000.0</td>\n",
              "      <td>392.0</td>\n",
              "      <td>0</td>\n",
              "      <td>5.1</td>\n",
              "    </tr>\n",
              "    <tr>\n",
              "      <th>1304</th>\n",
              "      <td>Cirque du Freak: The Vampire's Assistant</td>\n",
              "      <td>[Paul Weitz]</td>\n",
              "      <td>80.0</td>\n",
              "      <td>835.0</td>\n",
              "      <td>[Salma Hayek]</td>\n",
              "      <td>14000.0</td>\n",
              "      <td>13838130.0</td>\n",
              "      <td>[Action, Adventure, Fantasy, Thriller]</td>\n",
              "      <td>[Josh Hutcherson]</td>\n",
              "      <td>35990</td>\n",
              "      <td>20503</td>\n",
              "      <td>[Patrick Fugit]</td>\n",
              "      <td>[antidote, based on young adult novel, flyer, ...</td>\n",
              "      <td>157.0</td>\n",
              "      <td>[USA]</td>\n",
              "      <td>40000000.0</td>\n",
              "      <td>4000.0</td>\n",
              "      <td>0</td>\n",
              "      <td>5.9</td>\n",
              "    </tr>\n",
              "    <tr>\n",
              "      <th>4860</th>\n",
              "      <td>Cube</td>\n",
              "      <td>[Vincenzo Natali]</td>\n",
              "      <td>165.0</td>\n",
              "      <td>319.0</td>\n",
              "      <td>[Julian Richings]</td>\n",
              "      <td>686.0</td>\n",
              "      <td>489220.0</td>\n",
              "      <td>[Mystery, Sci-Fi, Thriller]</td>\n",
              "      <td>[David Hewlett]</td>\n",
              "      <td>160511</td>\n",
              "      <td>1743</td>\n",
              "      <td>[Nicole de Boer]</td>\n",
              "      <td>[escape, labyrinth, maze, red light, trap]</td>\n",
              "      <td>696.0</td>\n",
              "      <td>[Canada]</td>\n",
              "      <td>365000.0</td>\n",
              "      <td>648.0</td>\n",
              "      <td>11000</td>\n",
              "      <td>7.3</td>\n",
              "    </tr>\n",
              "    <tr>\n",
              "      <th>2535</th>\n",
              "      <td>Sense and Sensibility</td>\n",
              "      <td>[Ang Lee]</td>\n",
              "      <td>0.0</td>\n",
              "      <td>1000.0</td>\n",
              "      <td>[Kate Winslet]</td>\n",
              "      <td>25000.0</td>\n",
              "      <td>42700000.0</td>\n",
              "      <td>[Drama, Romance]</td>\n",
              "      <td>[Alan Rickman]</td>\n",
              "      <td>78392</td>\n",
              "      <td>41059</td>\n",
              "      <td>[Tom Wilkinson]</td>\n",
              "      <td>[1810s, female protagonist, horseback riding, ...</td>\n",
              "      <td>196.0</td>\n",
              "      <td>[USA]</td>\n",
              "      <td>16500000.0</td>\n",
              "      <td>14000.0</td>\n",
              "      <td>0</td>\n",
              "      <td>7.7</td>\n",
              "    </tr>\n",
              "    <tr>\n",
              "      <th>4489</th>\n",
              "      <td>The Day the Earth Stood Still</td>\n",
              "      <td>[Scott Derrickson]</td>\n",
              "      <td>301.0</td>\n",
              "      <td>71.0</td>\n",
              "      <td>[Jon Hamm]</td>\n",
              "      <td>18000.0</td>\n",
              "      <td>79363785.0</td>\n",
              "      <td>[Drama, Sci-Fi, Thriller]</td>\n",
              "      <td>[Keanu Reeves]</td>\n",
              "      <td>139426</td>\n",
              "      <td>22194</td>\n",
              "      <td>[Juan Riedinger]</td>\n",
              "      <td>[alien, earth, giant robot, military, scientist]</td>\n",
              "      <td>698.0</td>\n",
              "      <td>[USA]</td>\n",
              "      <td>80000000.0</td>\n",
              "      <td>4000.0</td>\n",
              "      <td>0</td>\n",
              "      <td>5.5</td>\n",
              "    </tr>\n",
              "    <tr>\n",
              "      <th>2021</th>\n",
              "      <td>Scream 2</td>\n",
              "      <td>[Wes Craven]</td>\n",
              "      <td>0.0</td>\n",
              "      <td>221.0</td>\n",
              "      <td>[Jada Pinkett Smith]</td>\n",
              "      <td>865.0</td>\n",
              "      <td>101334374.0</td>\n",
              "      <td>[Horror, Mystery]</td>\n",
              "      <td>[Omar Epps]</td>\n",
              "      <td>124941</td>\n",
              "      <td>2321</td>\n",
              "      <td>[Kevin Williamson]</td>\n",
              "      <td>[college, ghostface, killer, killing spree, mu...</td>\n",
              "      <td>488.0</td>\n",
              "      <td>[USA]</td>\n",
              "      <td>24000000.0</td>\n",
              "      <td>851.0</td>\n",
              "      <td>0</td>\n",
              "      <td>6.1</td>\n",
              "    </tr>\n",
              "    <tr>\n",
              "      <th>4095</th>\n",
              "      <td>8 Heads in a Duffel Bag</td>\n",
              "      <td>[Tom Schulman]</td>\n",
              "      <td>45.0</td>\n",
              "      <td>267.0</td>\n",
              "      <td>[George Hamilton]</td>\n",
              "      <td>578.0</td>\n",
              "      <td>3559990.0</td>\n",
              "      <td>[Comedy, Crime]</td>\n",
              "      <td>[Kristy Swanson]</td>\n",
              "      <td>8005</td>\n",
              "      <td>1363</td>\n",
              "      <td>[Dyan Cannon]</td>\n",
              "      <td>[camera shot of feet, female stockinged feet, ...</td>\n",
              "      <td>49.0</td>\n",
              "      <td>[USA]</td>\n",
              "      <td>3000000.0</td>\n",
              "      <td>341.0</td>\n",
              "      <td>417</td>\n",
              "      <td>5.3</td>\n",
              "    </tr>\n",
              "    <tr>\n",
              "      <th>2865</th>\n",
              "      <td>Woo</td>\n",
              "      <td>[Daisy von Scherler Mayer]</td>\n",
              "      <td>18.0</td>\n",
              "      <td>744.0</td>\n",
              "      <td>[Jada Pinkett Smith]</td>\n",
              "      <td>1000.0</td>\n",
              "      <td>8026971.0</td>\n",
              "      <td>[Comedy, Romance]</td>\n",
              "      <td>[LL Cool J]</td>\n",
              "      <td>1520</td>\n",
              "      <td>3352</td>\n",
              "      <td>[Dave Chappelle]</td>\n",
              "      <td>[blind date, law clerk, love, manhattan new yo...</td>\n",
              "      <td>20.0</td>\n",
              "      <td>[USA]</td>\n",
              "      <td>13000000.0</td>\n",
              "      <td>851.0</td>\n",
              "      <td>204</td>\n",
              "      <td>3.8</td>\n",
              "    </tr>\n",
              "    <tr>\n",
              "      <th>4593</th>\n",
              "      <td>Chocolate: Deep Dark Secrets</td>\n",
              "      <td>[Vivek Agnihotri]</td>\n",
              "      <td>5.0</td>\n",
              "      <td>219.0</td>\n",
              "      <td>[Anil Kapoor]</td>\n",
              "      <td>724.0</td>\n",
              "      <td>49000.0</td>\n",
              "      <td>[Thriller]</td>\n",
              "      <td>[Emraan Hashmi]</td>\n",
              "      <td>1524</td>\n",
              "      <td>2024</td>\n",
              "      <td>[Sunil Shetty]</td>\n",
              "      <td>[chocolate, christmas, christmas eve, death, s...</td>\n",
              "      <td>30.0</td>\n",
              "      <td>[India]</td>\n",
              "      <td>1500000.0</td>\n",
              "      <td>668.0</td>\n",
              "      <td>31</td>\n",
              "      <td>4.8</td>\n",
              "    </tr>\n",
              "    <tr>\n",
              "      <th>2914</th>\n",
              "      <td>Tae Guk Gi: The Brotherhood of War</td>\n",
              "      <td>[Je-kyu Kang]</td>\n",
              "      <td>16.0</td>\n",
              "      <td>489.0</td>\n",
              "      <td>[Bin Won]</td>\n",
              "      <td>717.0</td>\n",
              "      <td>1110186.0</td>\n",
              "      <td>[Action, Drama, War]</td>\n",
              "      <td>[Min-sik Choi]</td>\n",
              "      <td>31943</td>\n",
              "      <td>1730</td>\n",
              "      <td>[Dong-gun Jang]</td>\n",
              "      <td>[1950s, archeologist, korea, korean war, soldier]</td>\n",
              "      <td>224.0</td>\n",
              "      <td>[South Korea]</td>\n",
              "      <td>12800000.0</td>\n",
              "      <td>517.0</td>\n",
              "      <td>0</td>\n",
              "      <td>8.1</td>\n",
              "    </tr>\n",
              "  </tbody>\n",
              "</table>\n",
              "</div>\n",
              "      <button class=\"colab-df-convert\" onclick=\"convertToInteractive('df-4cd5db0d-37c8-4b09-bd0c-a48af6a235b7')\"\n",
              "              title=\"Convert this dataframe to an interactive table.\"\n",
              "              style=\"display:none;\">\n",
              "        \n",
              "  <svg xmlns=\"http://www.w3.org/2000/svg\" height=\"24px\"viewBox=\"0 0 24 24\"\n",
              "       width=\"24px\">\n",
              "    <path d=\"M0 0h24v24H0V0z\" fill=\"none\"/>\n",
              "    <path d=\"M18.56 5.44l.94 2.06.94-2.06 2.06-.94-2.06-.94-.94-2.06-.94 2.06-2.06.94zm-11 1L8.5 8.5l.94-2.06 2.06-.94-2.06-.94L8.5 2.5l-.94 2.06-2.06.94zm10 10l.94 2.06.94-2.06 2.06-.94-2.06-.94-.94-2.06-.94 2.06-2.06.94z\"/><path d=\"M17.41 7.96l-1.37-1.37c-.4-.4-.92-.59-1.43-.59-.52 0-1.04.2-1.43.59L10.3 9.45l-7.72 7.72c-.78.78-.78 2.05 0 2.83L4 21.41c.39.39.9.59 1.41.59.51 0 1.02-.2 1.41-.59l7.78-7.78 2.81-2.81c.8-.78.8-2.07 0-2.86zM5.41 20L4 18.59l7.72-7.72 1.47 1.35L5.41 20z\"/>\n",
              "  </svg>\n",
              "      </button>\n",
              "      \n",
              "  <style>\n",
              "    .colab-df-container {\n",
              "      display:flex;\n",
              "      flex-wrap:wrap;\n",
              "      gap: 12px;\n",
              "    }\n",
              "\n",
              "    .colab-df-convert {\n",
              "      background-color: #E8F0FE;\n",
              "      border: none;\n",
              "      border-radius: 50%;\n",
              "      cursor: pointer;\n",
              "      display: none;\n",
              "      fill: #1967D2;\n",
              "      height: 32px;\n",
              "      padding: 0 0 0 0;\n",
              "      width: 32px;\n",
              "    }\n",
              "\n",
              "    .colab-df-convert:hover {\n",
              "      background-color: #E2EBFA;\n",
              "      box-shadow: 0px 1px 2px rgba(60, 64, 67, 0.3), 0px 1px 3px 1px rgba(60, 64, 67, 0.15);\n",
              "      fill: #174EA6;\n",
              "    }\n",
              "\n",
              "    [theme=dark] .colab-df-convert {\n",
              "      background-color: #3B4455;\n",
              "      fill: #D2E3FC;\n",
              "    }\n",
              "\n",
              "    [theme=dark] .colab-df-convert:hover {\n",
              "      background-color: #434B5C;\n",
              "      box-shadow: 0px 1px 3px 1px rgba(0, 0, 0, 0.15);\n",
              "      filter: drop-shadow(0px 1px 2px rgba(0, 0, 0, 0.3));\n",
              "      fill: #FFFFFF;\n",
              "    }\n",
              "  </style>\n",
              "\n",
              "      <script>\n",
              "        const buttonEl =\n",
              "          document.querySelector('#df-4cd5db0d-37c8-4b09-bd0c-a48af6a235b7 button.colab-df-convert');\n",
              "        buttonEl.style.display =\n",
              "          google.colab.kernel.accessAllowed ? 'block' : 'none';\n",
              "\n",
              "        async function convertToInteractive(key) {\n",
              "          const element = document.querySelector('#df-4cd5db0d-37c8-4b09-bd0c-a48af6a235b7');\n",
              "          const dataTable =\n",
              "            await google.colab.kernel.invokeFunction('convertToInteractive',\n",
              "                                                     [key], {});\n",
              "          if (!dataTable) return;\n",
              "\n",
              "          const docLinkHtml = 'Like what you see? Visit the ' +\n",
              "            '<a target=\"_blank\" href=https://colab.research.google.com/notebooks/data_table.ipynb>data table notebook</a>'\n",
              "            + ' to learn more about interactive tables.';\n",
              "          element.innerHTML = '';\n",
              "          dataTable['output_type'] = 'display_data';\n",
              "          await google.colab.output.renderOutput(dataTable, element);\n",
              "          const docLink = document.createElement('div');\n",
              "          docLink.innerHTML = docLinkHtml;\n",
              "          element.appendChild(docLink);\n",
              "        }\n",
              "      </script>\n",
              "    </div>\n",
              "  </div>\n",
              "  "
            ]
          },
          "metadata": {},
          "execution_count": 23
        }
      ]
    },
    {
      "cell_type": "markdown",
      "source": [
        "* **Encoding the list-fields**"
      ],
      "metadata": {
        "id": "gvlBzgx1p1W1"
      }
    },
    {
      "cell_type": "markdown",
      "source": [
        " The following function does several processing steps on the input list-field:\n",
        " * 1) It is applied on a certain list-field each time it is called\n",
        " * 2) It scans all the unique values of the input field\n",
        " * 3) It checks all the rating values associated with that specific value of the given list-field, and returns the average rating\n",
        " * 4) It plots a histogram of the average rating for all the unique values of the given list-field\n"
      ],
      "metadata": {
        "id": "XRGN9XT1qEp2"
      }
    },
    {
      "cell_type": "code",
      "source": [
        "def list_field_processing(df, field_name): # create a list of all unique values in the list-field\n",
        "    #Step 1: track all ratings associated with each value in a dictionary\n",
        "    field_dict = {}\n",
        "    for index, row in df.iterrows():\n",
        "        field_list = row[field_name]\n",
        "        for fieldList_item in field_list:\n",
        "            if fieldList_item not in field_dict:\n",
        "                field_dict[fieldList_item] = (df['rating'][index], 1) #\n",
        "            else:\n",
        "                field_dict[fieldList_item] = (field_dict[fieldList_item][0] + (df['rating'][index]), field_dict[fieldList_item][1] + 1)\n",
        "    #Step 2: calculate average ratings for each feature\n",
        "    for key in field_dict:\n",
        "        field_dict[key] = field_dict[key][0]/field_dict[key][1] #average of all ratings\n",
        "       \n",
        "    #Step 3: create and sort a list of tuples (dictionary value, key)\n",
        "    lst = list()\n",
        "    for name in field_dict:\n",
        "        lst.append((field_dict[name],name))\n",
        "    lst = sorted(lst)\n",
        "    #step 4: create a list of only the feature names, from lowest rating to highest rating\n",
        "    feature_list = list()\n",
        "    ratings_list = list()\n",
        "    for element in lst:\n",
        "        feature_list.append(element[1])\n",
        "        ratings_list.append(element[0])\n",
        "    \n",
        "    #get the variance of the ratings. This is helpful for determining the usefulness of the information (to be displayed in below plot)\n",
        "    var = round(np.var(ratings_list),3)\n",
        "    \n",
        "    #before returning the list, do a quick visualization to show that generate_list works\n",
        "    fig, ax = plt.subplots(figsize=(6,5))\n",
        "    if field_name != 'genres':\n",
        "        n = 50 # sample at intervals of n\n",
        "    else:\n",
        "        n = 1\n",
        "    X = [] #sample for associated movie(s) rating average\n",
        "    Y = [] #sample for feature names\n",
        "    for i in range(0, len(feature_list) - 1, n):\n",
        "        X.append(ratings_list[i])\n",
        "        Y.append(feature_list[i])\n",
        "    \n",
        "    y_pos = np.arange(len(Y))\n",
        "    ax.barh(y_pos, X, align='center')\n",
        "    #ax.set_yticklabels(Y)\n",
        "    ax.invert_yaxis()  # labels read top-to-bottom\n",
        "    \n",
        "    ax.set_xlabel('Overall average movie ratings')\n",
        "    ax.set_ylabel(field_name + ' sample list index')\n",
        "    ax.set_title(field_name + ' to associated movie(s) performance (' + str(int(len(feature_list)/n)) + ' samples), variance: ' + str(var))\n",
        "    \n",
        "    plt.show()\n",
        "    \n",
        "    return feature_list"
      ],
      "metadata": {
        "id": "7Lx-u12zp3mv"
      },
      "execution_count": null,
      "outputs": []
    },
    {
      "cell_type": "markdown",
      "source": [
        "1) To explain that, let's start with the list-field: genres:"
      ],
      "metadata": {
        "id": "JrsjvyfZp4Ww"
      }
    },
    {
      "cell_type": "code",
      "source": [
        "genres_list = list_field_processing(df, 'genres')"
      ],
      "metadata": {
        "colab": {
          "base_uri": "https://localhost:8080/",
          "height": 350
        },
        "id": "KQlLmBFgp44b",
        "outputId": "df4b92a3-5190-4cae-ef35-26cc3ea0097c"
      },
      "execution_count": null,
      "outputs": [
        {
          "output_type": "display_data",
          "data": {
            "text/plain": [
              "<Figure size 432x360 with 1 Axes>"
            ],
            "image/png": "[encoded data removed]"
          },
          "metadata": {
            "needs_background": "light"
          }
        }
      ]
    },
    {
      "cell_type": "markdown",
      "source": [
        "We notice that the variance of the unique values of the genres, associated with the rating, is not significant. Therefore, the field \"genres\" does not have enough correlation with the movie rating. For this reason, I will drop it from the list of features."
      ],
      "metadata": {
        "id": "e6IzLL--vVBv"
      }
    },
    {
      "cell_type": "markdown",
      "source": [
        "Dropping the 'genres' field off the dataframe:"
      ],
      "metadata": {
        "id": "Ag2Yf3N1dJGd"
      }
    },
    {
      "cell_type": "markdown",
      "source": [
        "2) keywords"
      ],
      "metadata": {
        "id": "EJJoxolUp5Rj"
      }
    },
    {
      "cell_type": "code",
      "source": [
        "keywords_list = list_field_processing(df, 'keywords')"
      ],
      "metadata": {
        "colab": {
          "base_uri": "https://localhost:8080/",
          "height": 350
        },
        "id": "Ma81pSEOp5vf",
        "outputId": "68615bbf-99dc-4af2-bb5c-664c8277b5dd"
      },
      "execution_count": null,
      "outputs": [
        {
          "output_type": "display_data",
          "data": {
            "text/plain": [
              "<Figure size 432x360 with 1 Axes>"
            ],
            "image/png": "[encoded data removed]"
          },
          "metadata": {
            "needs_background": "light"
          }
        }
      ]
    },
    {
      "cell_type": "markdown",
      "source": [
        "The 'keywords' field, in contrast, has a considerable variance associated with the rating, and therefore it will be kept as a feature."
      ],
      "metadata": {
        "id": "IJ2_EiRap6J8"
      }
    },
    {
      "cell_type": "code",
      "source": [
        "print(f\"There are {len(keywords_list)} unique keywords\")"
      ],
      "metadata": {
        "colab": {
          "base_uri": "https://localhost:8080/"
        },
        "id": "5rAIV9rEyMFR",
        "outputId": "93d2a2ae-7aef-4f41-baeb-2ec48f135114"
      },
      "execution_count": null,
      "outputs": [
        {
          "output_type": "stream",
          "name": "stdout",
          "text": [
            "There are 6848 unique keywords\n"
          ]
        }
      ]
    },
    {
      "cell_type": "markdown",
      "source": [
        "And here are 10 keywords:"
      ],
      "metadata": {
        "id": "1bxJlYMCw7mP"
      }
    },
    {
      "cell_type": "code",
      "source": [
        "keywords_list[:10]"
      ],
      "metadata": {
        "colab": {
          "base_uri": "https://localhost:8080/"
        },
        "id": "7KAzowhpw91F",
        "outputId": "d286c5e4-f93a-47e6-d999-e6cd6d1898ad"
      },
      "execution_count": null,
      "outputs": [
        {
          "output_type": "execute_result",
          "data": {
            "text/plain": [
              "['boyhood friend',\n",
              " 'plasma tv',\n",
              " 'science experiment',\n",
              " 'golf caddy',\n",
              " 'music business',\n",
              " 'tv commercial',\n",
              " 'artifact',\n",
              " 'chocolate factory',\n",
              " 'bad acting',\n",
              " 'resistance fighter']"
            ]
          },
          "metadata": {},
          "execution_count": 28
        }
      ]
    },
    {
      "cell_type": "markdown",
      "source": [
        "3) director_name"
      ],
      "metadata": {
        "id": "jYCP0MNfRm0V"
      }
    },
    {
      "cell_type": "code",
      "source": [
        "director_list = list_field_processing(df, 'director_name')"
      ],
      "metadata": {
        "colab": {
          "base_uri": "https://localhost:8080/",
          "height": 350
        },
        "id": "uJhA35uiRnhD",
        "outputId": "6380e38c-c42b-4745-fb52-c9bd7abea5a6"
      },
      "execution_count": null,
      "outputs": [
        {
          "output_type": "display_data",
          "data": {
            "text/plain": [
              "<Figure size 432x360 with 1 Axes>"
            ],
            "image/png": "[encoded data removed]"
          },
          "metadata": {
            "needs_background": "light"
          }
        }
      ]
    },
    {
      "cell_type": "markdown",
      "source": [
        "The director_name, has also a remarkable variance associated with the rating, and therefore it will be kept as a feature."
      ],
      "metadata": {
        "id": "5QDScbtXbilK"
      }
    },
    {
      "cell_type": "markdown",
      "source": [
        "4) actor_1_name"
      ],
      "metadata": {
        "id": "76rm_YLmb3Xh"
      }
    },
    {
      "cell_type": "code",
      "source": [
        "actor_1_list = list_field_processing(df, 'act1_name')"
      ],
      "metadata": {
        "colab": {
          "base_uri": "https://localhost:8080/",
          "height": 350
        },
        "outputId": "f330fce1-f634-4420-a7e7-4d18e3ca1054",
        "id": "SVmPyGyyb3Xi"
      },
      "execution_count": null,
      "outputs": [
        {
          "output_type": "display_data",
          "data": {
            "text/plain": [
              "<Figure size 432x360 with 1 Axes>"
            ],
            "image/png": "[encoded data removed]"
          },
          "metadata": {
            "needs_background": "light"
          }
        }
      ]
    },
    {
      "cell_type": "markdown",
      "source": [
        "The actor_1_name, has also a remarkable variance associated with the rating, and therefore it will be kept as a feature."
      ],
      "metadata": {
        "id": "ZTOvVmEqb3Xi"
      }
    },
    {
      "cell_type": "markdown",
      "source": [
        "5) actor_2_name"
      ],
      "metadata": {
        "id": "8F72H9oGb4U2"
      }
    },
    {
      "cell_type": "code",
      "source": [
        "actor_2_list = list_field_processing(df, 'act2_name')"
      ],
      "metadata": {
        "colab": {
          "base_uri": "https://localhost:8080/",
          "height": 350
        },
        "outputId": "510dd040-38fb-4dac-a42b-29da0e5ba0d7",
        "id": "Wcp59uBkb4U3"
      },
      "execution_count": null,
      "outputs": [
        {
          "output_type": "display_data",
          "data": {
            "text/plain": [
              "<Figure size 432x360 with 1 Axes>"
            ],
            "image/png": "[encoded data removed]"
          },
          "metadata": {
            "needs_background": "light"
          }
        }
      ]
    },
    {
      "cell_type": "markdown",
      "source": [
        "The actor_2_name, has also a remarkable variance associated with the rating, and therefore it will be kept as a feature."
      ],
      "metadata": {
        "id": "blonzpisb4U3"
      }
    },
    {
      "cell_type": "markdown",
      "source": [
        "6) actor_3_name"
      ],
      "metadata": {
        "id": "TELY5qN9b8CB"
      }
    },
    {
      "cell_type": "code",
      "source": [
        "actor_3_list = list_field_processing(df, 'act3_name')"
      ],
      "metadata": {
        "colab": {
          "base_uri": "https://localhost:8080/",
          "height": 350
        },
        "outputId": "00639902-0b71-45af-f23d-17ccfea65dc8",
        "id": "PxnIfpi7b8CB"
      },
      "execution_count": null,
      "outputs": [
        {
          "output_type": "display_data",
          "data": {
            "text/plain": [
              "<Figure size 432x360 with 1 Axes>"
            ],
            "image/png": "[encoded data removed]"
          },
          "metadata": {
            "needs_background": "light"
          }
        }
      ]
    },
    {
      "cell_type": "markdown",
      "source": [
        "The actor_3_name, has also a remarkable variance associated with the rating, and therefore it will be kept as a feature."
      ],
      "metadata": {
        "id": "qabdNezBb8CB"
      }
    },
    {
      "cell_type": "markdown",
      "source": [],
      "metadata": {
        "id": "AcWuOwU9ttfs"
      }
    },
    {
      "cell_type": "markdown",
      "source": [
        "7) country"
      ],
      "metadata": {
        "id": "32okaWqKtvgm"
      }
    },
    {
      "cell_type": "code",
      "source": [
        "country_list = list_field_processing(df, 'country')"
      ],
      "metadata": {
        "colab": {
          "base_uri": "https://localhost:8080/",
          "height": 350
        },
        "outputId": "7164b58d-6909-4bab-e33d-cb9833ee2850",
        "id": "hM03C26ztvgn"
      },
      "execution_count": null,
      "outputs": [
        {
          "output_type": "display_data",
          "data": {
            "text/plain": [
              "<Figure size 432x360 with 1 Axes>"
            ],
            "image/png": "[encoded data removed]"
          },
          "metadata": {
            "needs_background": "light"
          }
        }
      ]
    },
    {
      "cell_type": "markdown",
      "source": [
        "We notice that the variance of the unique values of the 'country' field, associated with the rating, is quite negligible. Therefore, I will drop it from the list of features."
      ],
      "metadata": {
        "id": "GreMKzB_uncl"
      }
    },
    {
      "cell_type": "code",
      "source": [
        "df.info()"
      ],
      "metadata": {
        "colab": {
          "base_uri": "https://localhost:8080/"
        },
        "id": "nHKETf-q2GIR",
        "outputId": "dd0917ba-cdb1-40bb-c9d7-1be1db060265"
      },
      "execution_count": null,
      "outputs": [
        {
          "output_type": "stream",
          "name": "stdout",
          "text": [
            "<class 'pandas.core.frame.DataFrame'>\n",
            "Int64Index: 3851 entries, 0 to 5042\n",
            "Data columns (total 19 columns):\n",
            " #   Column              Non-Null Count  Dtype  \n",
            "---  ------              --------------  -----  \n",
            " 0   movie_title         3851 non-null   object \n",
            " 1   director_name       3851 non-null   object \n",
            " 2   director_FBLikes    3851 non-null   float64\n",
            " 3   act3_FBLikes        3851 non-null   float64\n",
            " 4   act2_name           3851 non-null   object \n",
            " 5   act1_FBLikes        3851 non-null   float64\n",
            " 6   gross               3851 non-null   float64\n",
            " 7   genres              3851 non-null   object \n",
            " 8   act1_name           3851 non-null   object \n",
            " 9   vote_users          3851 non-null   int64  \n",
            " 10  cast_total_FBLikes  3851 non-null   int64  \n",
            " 11  act3_name           3851 non-null   object \n",
            " 12  keywords            3851 non-null   object \n",
            " 13  review_users        3851 non-null   float64\n",
            " 14  country             3851 non-null   object \n",
            " 15  budget              3851 non-null   float64\n",
            " 16  act2_FBLikes        3851 non-null   float64\n",
            " 17  movie_FBLikes       3851 non-null   int64  \n",
            " 18  rating              3851 non-null   float64\n",
            "dtypes: float64(8), int64(3), object(8)\n",
            "memory usage: 730.8+ KB\n"
          ]
        }
      ]
    },
    {
      "cell_type": "markdown",
      "source": [
        "Dropping both the 'genres' and 'country' fields off the dataframe:"
      ],
      "metadata": {
        "id": "tK1lGFD4u8Ix"
      }
    },
    {
      "cell_type": "code",
      "source": [
        "df = df[ ['movie_title','director_name','director_FBLikes','act3_FBLikes','act2_name','act1_FBLikes','gross','act1_name','vote_users','cast_total_FBLikes','act3_name','keywords','review_users','budget','act2_FBLikes','movie_FBLikes','rating'] ]"
      ],
      "metadata": {
        "id": "_ZdipLLsu8Ix"
      },
      "execution_count": null,
      "outputs": []
    },
    {
      "cell_type": "code",
      "source": [
        "df.head()"
      ],
      "metadata": {
        "colab": {
          "base_uri": "https://localhost:8080/",
          "height": 337
        },
        "id": "NXmwVJXLw88H",
        "outputId": "acac546c-2acd-40cc-c760-c39c04124f85"
      },
      "execution_count": null,
      "outputs": [
        {
          "output_type": "execute_result",
          "data": {
            "text/plain": [
              "                                 movie_title        director_name  \\\n",
              "0                                    Avatar       [James Cameron]   \n",
              "1  Pirates of the Caribbean: At World's End      [Gore Verbinski]   \n",
              "2                                   Spectre          [Sam Mendes]   \n",
              "3                     The Dark Knight Rises   [Christopher Nolan]   \n",
              "5                               John Carter      [Andrew Stanton]   \n",
              "\n",
              "   director_FBLikes  act3_FBLikes           act2_name  act1_FBLikes  \\\n",
              "0               0.0         855.0  [Joel David Moore]        1000.0   \n",
              "1             563.0        1000.0     [Orlando Bloom]       40000.0   \n",
              "2               0.0         161.0      [Rory Kinnear]       11000.0   \n",
              "3           22000.0       23000.0    [Christian Bale]       27000.0   \n",
              "5             475.0         530.0   [Samantha Morton]         640.0   \n",
              "\n",
              "         gross          act1_name  vote_users  cast_total_FBLikes  \\\n",
              "0  760505847.0      [CCH Pounder]      886204                4834   \n",
              "1  309404152.0      [Johnny Depp]      471220               48350   \n",
              "2  200074175.0  [Christoph Waltz]      275868               11700   \n",
              "3  448130642.0        [Tom Hardy]     1144337              106759   \n",
              "5   73058679.0     [Daryl Sabara]      212204                1873   \n",
              "\n",
              "                act3_name                                           keywords  \\\n",
              "0             [Wes Studi]       [avatar, future, marine, native, paraplegic]   \n",
              "1        [Jack Davenport]  [goddess, marriage ceremony, marriage proposal...   \n",
              "2      [Stephanie Sigman]          [bomb, espionage, sequel, spy, terrorist]   \n",
              "3  [Joseph Gordon-Levitt]  [deception, imprisonment, lawlessness, police ...   \n",
              "5          [Polly Walker]  [alien, american civil war, male nipple, mars,...   \n",
              "\n",
              "   review_users       budget  act2_FBLikes  movie_FBLikes  rating  \n",
              "0        3054.0  237000000.0         936.0          33000     7.9  \n",
              "1        1238.0  300000000.0        5000.0              0     7.1  \n",
              "2         994.0  245000000.0         393.0          85000     6.8  \n",
              "3        2701.0  250000000.0       23000.0         164000     8.5  \n",
              "5         738.0  263700000.0         632.0          24000     6.6  "
            ],
            "text/html": [
              "\n",
              "  <div id=\"df-1d5cb415-e58c-404b-b608-17d5e170d50b\">\n",
              "    <div class=\"colab-df-container\">\n",
              "      <div>\n",
              "<style scoped>\n",
              "    .dataframe tbody tr th:only-of-type {\n",
              "        vertical-align: middle;\n",
              "    }\n",
              "\n",
              "    .dataframe tbody tr th {\n",
              "        vertical-align: top;\n",
              "    }\n",
              "\n",
              "    .dataframe thead th {\n",
              "        text-align: right;\n",
              "    }\n",
              "</style>\n",
              "<table border=\"1\" class=\"dataframe\">\n",
              "  <thead>\n",
              "    <tr style=\"text-align: right;\">\n",
              "      <th></th>\n",
              "      <th>movie_title</th>\n",
              "      <th>director_name</th>\n",
              "      <th>director_FBLikes</th>\n",
              "      <th>act3_FBLikes</th>\n",
              "      <th>act2_name</th>\n",
              "      <th>act1_FBLikes</th>\n",
              "      <th>gross</th>\n",
              "      <th>act1_name</th>\n",
              "      <th>vote_users</th>\n",
              "      <th>cast_total_FBLikes</th>\n",
              "      <th>act3_name</th>\n",
              "      <th>keywords</th>\n",
              "      <th>review_users</th>\n",
              "      <th>budget</th>\n",
              "      <th>act2_FBLikes</th>\n",
              "      <th>movie_FBLikes</th>\n",
              "      <th>rating</th>\n",
              "    </tr>\n",
              "  </thead>\n",
              "  <tbody>\n",
              "    <tr>\n",
              "      <th>0</th>\n",
              "      <td>Avatar</td>\n",
              "      <td>[James Cameron]</td>\n",
              "      <td>0.0</td>\n",
              "      <td>855.0</td>\n",
              "      <td>[Joel David Moore]</td>\n",
              "      <td>1000.0</td>\n",
              "      <td>760505847.0</td>\n",
              "      <td>[CCH Pounder]</td>\n",
              "      <td>886204</td>\n",
              "      <td>4834</td>\n",
              "      <td>[Wes Studi]</td>\n",
              "      <td>[avatar, future, marine, native, paraplegic]</td>\n",
              "      <td>3054.0</td>\n",
              "      <td>237000000.0</td>\n",
              "      <td>936.0</td>\n",
              "      <td>33000</td>\n",
              "      <td>7.9</td>\n",
              "    </tr>\n",
              "    <tr>\n",
              "      <th>1</th>\n",
              "      <td>Pirates of the Caribbean: At World's End</td>\n",
              "      <td>[Gore Verbinski]</td>\n",
              "      <td>563.0</td>\n",
              "      <td>1000.0</td>\n",
              "      <td>[Orlando Bloom]</td>\n",
              "      <td>40000.0</td>\n",
              "      <td>309404152.0</td>\n",
              "      <td>[Johnny Depp]</td>\n",
              "      <td>471220</td>\n",
              "      <td>48350</td>\n",
              "      <td>[Jack Davenport]</td>\n",
              "      <td>[goddess, marriage ceremony, marriage proposal...</td>\n",
              "      <td>1238.0</td>\n",
              "      <td>300000000.0</td>\n",
              "      <td>5000.0</td>\n",
              "      <td>0</td>\n",
              "      <td>7.1</td>\n",
              "    </tr>\n",
              "    <tr>\n",
              "      <th>2</th>\n",
              "      <td>Spectre</td>\n",
              "      <td>[Sam Mendes]</td>\n",
              "      <td>0.0</td>\n",
              "      <td>161.0</td>\n",
              "      <td>[Rory Kinnear]</td>\n",
              "      <td>11000.0</td>\n",
              "      <td>200074175.0</td>\n",
              "      <td>[Christoph Waltz]</td>\n",
              "      <td>275868</td>\n",
              "      <td>11700</td>\n",
              "      <td>[Stephanie Sigman]</td>\n",
              "      <td>[bomb, espionage, sequel, spy, terrorist]</td>\n",
              "      <td>994.0</td>\n",
              "      <td>245000000.0</td>\n",
              "      <td>393.0</td>\n",
              "      <td>85000</td>\n",
              "      <td>6.8</td>\n",
              "    </tr>\n",
              "    <tr>\n",
              "      <th>3</th>\n",
              "      <td>The Dark Knight Rises</td>\n",
              "      <td>[Christopher Nolan]</td>\n",
              "      <td>22000.0</td>\n",
              "      <td>23000.0</td>\n",
              "      <td>[Christian Bale]</td>\n",
              "      <td>27000.0</td>\n",
              "      <td>448130642.0</td>\n",
              "      <td>[Tom Hardy]</td>\n",
              "      <td>1144337</td>\n",
              "      <td>106759</td>\n",
              "      <td>[Joseph Gordon-Levitt]</td>\n",
              "      <td>[deception, imprisonment, lawlessness, police ...</td>\n",
              "      <td>2701.0</td>\n",
              "      <td>250000000.0</td>\n",
              "      <td>23000.0</td>\n",
              "      <td>164000</td>\n",
              "      <td>8.5</td>\n",
              "    </tr>\n",
              "    <tr>\n",
              "      <th>5</th>\n",
              "      <td>John Carter</td>\n",
              "      <td>[Andrew Stanton]</td>\n",
              "      <td>475.0</td>\n",
              "      <td>530.0</td>\n",
              "      <td>[Samantha Morton]</td>\n",
              "      <td>640.0</td>\n",
              "      <td>73058679.0</td>\n",
              "      <td>[Daryl Sabara]</td>\n",
              "      <td>212204</td>\n",
              "      <td>1873</td>\n",
              "      <td>[Polly Walker]</td>\n",
              "      <td>[alien, american civil war, male nipple, mars,...</td>\n",
              "      <td>738.0</td>\n",
              "      <td>263700000.0</td>\n",
              "      <td>632.0</td>\n",
              "      <td>24000</td>\n",
              "      <td>6.6</td>\n",
              "    </tr>\n",
              "  </tbody>\n",
              "</table>\n",
              "</div>\n",
              "      <button class=\"colab-df-convert\" onclick=\"convertToInteractive('df-1d5cb415-e58c-404b-b608-17d5e170d50b')\"\n",
              "              title=\"Convert this dataframe to an interactive table.\"\n",
              "              style=\"display:none;\">\n",
              "        \n",
              "  <svg xmlns=\"http://www.w3.org/2000/svg\" height=\"24px\"viewBox=\"0 0 24 24\"\n",
              "       width=\"24px\">\n",
              "    <path d=\"M0 0h24v24H0V0z\" fill=\"none\"/>\n",
              "    <path d=\"M18.56 5.44l.94 2.06.94-2.06 2.06-.94-2.06-.94-.94-2.06-.94 2.06-2.06.94zm-11 1L8.5 8.5l.94-2.06 2.06-.94-2.06-.94L8.5 2.5l-.94 2.06-2.06.94zm10 10l.94 2.06.94-2.06 2.06-.94-2.06-.94-.94-2.06-.94 2.06-2.06.94z\"/><path d=\"M17.41 7.96l-1.37-1.37c-.4-.4-.92-.59-1.43-.59-.52 0-1.04.2-1.43.59L10.3 9.45l-7.72 7.72c-.78.78-.78 2.05 0 2.83L4 21.41c.39.39.9.59 1.41.59.51 0 1.02-.2 1.41-.59l7.78-7.78 2.81-2.81c.8-.78.8-2.07 0-2.86zM5.41 20L4 18.59l7.72-7.72 1.47 1.35L5.41 20z\"/>\n",
              "  </svg>\n",
              "      </button>\n",
              "      \n",
              "  <style>\n",
              "    .colab-df-container {\n",
              "      display:flex;\n",
              "      flex-wrap:wrap;\n",
              "      gap: 12px;\n",
              "    }\n",
              "\n",
              "    .colab-df-convert {\n",
              "      background-color: #E8F0FE;\n",
              "      border: none;\n",
              "      border-radius: 50%;\n",
              "      cursor: pointer;\n",
              "      display: none;\n",
              "      fill: #1967D2;\n",
              "      height: 32px;\n",
              "      padding: 0 0 0 0;\n",
              "      width: 32px;\n",
              "    }\n",
              "\n",
              "    .colab-df-convert:hover {\n",
              "      background-color: #E2EBFA;\n",
              "      box-shadow: 0px 1px 2px rgba(60, 64, 67, 0.3), 0px 1px 3px 1px rgba(60, 64, 67, 0.15);\n",
              "      fill: #174EA6;\n",
              "    }\n",
              "\n",
              "    [theme=dark] .colab-df-convert {\n",
              "      background-color: #3B4455;\n",
              "      fill: #D2E3FC;\n",
              "    }\n",
              "\n",
              "    [theme=dark] .colab-df-convert:hover {\n",
              "      background-color: #434B5C;\n",
              "      box-shadow: 0px 1px 3px 1px rgba(0, 0, 0, 0.15);\n",
              "      filter: drop-shadow(0px 1px 2px rgba(0, 0, 0, 0.3));\n",
              "      fill: #FFFFFF;\n",
              "    }\n",
              "  </style>\n",
              "\n",
              "      <script>\n",
              "        const buttonEl =\n",
              "          document.querySelector('#df-1d5cb415-e58c-404b-b608-17d5e170d50b button.colab-df-convert');\n",
              "        buttonEl.style.display =\n",
              "          google.colab.kernel.accessAllowed ? 'block' : 'none';\n",
              "\n",
              "        async function convertToInteractive(key) {\n",
              "          const element = document.querySelector('#df-1d5cb415-e58c-404b-b608-17d5e170d50b');\n",
              "          const dataTable =\n",
              "            await google.colab.kernel.invokeFunction('convertToInteractive',\n",
              "                                                     [key], {});\n",
              "          if (!dataTable) return;\n",
              "\n",
              "          const docLinkHtml = 'Like what you see? Visit the ' +\n",
              "            '<a target=\"_blank\" href=https://colab.research.google.com/notebooks/data_table.ipynb>data table notebook</a>'\n",
              "            + ' to learn more about interactive tables.';\n",
              "          element.innerHTML = '';\n",
              "          dataTable['output_type'] = 'display_data';\n",
              "          await google.colab.output.renderOutput(dataTable, element);\n",
              "          const docLink = document.createElement('div');\n",
              "          docLink.innerHTML = docLinkHtml;\n",
              "          element.appendChild(docLink);\n",
              "        }\n",
              "      </script>\n",
              "    </div>\n",
              "  </div>\n",
              "  "
            ]
          },
          "metadata": {},
          "execution_count": 36
        }
      ]
    },
    {
      "cell_type": "markdown",
      "source": [
        "Thus, the remaining fields are the features that we will work with.\n",
        "\n",
        "**Features:**"
      ],
      "metadata": {
        "id": "gPOubSER2zlJ"
      }
    },
    {
      "cell_type": "code",
      "source": [
        "df.info()"
      ],
      "metadata": {
        "colab": {
          "base_uri": "https://localhost:8080/"
        },
        "id": "sw_L4SMYop1z",
        "outputId": "b2e4cd2a-6a4d-419f-9148-4c66e7a7b7e5"
      },
      "execution_count": null,
      "outputs": [
        {
          "output_type": "stream",
          "name": "stdout",
          "text": [
            "<class 'pandas.core.frame.DataFrame'>\n",
            "Int64Index: 3851 entries, 0 to 5042\n",
            "Data columns (total 17 columns):\n",
            " #   Column              Non-Null Count  Dtype  \n",
            "---  ------              --------------  -----  \n",
            " 0   movie_title         3851 non-null   object \n",
            " 1   director_name       3851 non-null   object \n",
            " 2   director_FBLikes    3851 non-null   float64\n",
            " 3   act3_FBLikes        3851 non-null   float64\n",
            " 4   act2_name           3851 non-null   object \n",
            " 5   act1_FBLikes        3851 non-null   float64\n",
            " 6   gross               3851 non-null   float64\n",
            " 7   act1_name           3851 non-null   object \n",
            " 8   vote_users          3851 non-null   int64  \n",
            " 9   cast_total_FBLikes  3851 non-null   int64  \n",
            " 10  act3_name           3851 non-null   object \n",
            " 11  keywords            3851 non-null   object \n",
            " 12  review_users        3851 non-null   float64\n",
            " 13  budget              3851 non-null   float64\n",
            " 14  act2_FBLikes        3851 non-null   float64\n",
            " 15  movie_FBLikes       3851 non-null   int64  \n",
            " 16  rating              3851 non-null   float64\n",
            "dtypes: float64(8), int64(3), object(6)\n",
            "memory usage: 670.6+ KB\n"
          ]
        }
      ]
    },
    {
      "cell_type": "markdown",
      "source": [
        "* Encoding the list-fields"
      ],
      "metadata": {
        "id": "1fjB5jPew9a4"
      }
    },
    {
      "cell_type": "code",
      "source": [
        "def calculate_bin_array(this_list, all_features):\n",
        "    bin_list = []\n",
        "    for element in all_features:\n",
        "        if element in this_list:\n",
        "            bin_list.append(1)\n",
        "        else:\n",
        "            bin_list.append(0)\n",
        "    return bin_list"
      ],
      "metadata": {
        "id": "F-1DZDSDzqiC"
      },
      "execution_count": null,
      "outputs": []
    },
    {
      "cell_type": "code",
      "source": [
        "df['keywords'] = df['keywords'].apply(lambda x: calculate_bin_array(x, keywords_list))"
      ],
      "metadata": {
        "id": "qWNN378U6vUZ"
      },
      "execution_count": null,
      "outputs": []
    },
    {
      "cell_type": "markdown",
      "source": [
        "Likewise for the other list-fields:"
      ],
      "metadata": {
        "id": "LFkfAHeyR3KH"
      }
    },
    {
      "cell_type": "code",
      "source": [
        "df['director_name'] = df['director_name'].apply(lambda x: calculate_bin_array(x, director_list))"
      ],
      "metadata": {
        "id": "0HV5iXfaR9HG"
      },
      "execution_count": null,
      "outputs": []
    },
    {
      "cell_type": "code",
      "source": [
        "df['act1_name'] = df['act1_name'].apply(lambda x: calculate_bin_array(x, actor_1_list))"
      ],
      "metadata": {
        "id": "QqpKcjizR9ia"
      },
      "execution_count": null,
      "outputs": []
    },
    {
      "cell_type": "code",
      "source": [
        "df['act2_name'] = df['act2_name'].apply(lambda x: calculate_bin_array(x, actor_2_list))"
      ],
      "metadata": {
        "id": "7vG-sNntR9sY"
      },
      "execution_count": null,
      "outputs": []
    },
    {
      "cell_type": "code",
      "source": [
        "df['act3_name'] = df['act3_name'].apply(lambda x: calculate_bin_array(x, actor_3_list))"
      ],
      "metadata": {
        "id": "Y19HtR1xR929"
      },
      "execution_count": null,
      "outputs": []
    },
    {
      "cell_type": "code",
      "source": [
        "df.head()"
      ],
      "metadata": {
        "colab": {
          "base_uri": "https://localhost:8080/",
          "height": 424
        },
        "id": "HR-kzgW77RZK",
        "outputId": "83b23cc4-29c1-47c3-99b1-24c77ccfabc2"
      },
      "execution_count": null,
      "outputs": [
        {
          "output_type": "execute_result",
          "data": {
            "text/plain": [
              "                                 movie_title  \\\n",
              "0                                    Avatar    \n",
              "1  Pirates of the Caribbean: At World's End    \n",
              "2                                   Spectre    \n",
              "3                     The Dark Knight Rises    \n",
              "5                               John Carter    \n",
              "\n",
              "                                       director_name  director_FBLikes  \\\n",
              "0  [0, 0, 0, 0, 0, 0, 0, 0, 0, 0, 0, 0, 0, 0, 0, ...               0.0   \n",
              "1  [0, 0, 0, 0, 0, 0, 0, 0, 0, 0, 0, 0, 0, 0, 0, ...             563.0   \n",
              "2  [0, 0, 0, 0, 0, 0, 0, 0, 0, 0, 0, 0, 0, 0, 0, ...               0.0   \n",
              "3  [0, 0, 0, 0, 0, 0, 0, 0, 0, 0, 0, 0, 0, 0, 0, ...           22000.0   \n",
              "5  [0, 0, 0, 0, 0, 0, 0, 0, 0, 0, 0, 0, 0, 0, 0, ...             475.0   \n",
              "\n",
              "   act3_FBLikes                                          act2_name  \\\n",
              "0         855.0  [0, 0, 0, 0, 0, 0, 0, 0, 0, 0, 0, 0, 0, 0, 0, ...   \n",
              "1        1000.0  [0, 0, 0, 0, 0, 0, 0, 0, 0, 0, 0, 0, 0, 0, 0, ...   \n",
              "2         161.0  [0, 0, 0, 0, 0, 0, 0, 0, 0, 0, 0, 0, 0, 0, 0, ...   \n",
              "3       23000.0  [0, 0, 0, 0, 0, 0, 0, 0, 0, 0, 0, 0, 0, 0, 0, ...   \n",
              "5         530.0  [0, 0, 0, 0, 0, 0, 0, 0, 0, 0, 0, 0, 0, 0, 0, ...   \n",
              "\n",
              "   act1_FBLikes        gross  \\\n",
              "0        1000.0  760505847.0   \n",
              "1       40000.0  309404152.0   \n",
              "2       11000.0  200074175.0   \n",
              "3       27000.0  448130642.0   \n",
              "5         640.0   73058679.0   \n",
              "\n",
              "                                           act1_name  vote_users  \\\n",
              "0  [0, 0, 0, 0, 0, 0, 0, 0, 0, 0, 0, 0, 0, 0, 0, ...      886204   \n",
              "1  [0, 0, 0, 0, 0, 0, 0, 0, 0, 0, 0, 0, 0, 0, 0, ...      471220   \n",
              "2  [0, 0, 0, 0, 0, 0, 0, 0, 0, 0, 0, 0, 0, 0, 0, ...      275868   \n",
              "3  [0, 0, 0, 0, 0, 0, 0, 0, 0, 0, 0, 0, 0, 0, 0, ...     1144337   \n",
              "5  [0, 0, 0, 0, 0, 0, 0, 0, 0, 0, 0, 0, 0, 0, 0, ...      212204   \n",
              "\n",
              "   cast_total_FBLikes                                          act3_name  \\\n",
              "0                4834  [0, 0, 0, 0, 0, 0, 0, 0, 0, 0, 0, 0, 0, 0, 0, ...   \n",
              "1               48350  [0, 0, 0, 0, 0, 0, 0, 0, 0, 0, 0, 0, 0, 0, 0, ...   \n",
              "2               11700  [0, 0, 0, 0, 0, 0, 0, 0, 0, 0, 0, 0, 0, 0, 0, ...   \n",
              "3              106759  [0, 0, 0, 0, 0, 0, 0, 0, 0, 0, 0, 0, 0, 0, 0, ...   \n",
              "5                1873  [0, 0, 0, 0, 0, 0, 0, 0, 0, 0, 0, 0, 0, 0, 0, ...   \n",
              "\n",
              "                                            keywords  review_users  \\\n",
              "0  [0, 0, 0, 0, 0, 0, 0, 0, 0, 0, 0, 0, 0, 0, 0, ...        3054.0   \n",
              "1  [0, 0, 0, 0, 0, 0, 0, 0, 0, 0, 0, 0, 0, 0, 0, ...        1238.0   \n",
              "2  [0, 0, 0, 0, 0, 0, 0, 0, 0, 0, 0, 0, 0, 0, 0, ...         994.0   \n",
              "3  [0, 0, 0, 0, 0, 0, 0, 0, 0, 0, 0, 0, 0, 0, 0, ...        2701.0   \n",
              "5  [0, 0, 0, 0, 0, 0, 0, 0, 0, 0, 0, 0, 0, 0, 0, ...         738.0   \n",
              "\n",
              "        budget  act2_FBLikes  movie_FBLikes  rating  \n",
              "0  237000000.0         936.0          33000     7.9  \n",
              "1  300000000.0        5000.0              0     7.1  \n",
              "2  245000000.0         393.0          85000     6.8  \n",
              "3  250000000.0       23000.0         164000     8.5  \n",
              "5  263700000.0         632.0          24000     6.6  "
            ],
            "text/html": [
              "\n",
              "  <div id=\"df-28d2c8e9-d2de-44ef-a738-a85e1ca11f78\">\n",
              "    <div class=\"colab-df-container\">\n",
              "      <div>\n",
              "<style scoped>\n",
              "    .dataframe tbody tr th:only-of-type {\n",
              "        vertical-align: middle;\n",
              "    }\n",
              "\n",
              "    .dataframe tbody tr th {\n",
              "        vertical-align: top;\n",
              "    }\n",
              "\n",
              "    .dataframe thead th {\n",
              "        text-align: right;\n",
              "    }\n",
              "</style>\n",
              "<table border=\"1\" class=\"dataframe\">\n",
              "  <thead>\n",
              "    <tr style=\"text-align: right;\">\n",
              "      <th></th>\n",
              "      <th>movie_title</th>\n",
              "      <th>director_name</th>\n",
              "      <th>director_FBLikes</th>\n",
              "      <th>act3_FBLikes</th>\n",
              "      <th>act2_name</th>\n",
              "      <th>act1_FBLikes</th>\n",
              "      <th>gross</th>\n",
              "      <th>act1_name</th>\n",
              "      <th>vote_users</th>\n",
              "      <th>cast_total_FBLikes</th>\n",
              "      <th>act3_name</th>\n",
              "      <th>keywords</th>\n",
              "      <th>review_users</th>\n",
              "      <th>budget</th>\n",
              "      <th>act2_FBLikes</th>\n",
              "      <th>movie_FBLikes</th>\n",
              "      <th>rating</th>\n",
              "    </tr>\n",
              "  </thead>\n",
              "  <tbody>\n",
              "    <tr>\n",
              "      <th>0</th>\n",
              "      <td>Avatar</td>\n",
              "      <td>[0, 0, 0, 0, 0, 0, 0, 0, 0, 0, 0, 0, 0, 0, 0, ...</td>\n",
              "      <td>0.0</td>\n",
              "      <td>855.0</td>\n",
              "      <td>[0, 0, 0, 0, 0, 0, 0, 0, 0, 0, 0, 0, 0, 0, 0, ...</td>\n",
              "      <td>1000.0</td>\n",
              "      <td>760505847.0</td>\n",
              "      <td>[0, 0, 0, 0, 0, 0, 0, 0, 0, 0, 0, 0, 0, 0, 0, ...</td>\n",
              "      <td>886204</td>\n",
              "      <td>4834</td>\n",
              "      <td>[0, 0, 0, 0, 0, 0, 0, 0, 0, 0, 0, 0, 0, 0, 0, ...</td>\n",
              "      <td>[0, 0, 0, 0, 0, 0, 0, 0, 0, 0, 0, 0, 0, 0, 0, ...</td>\n",
              "      <td>3054.0</td>\n",
              "      <td>237000000.0</td>\n",
              "      <td>936.0</td>\n",
              "      <td>33000</td>\n",
              "      <td>7.9</td>\n",
              "    </tr>\n",
              "    <tr>\n",
              "      <th>1</th>\n",
              "      <td>Pirates of the Caribbean: At World's End</td>\n",
              "      <td>[0, 0, 0, 0, 0, 0, 0, 0, 0, 0, 0, 0, 0, 0, 0, ...</td>\n",
              "      <td>563.0</td>\n",
              "      <td>1000.0</td>\n",
              "      <td>[0, 0, 0, 0, 0, 0, 0, 0, 0, 0, 0, 0, 0, 0, 0, ...</td>\n",
              "      <td>40000.0</td>\n",
              "      <td>309404152.0</td>\n",
              "      <td>[0, 0, 0, 0, 0, 0, 0, 0, 0, 0, 0, 0, 0, 0, 0, ...</td>\n",
              "      <td>471220</td>\n",
              "      <td>48350</td>\n",
              "      <td>[0, 0, 0, 0, 0, 0, 0, 0, 0, 0, 0, 0, 0, 0, 0, ...</td>\n",
              "      <td>[0, 0, 0, 0, 0, 0, 0, 0, 0, 0, 0, 0, 0, 0, 0, ...</td>\n",
              "      <td>1238.0</td>\n",
              "      <td>300000000.0</td>\n",
              "      <td>5000.0</td>\n",
              "      <td>0</td>\n",
              "      <td>7.1</td>\n",
              "    </tr>\n",
              "    <tr>\n",
              "      <th>2</th>\n",
              "      <td>Spectre</td>\n",
              "      <td>[0, 0, 0, 0, 0, 0, 0, 0, 0, 0, 0, 0, 0, 0, 0, ...</td>\n",
              "      <td>0.0</td>\n",
              "      <td>161.0</td>\n",
              "      <td>[0, 0, 0, 0, 0, 0, 0, 0, 0, 0, 0, 0, 0, 0, 0, ...</td>\n",
              "      <td>11000.0</td>\n",
              "      <td>200074175.0</td>\n",
              "      <td>[0, 0, 0, 0, 0, 0, 0, 0, 0, 0, 0, 0, 0, 0, 0, ...</td>\n",
              "      <td>275868</td>\n",
              "      <td>11700</td>\n",
              "      <td>[0, 0, 0, 0, 0, 0, 0, 0, 0, 0, 0, 0, 0, 0, 0, ...</td>\n",
              "      <td>[0, 0, 0, 0, 0, 0, 0, 0, 0, 0, 0, 0, 0, 0, 0, ...</td>\n",
              "      <td>994.0</td>\n",
              "      <td>245000000.0</td>\n",
              "      <td>393.0</td>\n",
              "      <td>85000</td>\n",
              "      <td>6.8</td>\n",
              "    </tr>\n",
              "    <tr>\n",
              "      <th>3</th>\n",
              "      <td>The Dark Knight Rises</td>\n",
              "      <td>[0, 0, 0, 0, 0, 0, 0, 0, 0, 0, 0, 0, 0, 0, 0, ...</td>\n",
              "      <td>22000.0</td>\n",
              "      <td>23000.0</td>\n",
              "      <td>[0, 0, 0, 0, 0, 0, 0, 0, 0, 0, 0, 0, 0, 0, 0, ...</td>\n",
              "      <td>27000.0</td>\n",
              "      <td>448130642.0</td>\n",
              "      <td>[0, 0, 0, 0, 0, 0, 0, 0, 0, 0, 0, 0, 0, 0, 0, ...</td>\n",
              "      <td>1144337</td>\n",
              "      <td>106759</td>\n",
              "      <td>[0, 0, 0, 0, 0, 0, 0, 0, 0, 0, 0, 0, 0, 0, 0, ...</td>\n",
              "      <td>[0, 0, 0, 0, 0, 0, 0, 0, 0, 0, 0, 0, 0, 0, 0, ...</td>\n",
              "      <td>2701.0</td>\n",
              "      <td>250000000.0</td>\n",
              "      <td>23000.0</td>\n",
              "      <td>164000</td>\n",
              "      <td>8.5</td>\n",
              "    </tr>\n",
              "    <tr>\n",
              "      <th>5</th>\n",
              "      <td>John Carter</td>\n",
              "      <td>[0, 0, 0, 0, 0, 0, 0, 0, 0, 0, 0, 0, 0, 0, 0, ...</td>\n",
              "      <td>475.0</td>\n",
              "      <td>530.0</td>\n",
              "      <td>[0, 0, 0, 0, 0, 0, 0, 0, 0, 0, 0, 0, 0, 0, 0, ...</td>\n",
              "      <td>640.0</td>\n",
              "      <td>73058679.0</td>\n",
              "      <td>[0, 0, 0, 0, 0, 0, 0, 0, 0, 0, 0, 0, 0, 0, 0, ...</td>\n",
              "      <td>212204</td>\n",
              "      <td>1873</td>\n",
              "      <td>[0, 0, 0, 0, 0, 0, 0, 0, 0, 0, 0, 0, 0, 0, 0, ...</td>\n",
              "      <td>[0, 0, 0, 0, 0, 0, 0, 0, 0, 0, 0, 0, 0, 0, 0, ...</td>\n",
              "      <td>738.0</td>\n",
              "      <td>263700000.0</td>\n",
              "      <td>632.0</td>\n",
              "      <td>24000</td>\n",
              "      <td>6.6</td>\n",
              "    </tr>\n",
              "  </tbody>\n",
              "</table>\n",
              "</div>\n",
              "      <button class=\"colab-df-convert\" onclick=\"convertToInteractive('df-28d2c8e9-d2de-44ef-a738-a85e1ca11f78')\"\n",
              "              title=\"Convert this dataframe to an interactive table.\"\n",
              "              style=\"display:none;\">\n",
              "        \n",
              "  <svg xmlns=\"http://www.w3.org/2000/svg\" height=\"24px\"viewBox=\"0 0 24 24\"\n",
              "       width=\"24px\">\n",
              "    <path d=\"M0 0h24v24H0V0z\" fill=\"none\"/>\n",
              "    <path d=\"M18.56 5.44l.94 2.06.94-2.06 2.06-.94-2.06-.94-.94-2.06-.94 2.06-2.06.94zm-11 1L8.5 8.5l.94-2.06 2.06-.94-2.06-.94L8.5 2.5l-.94 2.06-2.06.94zm10 10l.94 2.06.94-2.06 2.06-.94-2.06-.94-.94-2.06-.94 2.06-2.06.94z\"/><path d=\"M17.41 7.96l-1.37-1.37c-.4-.4-.92-.59-1.43-.59-.52 0-1.04.2-1.43.59L10.3 9.45l-7.72 7.72c-.78.78-.78 2.05 0 2.83L4 21.41c.39.39.9.59 1.41.59.51 0 1.02-.2 1.41-.59l7.78-7.78 2.81-2.81c.8-.78.8-2.07 0-2.86zM5.41 20L4 18.59l7.72-7.72 1.47 1.35L5.41 20z\"/>\n",
              "  </svg>\n",
              "      </button>\n",
              "      \n",
              "  <style>\n",
              "    .colab-df-container {\n",
              "      display:flex;\n",
              "      flex-wrap:wrap;\n",
              "      gap: 12px;\n",
              "    }\n",
              "\n",
              "    .colab-df-convert {\n",
              "      background-color: #E8F0FE;\n",
              "      border: none;\n",
              "      border-radius: 50%;\n",
              "      cursor: pointer;\n",
              "      display: none;\n",
              "      fill: #1967D2;\n",
              "      height: 32px;\n",
              "      padding: 0 0 0 0;\n",
              "      width: 32px;\n",
              "    }\n",
              "\n",
              "    .colab-df-convert:hover {\n",
              "      background-color: #E2EBFA;\n",
              "      box-shadow: 0px 1px 2px rgba(60, 64, 67, 0.3), 0px 1px 3px 1px rgba(60, 64, 67, 0.15);\n",
              "      fill: #174EA6;\n",
              "    }\n",
              "\n",
              "    [theme=dark] .colab-df-convert {\n",
              "      background-color: #3B4455;\n",
              "      fill: #D2E3FC;\n",
              "    }\n",
              "\n",
              "    [theme=dark] .colab-df-convert:hover {\n",
              "      background-color: #434B5C;\n",
              "      box-shadow: 0px 1px 3px 1px rgba(0, 0, 0, 0.15);\n",
              "      filter: drop-shadow(0px 1px 2px rgba(0, 0, 0, 0.3));\n",
              "      fill: #FFFFFF;\n",
              "    }\n",
              "  </style>\n",
              "\n",
              "      <script>\n",
              "        const buttonEl =\n",
              "          document.querySelector('#df-28d2c8e9-d2de-44ef-a738-a85e1ca11f78 button.colab-df-convert');\n",
              "        buttonEl.style.display =\n",
              "          google.colab.kernel.accessAllowed ? 'block' : 'none';\n",
              "\n",
              "        async function convertToInteractive(key) {\n",
              "          const element = document.querySelector('#df-28d2c8e9-d2de-44ef-a738-a85e1ca11f78');\n",
              "          const dataTable =\n",
              "            await google.colab.kernel.invokeFunction('convertToInteractive',\n",
              "                                                     [key], {});\n",
              "          if (!dataTable) return;\n",
              "\n",
              "          const docLinkHtml = 'Like what you see? Visit the ' +\n",
              "            '<a target=\"_blank\" href=https://colab.research.google.com/notebooks/data_table.ipynb>data table notebook</a>'\n",
              "            + ' to learn more about interactive tables.';\n",
              "          element.innerHTML = '';\n",
              "          dataTable['output_type'] = 'display_data';\n",
              "          await google.colab.output.renderOutput(dataTable, element);\n",
              "          const docLink = document.createElement('div');\n",
              "          docLink.innerHTML = docLinkHtml;\n",
              "          element.appendChild(docLink);\n",
              "        }\n",
              "      </script>\n",
              "    </div>\n",
              "  </div>\n",
              "  "
            ]
          },
          "metadata": {},
          "execution_count": 44
        }
      ]
    },
    {
      "cell_type": "code",
      "source": [
        "df.shape"
      ],
      "metadata": {
        "colab": {
          "base_uri": "https://localhost:8080/"
        },
        "id": "qUsz2mJA7aNp",
        "outputId": "fe0e4523-56e8-4303-8d90-4ce5470cacfc"
      },
      "execution_count": null,
      "outputs": [
        {
          "output_type": "execute_result",
          "data": {
            "text/plain": [
              "(3851, 17)"
            ]
          },
          "metadata": {},
          "execution_count": 45
        }
      ]
    },
    {
      "cell_type": "markdown",
      "source": [
        "Remove rows that contain at least one zero value:"
      ],
      "metadata": {
        "id": "Q86EWLWzzZQN"
      }
    },
    {
      "cell_type": "code",
      "source": [
        "df = df[(df != 0).all(1)]"
      ],
      "metadata": {
        "id": "XknBQNGp7kmc"
      },
      "execution_count": null,
      "outputs": []
    },
    {
      "cell_type": "code",
      "source": [
        "df.shape"
      ],
      "metadata": {
        "colab": {
          "base_uri": "https://localhost:8080/"
        },
        "id": "w6wTbUOt7uI1",
        "outputId": "a8700d20-4a09-40a1-9eb2-ea4247059342"
      },
      "execution_count": null,
      "outputs": [
        {
          "output_type": "execute_result",
          "data": {
            "text/plain": [
              "(1665, 17)"
            ]
          },
          "metadata": {},
          "execution_count": 47
        }
      ]
    },
    {
      "cell_type": "code",
      "source": [
        "df.info()"
      ],
      "metadata": {
        "colab": {
          "base_uri": "https://localhost:8080/"
        },
        "id": "Uw7L7-FS77c_",
        "outputId": "ef23ca1e-ff09-4bbf-f64b-f2f3e51ecbe6"
      },
      "execution_count": null,
      "outputs": [
        {
          "output_type": "stream",
          "name": "stdout",
          "text": [
            "<class 'pandas.core.frame.DataFrame'>\n",
            "Int64Index: 1665 entries, 3 to 5042\n",
            "Data columns (total 17 columns):\n",
            " #   Column              Non-Null Count  Dtype  \n",
            "---  ------              --------------  -----  \n",
            " 0   movie_title         1665 non-null   object \n",
            " 1   director_name       1665 non-null   object \n",
            " 2   director_FBLikes    1665 non-null   float64\n",
            " 3   act3_FBLikes        1665 non-null   float64\n",
            " 4   act2_name           1665 non-null   object \n",
            " 5   act1_FBLikes        1665 non-null   float64\n",
            " 6   gross               1665 non-null   float64\n",
            " 7   act1_name           1665 non-null   object \n",
            " 8   vote_users          1665 non-null   int64  \n",
            " 9   cast_total_FBLikes  1665 non-null   int64  \n",
            " 10  act3_name           1665 non-null   object \n",
            " 11  keywords            1665 non-null   object \n",
            " 12  review_users        1665 non-null   float64\n",
            " 13  budget              1665 non-null   float64\n",
            " 14  act2_FBLikes        1665 non-null   float64\n",
            " 15  movie_FBLikes       1665 non-null   int64  \n",
            " 16  rating              1665 non-null   float64\n",
            "dtypes: float64(8), int64(3), object(6)\n",
            "memory usage: 234.1+ KB\n"
          ]
        }
      ]
    },
    {
      "cell_type": "markdown",
      "source": [
        "* Visualization and analysis of the sub-features' distribution"
      ],
      "metadata": {
        "id": "TGbmiQpDw-Gl"
      }
    },
    {
      "cell_type": "code",
      "source": [
        "def plot_binaries(mov):  \n",
        "\n",
        "    keywords_bin = mov[11]\n",
        "    keywords_index = []\n",
        "    for i in range(len(keywords_bin)):\n",
        "        if keywords_bin[i] == 1:\n",
        "            keywords_index.append(i)\n",
        "    \n",
        "    director_bin = mov[1]\n",
        "    director_index = []\n",
        "    for i in range(len(director_bin)):\n",
        "        if director_bin[i] == 1:\n",
        "            director_index.append(i)\n",
        "    \n",
        "    actor_1_bin = mov[7]\n",
        "    actor_1_index = []\n",
        "    for i in range(len(actor_1_bin)):\n",
        "        if actor_1_bin[i] == 1:\n",
        "            actor_1_index.append(i)\n",
        "    \n",
        "    actor_2_bin = mov[4]\n",
        "    actor_2_index = []\n",
        "    for i in range(len(actor_2_bin)):\n",
        "        if actor_2_bin[i] == 1:\n",
        "            actor_2_index.append(i)\n",
        "    \n",
        "    actor_3_bin = mov[10]\n",
        "    actor_3_index = []\n",
        "    for i in range(len(actor_3_bin)):\n",
        "        if actor_3_bin[i] == 1:\n",
        "            actor_3_index.append(i)\n",
        "    \n",
        "\n",
        "    font = {'family': 'serif',\n",
        "        'color':  'red',\n",
        "        'weight': 'normal',\n",
        "        'size': 10,\n",
        "        }\n",
        "    \n",
        "    fig, ax = plt.subplots(5,1,figsize=(10,1))\n",
        "    plt.subplots_adjust(hspace = 5)\n",
        "    ax[0].scatter(keywords_index, np.zeros_like(keywords_index), vmin=-2)\n",
        "    ax[0].set_title('Keywords:', loc = 'left', fontdict=font)\n",
        "    ax[0].set_xlim(0,len(keywords_bin))\n",
        "    ax[0].set_yticks([])\n",
        "    ax[0].set_xticks([])\n",
        "    \n",
        "    ax[1].scatter(director_index, np.zeros_like(director_index), vmin=-2)\n",
        "    ax[1].set_title('Director:', loc = 'left', fontdict=font)\n",
        "    ax[1].set_xlim(0,len(director_bin))\n",
        "    ax[1].set_yticks([])\n",
        "    ax[1].set_xticks([])\n",
        "    \n",
        "    ax[2].scatter(actor_1_index, np.zeros_like(actor_1_index), vmin=-2)\n",
        "    ax[2].set_title('actor_1', loc = 'left', fontdict=font)\n",
        "    ax[2].set_xlim(0,len(actor_1_bin))\n",
        "    ax[2].set_yticks([])\n",
        "    ax[2].set_xticks([])\n",
        "    \n",
        "    ax[3].scatter(actor_2_index, np.zeros_like(actor_2_index), vmin=-2)\n",
        "    ax[3].set_title('actor_2', loc = 'left', fontdict=font)\n",
        "    ax[3].set_xlim(0,len(actor_2_bin))\n",
        "    ax[3].set_yticks([])\n",
        "    ax[3].set_xticks([])\n",
        "    \n",
        "    ax[4].scatter(actor_3_index, np.zeros_like(actor_3_index), vmin=-2)\n",
        "    ax[4].set_title('actor_3', loc = 'left', fontdict=font)\n",
        "    ax[4].set_xlim(0,len(actor_3_bin))\n",
        "    ax[4].set_yticks([])\n",
        "    ax[4].set_xticks([])\n",
        "    \n"
      ],
      "metadata": {
        "id": "YjxoeX48xzF3"
      },
      "execution_count": null,
      "outputs": []
    },
    {
      "cell_type": "code",
      "source": [
        "movies_sample = df.sample(5)"
      ],
      "metadata": {
        "id": "xHbRpdkz9Goe"
      },
      "execution_count": null,
      "outputs": []
    },
    {
      "cell_type": "code",
      "source": [
        "print(movies_sample)"
      ],
      "metadata": {
        "colab": {
          "base_uri": "https://localhost:8080/"
        },
        "id": "et5m7Dqg-RqI",
        "outputId": "02e02e82-0120-4896-f50a-db8fcb3894af"
      },
      "execution_count": null,
      "outputs": [
        {
          "output_type": "stream",
          "name": "stdout",
          "text": [
            "          movie_title                                      director_name  \\\n",
            "1387  Reindeer Games   [0, 0, 0, 0, 0, 0, 0, 0, 0, 0, 0, 0, 0, 0, 0, ...   \n",
            "3761    The Forsaken   [0, 0, 0, 0, 0, 0, 0, 0, 0, 0, 0, 0, 0, 0, 0, ...   \n",
            "4649          Snitch   [0, 0, 0, 0, 0, 0, 0, 0, 0, 0, 0, 0, 0, 0, 0, ...   \n",
            "909          Beloved   [0, 0, 0, 0, 0, 0, 0, 0, 0, 0, 0, 0, 0, 0, 0, ...   \n",
            "711      Marley & Me   [0, 0, 0, 0, 0, 0, 0, 0, 0, 0, 0, 0, 0, 0, 0, ...   \n",
            "\n",
            "      director_FBLikes  act3_FBLikes  \\\n",
            "1387             287.0         475.0   \n",
            "3761              23.0         560.0   \n",
            "4649              29.0         874.0   \n",
            "909              438.0         466.0   \n",
            "711               64.0         664.0   \n",
            "\n",
            "                                              act2_name  act1_FBLikes  \\\n",
            "1387  [0, 0, 0, 0, 0, 0, 0, 0, 0, 0, 0, 0, 0, 0, 0, ...        9000.0   \n",
            "3761  [0, 0, 0, 0, 0, 0, 0, 0, 0, 0, 0, 0, 0, 0, 0, ...         847.0   \n",
            "4649  [0, 0, 0, 0, 0, 0, 0, 0, 0, 0, 0, 0, 0, 0, 0, ...       12000.0   \n",
            "909   [0, 0, 0, 0, 0, 0, 0, 0, 0, 0, 0, 0, 0, 0, 0, ...         852.0   \n",
            "711   [0, 0, 0, 0, 0, 0, 0, 0, 0, 0, 0, 0, 0, 0, 0, ...        2000.0   \n",
            "\n",
            "            gross                                          act1_name  \\\n",
            "1387   23360779.0  [0, 0, 0, 0, 0, 0, 0, 0, 0, 0, 0, 0, 0, 0, 0, ...   \n",
            "3761    6755271.0  [0, 0, 0, 0, 0, 0, 0, 0, 0, 0, 0, 0, 0, 0, 0, ...   \n",
            "4649   42919096.0  [0, 0, 0, 0, 0, 0, 0, 0, 0, 0, 0, 0, 0, 0, 0, ...   \n",
            "909    22843047.0  [0, 0, 0, 0, 0, 0, 0, 0, 0, 0, 0, 0, 0, 0, 0, ...   \n",
            "711   143151473.0  [0, 0, 0, 0, 0, 0, 0, 0, 0, 0, 0, 0, 0, 0, 0, ...   \n",
            "\n",
            "      vote_users  cast_total_FBLikes  \\\n",
            "1387       31113               10838   \n",
            "3761        7319                3004   \n",
            "4649       64748               15800   \n",
            "909         6082                2397   \n",
            "711       116681                4811   \n",
            "\n",
            "                                              act3_name  \\\n",
            "1387  [0, 0, 0, 0, 0, 0, 0, 0, 0, 0, 0, 0, 0, 0, 0, ...   \n",
            "3761  [0, 0, 0, 0, 0, 0, 0, 0, 0, 0, 0, 0, 0, 0, 0, ...   \n",
            "4649  [0, 0, 0, 0, 0, 0, 0, 0, 0, 0, 0, 0, 0, 0, 0, ...   \n",
            "909   [0, 0, 0, 0, 0, 0, 0, 0, 0, 0, 0, 0, 0, 0, 0, ...   \n",
            "711   [0, 0, 0, 0, 0, 0, 0, 0, 0, 0, 0, 0, 0, 0, 0, ...   \n",
            "\n",
            "                                               keywords  review_users  \\\n",
            "1387  [0, 0, 0, 0, 0, 0, 0, 0, 0, 0, 0, 0, 0, 0, 0, ...         212.0   \n",
            "3761  [0, 0, 0, 0, 0, 0, 0, 0, 0, 0, 0, 0, 0, 0, 0, ...         131.0   \n",
            "4649  [0, 0, 0, 0, 0, 0, 0, 0, 0, 0, 0, 0, 0, 0, 0, ...         122.0   \n",
            "909   [0, 0, 0, 0, 0, 0, 0, 0, 0, 0, 0, 0, 0, 0, 0, ...         207.0   \n",
            "711   [0, 0, 0, 0, 0, 0, 0, 0, 0, 0, 0, 0, 0, 0, 0, ...         320.0   \n",
            "\n",
            "          budget  act2_FBLikes  movie_FBLikes  rating  \n",
            "1387  34000000.0        1000.0            852     5.7  \n",
            "3761   5000000.0         591.0            327     5.3  \n",
            "4649  15000000.0        1000.0          12000     6.5  \n",
            "909   55000000.0         637.0            853     5.9  \n",
            "711   60000000.0         899.0          11000     7.1  \n"
          ]
        }
      ]
    },
    {
      "cell_type": "code",
      "source": [
        "print('Movie: ' + movies_sample.iloc[0][0] + '\\nRating: ' + str(movies_sample.iloc[0][-1]) + '\\n')\n",
        "plot_binaries(movies_sample.iloc[0])"
      ],
      "metadata": {
        "colab": {
          "base_uri": "https://localhost:8080/",
          "height": 154
        },
        "id": "4-8IAUHb9RLQ",
        "outputId": "cce95e2a-fa39-4864-803c-9ec3827cc994"
      },
      "execution_count": null,
      "outputs": [
        {
          "output_type": "stream",
          "name": "stdout",
          "text": [
            "Movie: Reindeer Games \n",
            "Rating: 5.7\n",
            "\n"
          ]
        },
        {
          "output_type": "display_data",
          "data": {
            "text/plain": [
              "<Figure size 720x72 with 5 Axes>"
            ],
            "image/png": "[encoded data removed]"
          },
          "metadata": {}
        }
      ]
    },
    {
      "cell_type": "code",
      "source": [
        "print('Movie:' + movies_sample.iloc[1][0] + '\\nRating: ' + str(movies_sample.iloc[1][-1]) + '\\n')\n",
        "plot_binaries(movies_sample.iloc[1])"
      ],
      "metadata": {
        "colab": {
          "base_uri": "https://localhost:8080/",
          "height": 154
        },
        "outputId": "166ddcc9-55c7-4fb3-8c9b-5cc5143181b2",
        "id": "hMo2lJiACibv"
      },
      "execution_count": null,
      "outputs": [
        {
          "output_type": "stream",
          "name": "stdout",
          "text": [
            "Movie:The Forsaken \n",
            "Rating: 5.3\n",
            "\n"
          ]
        },
        {
          "output_type": "display_data",
          "data": {
            "text/plain": [
              "<Figure size 720x72 with 5 Axes>"
            ],
            "image/png": "[encoded data removed]"
          },
          "metadata": {}
        }
      ]
    },
    {
      "cell_type": "code",
      "source": [
        "print('Movie:' + movies_sample.iloc[2][0] + '\\nRating: ' + str(movies_sample.iloc[2][-1]) + '\\n')\n",
        "plot_binaries(movies_sample.iloc[2])"
      ],
      "metadata": {
        "colab": {
          "base_uri": "https://localhost:8080/",
          "height": 154
        },
        "outputId": "12b395dd-61ac-47ac-d953-ac65fc2a3861",
        "id": "gfPOC8jkCiv5"
      },
      "execution_count": null,
      "outputs": [
        {
          "output_type": "stream",
          "name": "stdout",
          "text": [
            "Movie:Snitch \n",
            "Rating: 6.5\n",
            "\n"
          ]
        },
        {
          "output_type": "display_data",
          "data": {
            "text/plain": [
              "<Figure size 720x72 with 5 Axes>"
            ],
            "image/png": "[encoded data removed]"
          },
          "metadata": {}
        }
      ]
    },
    {
      "cell_type": "code",
      "source": [
        "print('Movie:' + movies_sample.iloc[3][0] + '\\nRating: ' + str(movies_sample.iloc[3][-1]) + '\\n')\n",
        "plot_binaries(movies_sample.iloc[3])"
      ],
      "metadata": {
        "colab": {
          "base_uri": "https://localhost:8080/",
          "height": 154
        },
        "outputId": "c11d0c3c-d33f-4d76-d261-cce906c69f55",
        "id": "HfH1h8TbCi7b"
      },
      "execution_count": null,
      "outputs": [
        {
          "output_type": "stream",
          "name": "stdout",
          "text": [
            "Movie:Beloved \n",
            "Rating: 5.9\n",
            "\n"
          ]
        },
        {
          "output_type": "display_data",
          "data": {
            "text/plain": [
              "<Figure size 720x72 with 5 Axes>"
            ],
            "image/png": "[encoded data removed]"
          },
          "metadata": {}
        }
      ]
    },
    {
      "cell_type": "code",
      "source": [
        "print('Movie:' + movies_sample.iloc[4][0] + '\\nRating: ' + str(movies_sample.iloc[4][-1]) + '\\n')\n",
        "plot_binaries(movies_sample.iloc[4])"
      ],
      "metadata": {
        "colab": {
          "base_uri": "https://localhost:8080/",
          "height": 154
        },
        "outputId": "b0ebbe1c-b8a1-4d08-fc3a-3589257deda4",
        "id": "q949TEI1CjXw"
      },
      "execution_count": null,
      "outputs": [
        {
          "output_type": "stream",
          "name": "stdout",
          "text": [
            "Movie:Marley & Me \n",
            "Rating: 7.1\n",
            "\n"
          ]
        },
        {
          "output_type": "display_data",
          "data": {
            "text/plain": [
              "<Figure size 720x72 with 5 Axes>"
            ],
            "image/png": "[encoded data removed]"
          },
          "metadata": {}
        }
      ]
    },
    {
      "cell_type": "markdown",
      "source": [
        "We notice a correlation between the movie rating and the shift of the sub-features (i.e., the unique-values of the features' lists) to the right side; the most the sub-features are right-shifted, the more likely the movie rating is. \n",
        "Therefore, it is possible to assign scaled weights to those sub-features, and then to weight those list-features by a score, which can be a decimal number, that is calculated by summing the weights of the sub-features."
      ],
      "metadata": {
        "id": "_FZjo8gmTuqA"
      }
    },
    {
      "cell_type": "markdown",
      "source": [
        "* **Finding the concentration points in each array**\n",
        "\n",
        "Find areas where numbers are grouped, and identify points that resemble the centers of binary distribution\n",
        "\n",
        "For example: [1110001111100101] -> [0300000050000020] -> [(1,3), (8,5), (14,2)] tuple[0] is the index of concentration, tuple[1] is the number of 1's about index"
      ],
      "metadata": {
        "id": "n5jmHweFl6qH"
      }
    },
    {
      "cell_type": "code",
      "source": [
        "def split_arr(arr, n_splits):\n",
        "    # looping till length l \n",
        "    for i in range(0, len(arr), n_splits):  \n",
        "        yield arr[i:i + n_splits]\n"
      ],
      "metadata": {
        "id": "dwVXHJIJIyBD"
      },
      "execution_count": null,
      "outputs": []
    },
    {
      "cell_type": "code",
      "source": [
        "def find_concentration(arr, n = 100): # n is the number of concentration points to find\n",
        "    #seperate array into batches\n",
        "    batches = list(split_arr(arr,int(len(arr)/n)))\n",
        "    concentrations = []\n",
        "    for i in range(len(batches)):\n",
        "        point = 0\n",
        "        num_ones = 0\n",
        "        for j in range(len(batches[i])):\n",
        "            if batches[i][j] == 1:\n",
        "                point += j + (i * int(len(arr)/n)) # adding correction for batches\n",
        "                num_ones += 1\n",
        "        if num_ones > 0:\n",
        "            point = point/num_ones\n",
        "            concentrations.append((point,num_ones))\n",
        "    return concentrations\n"
      ],
      "metadata": {
        "id": "PrQ3N-fuJAyi"
      },
      "execution_count": null,
      "outputs": []
    },
    {
      "cell_type": "code",
      "source": [
        "def to_concentrations(df, feature_names):\n",
        "    for feature_name in feature_names:\n",
        "        print('feature: ', feature_name)\n",
        "        df[feature_name] = df[feature_name].apply(lambda x: find_concentration(x))\n",
        "    return df"
      ],
      "metadata": {
        "id": "JNbw6itRI1wZ"
      },
      "execution_count": null,
      "outputs": []
    },
    {
      "cell_type": "code",
      "source": [
        "df.head()"
      ],
      "metadata": {
        "colab": {
          "base_uri": "https://localhost:8080/",
          "height": 424
        },
        "id": "MG-RsEY-e1TA",
        "outputId": "b8484362-ddd1-4727-8a56-ffd52b85600b"
      },
      "execution_count": null,
      "outputs": [
        {
          "output_type": "execute_result",
          "data": {
            "text/plain": [
              "                                    movie_title  \\\n",
              "3                        The Dark Knight Rises    \n",
              "5                                  John Carter    \n",
              "7                                      Tangled    \n",
              "9       Harry Potter and the Half-Blood Prince    \n",
              "13  Pirates of the Caribbean: Dead Man's Chest    \n",
              "\n",
              "                                        director_name  director_FBLikes  \\\n",
              "3   [0, 0, 0, 0, 0, 0, 0, 0, 0, 0, 0, 0, 0, 0, 0, ...           22000.0   \n",
              "5   [0, 0, 0, 0, 0, 0, 0, 0, 0, 0, 0, 0, 0, 0, 0, ...             475.0   \n",
              "7   [0, 0, 0, 0, 0, 0, 0, 0, 0, 0, 0, 0, 0, 0, 0, ...              15.0   \n",
              "9   [0, 0, 0, 0, 0, 0, 0, 0, 0, 0, 0, 0, 0, 0, 0, ...             282.0   \n",
              "13  [0, 0, 0, 0, 0, 0, 0, 0, 0, 0, 0, 0, 0, 0, 0, ...             563.0   \n",
              "\n",
              "    act3_FBLikes                                          act2_name  \\\n",
              "3        23000.0  [0, 0, 0, 0, 0, 0, 0, 0, 0, 0, 0, 0, 0, 0, 0, ...   \n",
              "5          530.0  [0, 0, 0, 0, 0, 0, 0, 0, 0, 0, 0, 0, 0, 0, 0, ...   \n",
              "7          284.0  [0, 0, 0, 0, 0, 0, 0, 0, 0, 0, 0, 0, 0, 0, 0, ...   \n",
              "9        10000.0  [0, 0, 0, 0, 0, 0, 0, 0, 0, 0, 0, 0, 0, 0, 0, ...   \n",
              "13        1000.0  [0, 0, 0, 0, 0, 0, 0, 0, 0, 0, 0, 0, 0, 0, 0, ...   \n",
              "\n",
              "    act1_FBLikes        gross  \\\n",
              "3        27000.0  448130642.0   \n",
              "5          640.0   73058679.0   \n",
              "7          799.0  200807262.0   \n",
              "9        25000.0  301956980.0   \n",
              "13       40000.0  423032628.0   \n",
              "\n",
              "                                            act1_name  vote_users  \\\n",
              "3   [0, 0, 0, 0, 0, 0, 0, 0, 0, 0, 0, 0, 0, 0, 0, ...     1144337   \n",
              "5   [0, 0, 0, 0, 0, 0, 0, 0, 0, 0, 0, 0, 0, 0, 0, ...      212204   \n",
              "7   [0, 0, 0, 0, 0, 0, 0, 0, 0, 0, 0, 0, 0, 0, 0, ...      294810   \n",
              "9   [0, 0, 0, 0, 0, 0, 0, 0, 0, 0, 0, 0, 0, 0, 0, ...      321795   \n",
              "13  [0, 0, 0, 0, 0, 0, 0, 0, 0, 0, 0, 0, 0, 0, 0, ...      522040   \n",
              "\n",
              "    cast_total_FBLikes                                          act3_name  \\\n",
              "3               106759  [0, 0, 0, 0, 0, 0, 0, 0, 0, 0, 0, 0, 0, 0, 0, ...   \n",
              "5                 1873  [0, 0, 0, 0, 0, 0, 0, 0, 0, 0, 0, 0, 0, 0, 0, ...   \n",
              "7                 2036  [0, 0, 0, 0, 0, 0, 0, 0, 0, 0, 0, 0, 0, 0, 0, ...   \n",
              "9                58753  [0, 0, 0, 0, 0, 0, 0, 0, 0, 0, 0, 0, 0, 0, 0, ...   \n",
              "13               48486  [0, 0, 0, 0, 0, 0, 0, 0, 0, 0, 0, 0, 0, 0, 0, ...   \n",
              "\n",
              "                                             keywords  review_users  \\\n",
              "3   [0, 0, 0, 0, 0, 0, 0, 0, 0, 0, 0, 0, 0, 0, 0, ...        2701.0   \n",
              "5   [0, 0, 0, 0, 0, 0, 0, 0, 0, 0, 0, 0, 0, 0, 0, ...         738.0   \n",
              "7   [0, 0, 0, 0, 0, 0, 0, 0, 0, 0, 0, 0, 0, 0, 0, ...         387.0   \n",
              "9   [0, 0, 0, 0, 0, 0, 0, 0, 0, 0, 0, 0, 0, 0, 0, ...         973.0   \n",
              "13  [0, 0, 0, 0, 0, 0, 0, 0, 0, 0, 0, 0, 0, 0, 0, ...        1832.0   \n",
              "\n",
              "         budget  act2_FBLikes  movie_FBLikes  rating  \n",
              "3   250000000.0       23000.0         164000     8.5  \n",
              "5   263700000.0         632.0          24000     6.6  \n",
              "7   260000000.0         553.0          29000     7.8  \n",
              "9   250000000.0       11000.0          10000     7.5  \n",
              "13  225000000.0        5000.0           5000     7.3  "
            ],
            "text/html": [
              "\n",
              "  <div id=\"df-0292f7ea-8856-4f24-9bd8-80ab565c7a4e\">\n",
              "    <div class=\"colab-df-container\">\n",
              "      <div>\n",
              "<style scoped>\n",
              "    .dataframe tbody tr th:only-of-type {\n",
              "        vertical-align: middle;\n",
              "    }\n",
              "\n",
              "    .dataframe tbody tr th {\n",
              "        vertical-align: top;\n",
              "    }\n",
              "\n",
              "    .dataframe thead th {\n",
              "        text-align: right;\n",
              "    }\n",
              "</style>\n",
              "<table border=\"1\" class=\"dataframe\">\n",
              "  <thead>\n",
              "    <tr style=\"text-align: right;\">\n",
              "      <th></th>\n",
              "      <th>movie_title</th>\n",
              "      <th>director_name</th>\n",
              "      <th>director_FBLikes</th>\n",
              "      <th>act3_FBLikes</th>\n",
              "      <th>act2_name</th>\n",
              "      <th>act1_FBLikes</th>\n",
              "      <th>gross</th>\n",
              "      <th>act1_name</th>\n",
              "      <th>vote_users</th>\n",
              "      <th>cast_total_FBLikes</th>\n",
              "      <th>act3_name</th>\n",
              "      <th>keywords</th>\n",
              "      <th>review_users</th>\n",
              "      <th>budget</th>\n",
              "      <th>act2_FBLikes</th>\n",
              "      <th>movie_FBLikes</th>\n",
              "      <th>rating</th>\n",
              "    </tr>\n",
              "  </thead>\n",
              "  <tbody>\n",
              "    <tr>\n",
              "      <th>3</th>\n",
              "      <td>The Dark Knight Rises</td>\n",
              "      <td>[0, 0, 0, 0, 0, 0, 0, 0, 0, 0, 0, 0, 0, 0, 0, ...</td>\n",
              "      <td>22000.0</td>\n",
              "      <td>23000.0</td>\n",
              "      <td>[0, 0, 0, 0, 0, 0, 0, 0, 0, 0, 0, 0, 0, 0, 0, ...</td>\n",
              "      <td>27000.0</td>\n",
              "      <td>448130642.0</td>\n",
              "      <td>[0, 0, 0, 0, 0, 0, 0, 0, 0, 0, 0, 0, 0, 0, 0, ...</td>\n",
              "      <td>1144337</td>\n",
              "      <td>106759</td>\n",
              "      <td>[0, 0, 0, 0, 0, 0, 0, 0, 0, 0, 0, 0, 0, 0, 0, ...</td>\n",
              "      <td>[0, 0, 0, 0, 0, 0, 0, 0, 0, 0, 0, 0, 0, 0, 0, ...</td>\n",
              "      <td>2701.0</td>\n",
              "      <td>250000000.0</td>\n",
              "      <td>23000.0</td>\n",
              "      <td>164000</td>\n",
              "      <td>8.5</td>\n",
              "    </tr>\n",
              "    <tr>\n",
              "      <th>5</th>\n",
              "      <td>John Carter</td>\n",
              "      <td>[0, 0, 0, 0, 0, 0, 0, 0, 0, 0, 0, 0, 0, 0, 0, ...</td>\n",
              "      <td>475.0</td>\n",
              "      <td>530.0</td>\n",
              "      <td>[0, 0, 0, 0, 0, 0, 0, 0, 0, 0, 0, 0, 0, 0, 0, ...</td>\n",
              "      <td>640.0</td>\n",
              "      <td>73058679.0</td>\n",
              "      <td>[0, 0, 0, 0, 0, 0, 0, 0, 0, 0, 0, 0, 0, 0, 0, ...</td>\n",
              "      <td>212204</td>\n",
              "      <td>1873</td>\n",
              "      <td>[0, 0, 0, 0, 0, 0, 0, 0, 0, 0, 0, 0, 0, 0, 0, ...</td>\n",
              "      <td>[0, 0, 0, 0, 0, 0, 0, 0, 0, 0, 0, 0, 0, 0, 0, ...</td>\n",
              "      <td>738.0</td>\n",
              "      <td>263700000.0</td>\n",
              "      <td>632.0</td>\n",
              "      <td>24000</td>\n",
              "      <td>6.6</td>\n",
              "    </tr>\n",
              "    <tr>\n",
              "      <th>7</th>\n",
              "      <td>Tangled</td>\n",
              "      <td>[0, 0, 0, 0, 0, 0, 0, 0, 0, 0, 0, 0, 0, 0, 0, ...</td>\n",
              "      <td>15.0</td>\n",
              "      <td>284.0</td>\n",
              "      <td>[0, 0, 0, 0, 0, 0, 0, 0, 0, 0, 0, 0, 0, 0, 0, ...</td>\n",
              "      <td>799.0</td>\n",
              "      <td>200807262.0</td>\n",
              "      <td>[0, 0, 0, 0, 0, 0, 0, 0, 0, 0, 0, 0, 0, 0, 0, ...</td>\n",
              "      <td>294810</td>\n",
              "      <td>2036</td>\n",
              "      <td>[0, 0, 0, 0, 0, 0, 0, 0, 0, 0, 0, 0, 0, 0, 0, ...</td>\n",
              "      <td>[0, 0, 0, 0, 0, 0, 0, 0, 0, 0, 0, 0, 0, 0, 0, ...</td>\n",
              "      <td>387.0</td>\n",
              "      <td>260000000.0</td>\n",
              "      <td>553.0</td>\n",
              "      <td>29000</td>\n",
              "      <td>7.8</td>\n",
              "    </tr>\n",
              "    <tr>\n",
              "      <th>9</th>\n",
              "      <td>Harry Potter and the Half-Blood Prince</td>\n",
              "      <td>[0, 0, 0, 0, 0, 0, 0, 0, 0, 0, 0, 0, 0, 0, 0, ...</td>\n",
              "      <td>282.0</td>\n",
              "      <td>10000.0</td>\n",
              "      <td>[0, 0, 0, 0, 0, 0, 0, 0, 0, 0, 0, 0, 0, 0, 0, ...</td>\n",
              "      <td>25000.0</td>\n",
              "      <td>301956980.0</td>\n",
              "      <td>[0, 0, 0, 0, 0, 0, 0, 0, 0, 0, 0, 0, 0, 0, 0, ...</td>\n",
              "      <td>321795</td>\n",
              "      <td>58753</td>\n",
              "      <td>[0, 0, 0, 0, 0, 0, 0, 0, 0, 0, 0, 0, 0, 0, 0, ...</td>\n",
              "      <td>[0, 0, 0, 0, 0, 0, 0, 0, 0, 0, 0, 0, 0, 0, 0, ...</td>\n",
              "      <td>973.0</td>\n",
              "      <td>250000000.0</td>\n",
              "      <td>11000.0</td>\n",
              "      <td>10000</td>\n",
              "      <td>7.5</td>\n",
              "    </tr>\n",
              "    <tr>\n",
              "      <th>13</th>\n",
              "      <td>Pirates of the Caribbean: Dead Man's Chest</td>\n",
              "      <td>[0, 0, 0, 0, 0, 0, 0, 0, 0, 0, 0, 0, 0, 0, 0, ...</td>\n",
              "      <td>563.0</td>\n",
              "      <td>1000.0</td>\n",
              "      <td>[0, 0, 0, 0, 0, 0, 0, 0, 0, 0, 0, 0, 0, 0, 0, ...</td>\n",
              "      <td>40000.0</td>\n",
              "      <td>423032628.0</td>\n",
              "      <td>[0, 0, 0, 0, 0, 0, 0, 0, 0, 0, 0, 0, 0, 0, 0, ...</td>\n",
              "      <td>522040</td>\n",
              "      <td>48486</td>\n",
              "      <td>[0, 0, 0, 0, 0, 0, 0, 0, 0, 0, 0, 0, 0, 0, 0, ...</td>\n",
              "      <td>[0, 0, 0, 0, 0, 0, 0, 0, 0, 0, 0, 0, 0, 0, 0, ...</td>\n",
              "      <td>1832.0</td>\n",
              "      <td>225000000.0</td>\n",
              "      <td>5000.0</td>\n",
              "      <td>5000</td>\n",
              "      <td>7.3</td>\n",
              "    </tr>\n",
              "  </tbody>\n",
              "</table>\n",
              "</div>\n",
              "      <button class=\"colab-df-convert\" onclick=\"convertToInteractive('df-0292f7ea-8856-4f24-9bd8-80ab565c7a4e')\"\n",
              "              title=\"Convert this dataframe to an interactive table.\"\n",
              "              style=\"display:none;\">\n",
              "        \n",
              "  <svg xmlns=\"http://www.w3.org/2000/svg\" height=\"24px\"viewBox=\"0 0 24 24\"\n",
              "       width=\"24px\">\n",
              "    <path d=\"M0 0h24v24H0V0z\" fill=\"none\"/>\n",
              "    <path d=\"M18.56 5.44l.94 2.06.94-2.06 2.06-.94-2.06-.94-.94-2.06-.94 2.06-2.06.94zm-11 1L8.5 8.5l.94-2.06 2.06-.94-2.06-.94L8.5 2.5l-.94 2.06-2.06.94zm10 10l.94 2.06.94-2.06 2.06-.94-2.06-.94-.94-2.06-.94 2.06-2.06.94z\"/><path d=\"M17.41 7.96l-1.37-1.37c-.4-.4-.92-.59-1.43-.59-.52 0-1.04.2-1.43.59L10.3 9.45l-7.72 7.72c-.78.78-.78 2.05 0 2.83L4 21.41c.39.39.9.59 1.41.59.51 0 1.02-.2 1.41-.59l7.78-7.78 2.81-2.81c.8-.78.8-2.07 0-2.86zM5.41 20L4 18.59l7.72-7.72 1.47 1.35L5.41 20z\"/>\n",
              "  </svg>\n",
              "      </button>\n",
              "      \n",
              "  <style>\n",
              "    .colab-df-container {\n",
              "      display:flex;\n",
              "      flex-wrap:wrap;\n",
              "      gap: 12px;\n",
              "    }\n",
              "\n",
              "    .colab-df-convert {\n",
              "      background-color: #E8F0FE;\n",
              "      border: none;\n",
              "      border-radius: 50%;\n",
              "      cursor: pointer;\n",
              "      display: none;\n",
              "      fill: #1967D2;\n",
              "      height: 32px;\n",
              "      padding: 0 0 0 0;\n",
              "      width: 32px;\n",
              "    }\n",
              "\n",
              "    .colab-df-convert:hover {\n",
              "      background-color: #E2EBFA;\n",
              "      box-shadow: 0px 1px 2px rgba(60, 64, 67, 0.3), 0px 1px 3px 1px rgba(60, 64, 67, 0.15);\n",
              "      fill: #174EA6;\n",
              "    }\n",
              "\n",
              "    [theme=dark] .colab-df-convert {\n",
              "      background-color: #3B4455;\n",
              "      fill: #D2E3FC;\n",
              "    }\n",
              "\n",
              "    [theme=dark] .colab-df-convert:hover {\n",
              "      background-color: #434B5C;\n",
              "      box-shadow: 0px 1px 3px 1px rgba(0, 0, 0, 0.15);\n",
              "      filter: drop-shadow(0px 1px 2px rgba(0, 0, 0, 0.3));\n",
              "      fill: #FFFFFF;\n",
              "    }\n",
              "  </style>\n",
              "\n",
              "      <script>\n",
              "        const buttonEl =\n",
              "          document.querySelector('#df-0292f7ea-8856-4f24-9bd8-80ab565c7a4e button.colab-df-convert');\n",
              "        buttonEl.style.display =\n",
              "          google.colab.kernel.accessAllowed ? 'block' : 'none';\n",
              "\n",
              "        async function convertToInteractive(key) {\n",
              "          const element = document.querySelector('#df-0292f7ea-8856-4f24-9bd8-80ab565c7a4e');\n",
              "          const dataTable =\n",
              "            await google.colab.kernel.invokeFunction('convertToInteractive',\n",
              "                                                     [key], {});\n",
              "          if (!dataTable) return;\n",
              "\n",
              "          const docLinkHtml = 'Like what you see? Visit the ' +\n",
              "            '<a target=\"_blank\" href=https://colab.research.google.com/notebooks/data_table.ipynb>data table notebook</a>'\n",
              "            + ' to learn more about interactive tables.';\n",
              "          element.innerHTML = '';\n",
              "          dataTable['output_type'] = 'display_data';\n",
              "          await google.colab.output.renderOutput(dataTable, element);\n",
              "          const docLink = document.createElement('div');\n",
              "          docLink.innerHTML = docLinkHtml;\n",
              "          element.appendChild(docLink);\n",
              "        }\n",
              "      </script>\n",
              "    </div>\n",
              "  </div>\n",
              "  "
            ]
          },
          "metadata": {},
          "execution_count": 60
        }
      ]
    },
    {
      "cell_type": "code",
      "source": [
        "list_features = ['director_name','act2_name','act1_name','act3_name','keywords']"
      ],
      "metadata": {
        "id": "zgtl9eeIV-TG"
      },
      "execution_count": null,
      "outputs": []
    },
    {
      "cell_type": "code",
      "source": [
        "df = to_concentrations(df, list_features)"
      ],
      "metadata": {
        "colab": {
          "base_uri": "https://localhost:8080/"
        },
        "id": "a6FJMLkUbXMc",
        "outputId": "2ae5a35f-96c4-46a4-fc4a-6a0628ee284d"
      },
      "execution_count": null,
      "outputs": [
        {
          "output_type": "stream",
          "name": "stdout",
          "text": [
            "feature:  director_name\n",
            "feature:  act2_name\n",
            "feature:  act1_name\n",
            "feature:  act3_name\n",
            "feature:  keywords\n"
          ]
        }
      ]
    },
    {
      "cell_type": "code",
      "source": [
        "df.sample(5)"
      ],
      "metadata": {
        "colab": {
          "base_uri": "https://localhost:8080/",
          "height": 250
        },
        "id": "7l_BtrGILL2N",
        "outputId": "10cab765-7d78-44fc-f1a3-ca271a0f5596"
      },
      "execution_count": null,
      "outputs": [
        {
          "output_type": "execute_result",
          "data": {
            "text/plain": [
              "               movie_title  director_name  director_FBLikes  act3_FBLikes  \\\n",
              "2107        Hail, Caesar!   [(1379.0, 1)]            1000.0        1000.0   \n",
              "3922            Secretary   [(1141.0, 1)]              30.0         296.0   \n",
              "2650  Clash of the Titans    [(938.0, 1)]             255.0         850.0   \n",
              "1852             Brothers    [(775.0, 1)]             260.0        3000.0   \n",
              "1376     How to Be Single    [(608.0, 1)]              11.0         591.0   \n",
              "\n",
              "          act2_name  act1_FBLikes        gross      act1_name  vote_users  \\\n",
              "2107   [(769.0, 1)]       19000.0   29997095.0  [(1010.0, 1)]       60926   \n",
              "3922  [(1724.0, 1)]         769.0    4046737.0  [(1141.0, 1)]       67949   \n",
              "2650  [(1253.0, 1)]       14000.0  163192114.0   [(787.0, 1)]      229687   \n",
              "1852  [(1886.0, 1)]       20000.0   28501651.0   [(946.0, 1)]       88035   \n",
              "1376   [(866.0, 1)]        2000.0   46813366.0   [(532.0, 1)]       39440   \n",
              "\n",
              "      cast_total_FBLikes      act3_name  \\\n",
              "2107               38494  [(1099.0, 1)]   \n",
              "3922                2251  [(1963.0, 1)]   \n",
              "2650               18003   [(554.0, 1)]   \n",
              "1852               42473  [(2008.0, 1)]   \n",
              "1376                4882   [(878.0, 1)]   \n",
              "\n",
              "                                               keywords  review_users  \\\n",
              "2107  [(959.0, 1), (1275.0, 1), (2771.0, 1), (2832.0...         302.0   \n",
              "3922  [(2450.0, 1), (4316.0, 1), (5043.0, 1), (5301....         390.0   \n",
              "2650  [(1342.0, 1), (1400.0, 1), (2097.0, 1), (2378....         637.0   \n",
              "1852  [(2766.0, 1), (3390.0, 1), (4765.0, 1), (5070....         201.0   \n",
              "1376  [(1752.0, 1), (1992.0, 1), (2045.0, 1), (2662....          83.0   \n",
              "\n",
              "           budget  act2_FBLikes  movie_FBLikes  rating  \n",
              "2107   22000000.0       17000.0          23000     6.4  \n",
              "3922    4000000.0         413.0          15000     7.1  \n",
              "2650  125000000.0        1000.0          15000     5.8  \n",
              "1852   26000000.0       15000.0          10000     7.1  \n",
              "1376   38000000.0         756.0          15000     6.1  "
            ],
            "text/html": [
              "\n",
              "  <div id=\"df-2dacacda-5921-4cdd-9d58-411233a29346\">\n",
              "    <div class=\"colab-df-container\">\n",
              "      <div>\n",
              "<style scoped>\n",
              "    .dataframe tbody tr th:only-of-type {\n",
              "        vertical-align: middle;\n",
              "    }\n",
              "\n",
              "    .dataframe tbody tr th {\n",
              "        vertical-align: top;\n",
              "    }\n",
              "\n",
              "    .dataframe thead th {\n",
              "        text-align: right;\n",
              "    }\n",
              "</style>\n",
              "<table border=\"1\" class=\"dataframe\">\n",
              "  <thead>\n",
              "    <tr style=\"text-align: right;\">\n",
              "      <th></th>\n",
              "      <th>movie_title</th>\n",
              "      <th>director_name</th>\n",
              "      <th>director_FBLikes</th>\n",
              "      <th>act3_FBLikes</th>\n",
              "      <th>act2_name</th>\n",
              "      <th>act1_FBLikes</th>\n",
              "      <th>gross</th>\n",
              "      <th>act1_name</th>\n",
              "      <th>vote_users</th>\n",
              "      <th>cast_total_FBLikes</th>\n",
              "      <th>act3_name</th>\n",
              "      <th>keywords</th>\n",
              "      <th>review_users</th>\n",
              "      <th>budget</th>\n",
              "      <th>act2_FBLikes</th>\n",
              "      <th>movie_FBLikes</th>\n",
              "      <th>rating</th>\n",
              "    </tr>\n",
              "  </thead>\n",
              "  <tbody>\n",
              "    <tr>\n",
              "      <th>2107</th>\n",
              "      <td>Hail, Caesar!</td>\n",
              "      <td>[(1379.0, 1)]</td>\n",
              "      <td>1000.0</td>\n",
              "      <td>1000.0</td>\n",
              "      <td>[(769.0, 1)]</td>\n",
              "      <td>19000.0</td>\n",
              "      <td>29997095.0</td>\n",
              "      <td>[(1010.0, 1)]</td>\n",
              "      <td>60926</td>\n",
              "      <td>38494</td>\n",
              "      <td>[(1099.0, 1)]</td>\n",
              "      <td>[(959.0, 1), (1275.0, 1), (2771.0, 1), (2832.0...</td>\n",
              "      <td>302.0</td>\n",
              "      <td>22000000.0</td>\n",
              "      <td>17000.0</td>\n",
              "      <td>23000</td>\n",
              "      <td>6.4</td>\n",
              "    </tr>\n",
              "    <tr>\n",
              "      <th>3922</th>\n",
              "      <td>Secretary</td>\n",
              "      <td>[(1141.0, 1)]</td>\n",
              "      <td>30.0</td>\n",
              "      <td>296.0</td>\n",
              "      <td>[(1724.0, 1)]</td>\n",
              "      <td>769.0</td>\n",
              "      <td>4046737.0</td>\n",
              "      <td>[(1141.0, 1)]</td>\n",
              "      <td>67949</td>\n",
              "      <td>2251</td>\n",
              "      <td>[(1963.0, 1)]</td>\n",
              "      <td>[(2450.0, 1), (4316.0, 1), (5043.0, 1), (5301....</td>\n",
              "      <td>390.0</td>\n",
              "      <td>4000000.0</td>\n",
              "      <td>413.0</td>\n",
              "      <td>15000</td>\n",
              "      <td>7.1</td>\n",
              "    </tr>\n",
              "    <tr>\n",
              "      <th>2650</th>\n",
              "      <td>Clash of the Titans</td>\n",
              "      <td>[(938.0, 1)]</td>\n",
              "      <td>255.0</td>\n",
              "      <td>850.0</td>\n",
              "      <td>[(1253.0, 1)]</td>\n",
              "      <td>14000.0</td>\n",
              "      <td>163192114.0</td>\n",
              "      <td>[(787.0, 1)]</td>\n",
              "      <td>229687</td>\n",
              "      <td>18003</td>\n",
              "      <td>[(554.0, 1)]</td>\n",
              "      <td>[(1342.0, 1), (1400.0, 1), (2097.0, 1), (2378....</td>\n",
              "      <td>637.0</td>\n",
              "      <td>125000000.0</td>\n",
              "      <td>1000.0</td>\n",
              "      <td>15000</td>\n",
              "      <td>5.8</td>\n",
              "    </tr>\n",
              "    <tr>\n",
              "      <th>1852</th>\n",
              "      <td>Brothers</td>\n",
              "      <td>[(775.0, 1)]</td>\n",
              "      <td>260.0</td>\n",
              "      <td>3000.0</td>\n",
              "      <td>[(1886.0, 1)]</td>\n",
              "      <td>20000.0</td>\n",
              "      <td>28501651.0</td>\n",
              "      <td>[(946.0, 1)]</td>\n",
              "      <td>88035</td>\n",
              "      <td>42473</td>\n",
              "      <td>[(2008.0, 1)]</td>\n",
              "      <td>[(2766.0, 1), (3390.0, 1), (4765.0, 1), (5070....</td>\n",
              "      <td>201.0</td>\n",
              "      <td>26000000.0</td>\n",
              "      <td>15000.0</td>\n",
              "      <td>10000</td>\n",
              "      <td>7.1</td>\n",
              "    </tr>\n",
              "    <tr>\n",
              "      <th>1376</th>\n",
              "      <td>How to Be Single</td>\n",
              "      <td>[(608.0, 1)]</td>\n",
              "      <td>11.0</td>\n",
              "      <td>591.0</td>\n",
              "      <td>[(866.0, 1)]</td>\n",
              "      <td>2000.0</td>\n",
              "      <td>46813366.0</td>\n",
              "      <td>[(532.0, 1)]</td>\n",
              "      <td>39440</td>\n",
              "      <td>4882</td>\n",
              "      <td>[(878.0, 1)]</td>\n",
              "      <td>[(1752.0, 1), (1992.0, 1), (2045.0, 1), (2662....</td>\n",
              "      <td>83.0</td>\n",
              "      <td>38000000.0</td>\n",
              "      <td>756.0</td>\n",
              "      <td>15000</td>\n",
              "      <td>6.1</td>\n",
              "    </tr>\n",
              "  </tbody>\n",
              "</table>\n",
              "</div>\n",
              "      <button class=\"colab-df-convert\" onclick=\"convertToInteractive('df-2dacacda-5921-4cdd-9d58-411233a29346')\"\n",
              "              title=\"Convert this dataframe to an interactive table.\"\n",
              "              style=\"display:none;\">\n",
              "        \n",
              "  <svg xmlns=\"http://www.w3.org/2000/svg\" height=\"24px\"viewBox=\"0 0 24 24\"\n",
              "       width=\"24px\">\n",
              "    <path d=\"M0 0h24v24H0V0z\" fill=\"none\"/>\n",
              "    <path d=\"M18.56 5.44l.94 2.06.94-2.06 2.06-.94-2.06-.94-.94-2.06-.94 2.06-2.06.94zm-11 1L8.5 8.5l.94-2.06 2.06-.94-2.06-.94L8.5 2.5l-.94 2.06-2.06.94zm10 10l.94 2.06.94-2.06 2.06-.94-2.06-.94-.94-2.06-.94 2.06-2.06.94z\"/><path d=\"M17.41 7.96l-1.37-1.37c-.4-.4-.92-.59-1.43-.59-.52 0-1.04.2-1.43.59L10.3 9.45l-7.72 7.72c-.78.78-.78 2.05 0 2.83L4 21.41c.39.39.9.59 1.41.59.51 0 1.02-.2 1.41-.59l7.78-7.78 2.81-2.81c.8-.78.8-2.07 0-2.86zM5.41 20L4 18.59l7.72-7.72 1.47 1.35L5.41 20z\"/>\n",
              "  </svg>\n",
              "      </button>\n",
              "      \n",
              "  <style>\n",
              "    .colab-df-container {\n",
              "      display:flex;\n",
              "      flex-wrap:wrap;\n",
              "      gap: 12px;\n",
              "    }\n",
              "\n",
              "    .colab-df-convert {\n",
              "      background-color: #E8F0FE;\n",
              "      border: none;\n",
              "      border-radius: 50%;\n",
              "      cursor: pointer;\n",
              "      display: none;\n",
              "      fill: #1967D2;\n",
              "      height: 32px;\n",
              "      padding: 0 0 0 0;\n",
              "      width: 32px;\n",
              "    }\n",
              "\n",
              "    .colab-df-convert:hover {\n",
              "      background-color: #E2EBFA;\n",
              "      box-shadow: 0px 1px 2px rgba(60, 64, 67, 0.3), 0px 1px 3px 1px rgba(60, 64, 67, 0.15);\n",
              "      fill: #174EA6;\n",
              "    }\n",
              "\n",
              "    [theme=dark] .colab-df-convert {\n",
              "      background-color: #3B4455;\n",
              "      fill: #D2E3FC;\n",
              "    }\n",
              "\n",
              "    [theme=dark] .colab-df-convert:hover {\n",
              "      background-color: #434B5C;\n",
              "      box-shadow: 0px 1px 3px 1px rgba(0, 0, 0, 0.15);\n",
              "      filter: drop-shadow(0px 1px 2px rgba(0, 0, 0, 0.3));\n",
              "      fill: #FFFFFF;\n",
              "    }\n",
              "  </style>\n",
              "\n",
              "      <script>\n",
              "        const buttonEl =\n",
              "          document.querySelector('#df-2dacacda-5921-4cdd-9d58-411233a29346 button.colab-df-convert');\n",
              "        buttonEl.style.display =\n",
              "          google.colab.kernel.accessAllowed ? 'block' : 'none';\n",
              "\n",
              "        async function convertToInteractive(key) {\n",
              "          const element = document.querySelector('#df-2dacacda-5921-4cdd-9d58-411233a29346');\n",
              "          const dataTable =\n",
              "            await google.colab.kernel.invokeFunction('convertToInteractive',\n",
              "                                                     [key], {});\n",
              "          if (!dataTable) return;\n",
              "\n",
              "          const docLinkHtml = 'Like what you see? Visit the ' +\n",
              "            '<a target=\"_blank\" href=https://colab.research.google.com/notebooks/data_table.ipynb>data table notebook</a>'\n",
              "            + ' to learn more about interactive tables.';\n",
              "          element.innerHTML = '';\n",
              "          dataTable['output_type'] = 'display_data';\n",
              "          await google.colab.output.renderOutput(dataTable, element);\n",
              "          const docLink = document.createElement('div');\n",
              "          docLink.innerHTML = docLinkHtml;\n",
              "          element.appendChild(docLink);\n",
              "        }\n",
              "      </script>\n",
              "    </div>\n",
              "  </div>\n",
              "  "
            ]
          },
          "metadata": {},
          "execution_count": 63
        }
      ]
    },
    {
      "cell_type": "markdown",
      "source": [
        " * Representing the concentration points with decimal values"
      ],
      "metadata": {
        "id": "hX_h0pi2m6zI"
      }
    },
    {
      "cell_type": "code",
      "source": [
        "def w_avg(arr):\n",
        "    weight = 0 #weight\n",
        "    s = 0 # position*weight\n",
        "    for element in arr:\n",
        "        s += (element[0] * element[1])\n",
        "        weight += element[1]\n",
        "    return s/weight #weighted average\n"
      ],
      "metadata": {
        "id": "NTIWPcs1LYMG"
      },
      "execution_count": null,
      "outputs": []
    },
    {
      "cell_type": "code",
      "source": [
        "def to_weighted_avg(df, feature_names):\n",
        "    for feature_name in feature_names:\n",
        "        print('Current: ', feature_name)\n",
        "        df[feature_name] = df[feature_name].apply(lambda x: w_avg(x))\n",
        "    return df\n"
      ],
      "metadata": {
        "id": "JRxW_afXLfbL"
      },
      "execution_count": null,
      "outputs": []
    },
    {
      "cell_type": "code",
      "source": [
        "df = to_weighted_avg(df, list_features)"
      ],
      "metadata": {
        "colab": {
          "base_uri": "https://localhost:8080/"
        },
        "id": "6TVP86yMLiRe",
        "outputId": "f84933df-3e62-4184-9d17-7ec70d888336"
      },
      "execution_count": null,
      "outputs": [
        {
          "output_type": "stream",
          "name": "stdout",
          "text": [
            "Current:  director_name\n",
            "Current:  act2_name\n",
            "Current:  act1_name\n",
            "Current:  act3_name\n",
            "Current:  keywords\n"
          ]
        }
      ]
    },
    {
      "cell_type": "code",
      "source": [
        "df.head()"
      ],
      "metadata": {
        "id": "FQvIJM3WL4LT",
        "outputId": "ff280128-b6b7-4ba9-8536-c8d6eb94afcf",
        "colab": {
          "base_uri": "https://localhost:8080/",
          "height": 206
        }
      },
      "execution_count": null,
      "outputs": [
        {
          "output_type": "execute_result",
          "data": {
            "text/plain": [
              "                                    movie_title  director_name  \\\n",
              "3                        The Dark Knight Rises          1715.0   \n",
              "5                                  John Carter          1641.0   \n",
              "7                                      Tangled          1661.0   \n",
              "9       Harry Potter and the Half-Blood Prince          1326.0   \n",
              "13  Pirates of the Caribbean: Dead Man's Chest          1250.0   \n",
              "\n",
              "    director_FBLikes  act3_FBLikes  act2_name  act1_FBLikes        gross  \\\n",
              "3            22000.0       23000.0     1983.0       27000.0  448130642.0   \n",
              "5              475.0         530.0     1736.0         640.0   73058679.0   \n",
              "7               15.0         284.0     2098.0         799.0  200807262.0   \n",
              "9              282.0       10000.0     1985.0       25000.0  301956980.0   \n",
              "13             563.0        1000.0     2085.0       40000.0  423032628.0   \n",
              "\n",
              "    act1_name  vote_users  cast_total_FBLikes  act3_name  keywords  \\\n",
              "3      1227.0     1144337              106759     2648.0    5297.2   \n",
              "5       432.0      212204                1873     1418.0    3310.8   \n",
              "7      1386.0      294810                2036     2390.0    3536.8   \n",
              "9      1226.0      321795               58753     2389.0    3887.2   \n",
              "13      947.0      522040               48486     2259.0    4526.0   \n",
              "\n",
              "    review_users       budget  act2_FBLikes  movie_FBLikes  rating  \n",
              "3         2701.0  250000000.0       23000.0         164000     8.5  \n",
              "5          738.0  263700000.0         632.0          24000     6.6  \n",
              "7          387.0  260000000.0         553.0          29000     7.8  \n",
              "9          973.0  250000000.0       11000.0          10000     7.5  \n",
              "13        1832.0  225000000.0        5000.0           5000     7.3  "
            ],
            "text/html": [
              "\n",
              "  <div id=\"df-8d74365e-8242-489e-99a8-228a12f3d326\">\n",
              "    <div class=\"colab-df-container\">\n",
              "      <div>\n",
              "<style scoped>\n",
              "    .dataframe tbody tr th:only-of-type {\n",
              "        vertical-align: middle;\n",
              "    }\n",
              "\n",
              "    .dataframe tbody tr th {\n",
              "        vertical-align: top;\n",
              "    }\n",
              "\n",
              "    .dataframe thead th {\n",
              "        text-align: right;\n",
              "    }\n",
              "</style>\n",
              "<table border=\"1\" class=\"dataframe\">\n",
              "  <thead>\n",
              "    <tr style=\"text-align: right;\">\n",
              "      <th></th>\n",
              "      <th>movie_title</th>\n",
              "      <th>director_name</th>\n",
              "      <th>director_FBLikes</th>\n",
              "      <th>act3_FBLikes</th>\n",
              "      <th>act2_name</th>\n",
              "      <th>act1_FBLikes</th>\n",
              "      <th>gross</th>\n",
              "      <th>act1_name</th>\n",
              "      <th>vote_users</th>\n",
              "      <th>cast_total_FBLikes</th>\n",
              "      <th>act3_name</th>\n",
              "      <th>keywords</th>\n",
              "      <th>review_users</th>\n",
              "      <th>budget</th>\n",
              "      <th>act2_FBLikes</th>\n",
              "      <th>movie_FBLikes</th>\n",
              "      <th>rating</th>\n",
              "    </tr>\n",
              "  </thead>\n",
              "  <tbody>\n",
              "    <tr>\n",
              "      <th>3</th>\n",
              "      <td>The Dark Knight Rises</td>\n",
              "      <td>1715.0</td>\n",
              "      <td>22000.0</td>\n",
              "      <td>23000.0</td>\n",
              "      <td>1983.0</td>\n",
              "      <td>27000.0</td>\n",
              "      <td>448130642.0</td>\n",
              "      <td>1227.0</td>\n",
              "      <td>1144337</td>\n",
              "      <td>106759</td>\n",
              "      <td>2648.0</td>\n",
              "      <td>5297.2</td>\n",
              "      <td>2701.0</td>\n",
              "      <td>250000000.0</td>\n",
              "      <td>23000.0</td>\n",
              "      <td>164000</td>\n",
              "      <td>8.5</td>\n",
              "    </tr>\n",
              "    <tr>\n",
              "      <th>5</th>\n",
              "      <td>John Carter</td>\n",
              "      <td>1641.0</td>\n",
              "      <td>475.0</td>\n",
              "      <td>530.0</td>\n",
              "      <td>1736.0</td>\n",
              "      <td>640.0</td>\n",
              "      <td>73058679.0</td>\n",
              "      <td>432.0</td>\n",
              "      <td>212204</td>\n",
              "      <td>1873</td>\n",
              "      <td>1418.0</td>\n",
              "      <td>3310.8</td>\n",
              "      <td>738.0</td>\n",
              "      <td>263700000.0</td>\n",
              "      <td>632.0</td>\n",
              "      <td>24000</td>\n",
              "      <td>6.6</td>\n",
              "    </tr>\n",
              "    <tr>\n",
              "      <th>7</th>\n",
              "      <td>Tangled</td>\n",
              "      <td>1661.0</td>\n",
              "      <td>15.0</td>\n",
              "      <td>284.0</td>\n",
              "      <td>2098.0</td>\n",
              "      <td>799.0</td>\n",
              "      <td>200807262.0</td>\n",
              "      <td>1386.0</td>\n",
              "      <td>294810</td>\n",
              "      <td>2036</td>\n",
              "      <td>2390.0</td>\n",
              "      <td>3536.8</td>\n",
              "      <td>387.0</td>\n",
              "      <td>260000000.0</td>\n",
              "      <td>553.0</td>\n",
              "      <td>29000</td>\n",
              "      <td>7.8</td>\n",
              "    </tr>\n",
              "    <tr>\n",
              "      <th>9</th>\n",
              "      <td>Harry Potter and the Half-Blood Prince</td>\n",
              "      <td>1326.0</td>\n",
              "      <td>282.0</td>\n",
              "      <td>10000.0</td>\n",
              "      <td>1985.0</td>\n",
              "      <td>25000.0</td>\n",
              "      <td>301956980.0</td>\n",
              "      <td>1226.0</td>\n",
              "      <td>321795</td>\n",
              "      <td>58753</td>\n",
              "      <td>2389.0</td>\n",
              "      <td>3887.2</td>\n",
              "      <td>973.0</td>\n",
              "      <td>250000000.0</td>\n",
              "      <td>11000.0</td>\n",
              "      <td>10000</td>\n",
              "      <td>7.5</td>\n",
              "    </tr>\n",
              "    <tr>\n",
              "      <th>13</th>\n",
              "      <td>Pirates of the Caribbean: Dead Man's Chest</td>\n",
              "      <td>1250.0</td>\n",
              "      <td>563.0</td>\n",
              "      <td>1000.0</td>\n",
              "      <td>2085.0</td>\n",
              "      <td>40000.0</td>\n",
              "      <td>423032628.0</td>\n",
              "      <td>947.0</td>\n",
              "      <td>522040</td>\n",
              "      <td>48486</td>\n",
              "      <td>2259.0</td>\n",
              "      <td>4526.0</td>\n",
              "      <td>1832.0</td>\n",
              "      <td>225000000.0</td>\n",
              "      <td>5000.0</td>\n",
              "      <td>5000</td>\n",
              "      <td>7.3</td>\n",
              "    </tr>\n",
              "  </tbody>\n",
              "</table>\n",
              "</div>\n",
              "      <button class=\"colab-df-convert\" onclick=\"convertToInteractive('df-8d74365e-8242-489e-99a8-228a12f3d326')\"\n",
              "              title=\"Convert this dataframe to an interactive table.\"\n",
              "              style=\"display:none;\">\n",
              "        \n",
              "  <svg xmlns=\"http://www.w3.org/2000/svg\" height=\"24px\"viewBox=\"0 0 24 24\"\n",
              "       width=\"24px\">\n",
              "    <path d=\"M0 0h24v24H0V0z\" fill=\"none\"/>\n",
              "    <path d=\"M18.56 5.44l.94 2.06.94-2.06 2.06-.94-2.06-.94-.94-2.06-.94 2.06-2.06.94zm-11 1L8.5 8.5l.94-2.06 2.06-.94-2.06-.94L8.5 2.5l-.94 2.06-2.06.94zm10 10l.94 2.06.94-2.06 2.06-.94-2.06-.94-.94-2.06-.94 2.06-2.06.94z\"/><path d=\"M17.41 7.96l-1.37-1.37c-.4-.4-.92-.59-1.43-.59-.52 0-1.04.2-1.43.59L10.3 9.45l-7.72 7.72c-.78.78-.78 2.05 0 2.83L4 21.41c.39.39.9.59 1.41.59.51 0 1.02-.2 1.41-.59l7.78-7.78 2.81-2.81c.8-.78.8-2.07 0-2.86zM5.41 20L4 18.59l7.72-7.72 1.47 1.35L5.41 20z\"/>\n",
              "  </svg>\n",
              "      </button>\n",
              "      \n",
              "  <style>\n",
              "    .colab-df-container {\n",
              "      display:flex;\n",
              "      flex-wrap:wrap;\n",
              "      gap: 12px;\n",
              "    }\n",
              "\n",
              "    .colab-df-convert {\n",
              "      background-color: #E8F0FE;\n",
              "      border: none;\n",
              "      border-radius: 50%;\n",
              "      cursor: pointer;\n",
              "      display: none;\n",
              "      fill: #1967D2;\n",
              "      height: 32px;\n",
              "      padding: 0 0 0 0;\n",
              "      width: 32px;\n",
              "    }\n",
              "\n",
              "    .colab-df-convert:hover {\n",
              "      background-color: #E2EBFA;\n",
              "      box-shadow: 0px 1px 2px rgba(60, 64, 67, 0.3), 0px 1px 3px 1px rgba(60, 64, 67, 0.15);\n",
              "      fill: #174EA6;\n",
              "    }\n",
              "\n",
              "    [theme=dark] .colab-df-convert {\n",
              "      background-color: #3B4455;\n",
              "      fill: #D2E3FC;\n",
              "    }\n",
              "\n",
              "    [theme=dark] .colab-df-convert:hover {\n",
              "      background-color: #434B5C;\n",
              "      box-shadow: 0px 1px 3px 1px rgba(0, 0, 0, 0.15);\n",
              "      filter: drop-shadow(0px 1px 2px rgba(0, 0, 0, 0.3));\n",
              "      fill: #FFFFFF;\n",
              "    }\n",
              "  </style>\n",
              "\n",
              "      <script>\n",
              "        const buttonEl =\n",
              "          document.querySelector('#df-8d74365e-8242-489e-99a8-228a12f3d326 button.colab-df-convert');\n",
              "        buttonEl.style.display =\n",
              "          google.colab.kernel.accessAllowed ? 'block' : 'none';\n",
              "\n",
              "        async function convertToInteractive(key) {\n",
              "          const element = document.querySelector('#df-8d74365e-8242-489e-99a8-228a12f3d326');\n",
              "          const dataTable =\n",
              "            await google.colab.kernel.invokeFunction('convertToInteractive',\n",
              "                                                     [key], {});\n",
              "          if (!dataTable) return;\n",
              "\n",
              "          const docLinkHtml = 'Like what you see? Visit the ' +\n",
              "            '<a target=\"_blank\" href=https://colab.research.google.com/notebooks/data_table.ipynb>data table notebook</a>'\n",
              "            + ' to learn more about interactive tables.';\n",
              "          element.innerHTML = '';\n",
              "          dataTable['output_type'] = 'display_data';\n",
              "          await google.colab.output.renderOutput(dataTable, element);\n",
              "          const docLink = document.createElement('div');\n",
              "          docLink.innerHTML = docLinkHtml;\n",
              "          element.appendChild(docLink);\n",
              "        }\n",
              "      </script>\n",
              "    </div>\n",
              "  </div>\n",
              "  "
            ]
          },
          "metadata": {},
          "execution_count": 67
        }
      ]
    },
    {
      "cell_type": "markdown",
      "source": [
        "## **Normalization of the features**"
      ],
      "metadata": {
        "id": "dNyk0bM4pUJy"
      }
    },
    {
      "cell_type": "markdown",
      "source": [
        "* Setting a dataframe that is formed of just the input features:"
      ],
      "metadata": {
        "id": "F_0CI_EgrVB0"
      }
    },
    {
      "cell_type": "code",
      "source": [
        "df.info()"
      ],
      "metadata": {
        "colab": {
          "base_uri": "https://localhost:8080/"
        },
        "id": "vW0o3N4r9IjB",
        "outputId": "3bf903e5-5f11-4675-c136-79bf44be8954"
      },
      "execution_count": null,
      "outputs": [
        {
          "output_type": "stream",
          "name": "stdout",
          "text": [
            "<class 'pandas.core.frame.DataFrame'>\n",
            "Int64Index: 1665 entries, 3 to 5042\n",
            "Data columns (total 17 columns):\n",
            " #   Column              Non-Null Count  Dtype  \n",
            "---  ------              --------------  -----  \n",
            " 0   movie_title         1665 non-null   object \n",
            " 1   director_name       1665 non-null   float64\n",
            " 2   director_FBLikes    1665 non-null   float64\n",
            " 3   act3_FBLikes        1665 non-null   float64\n",
            " 4   act2_name           1665 non-null   float64\n",
            " 5   act1_FBLikes        1665 non-null   float64\n",
            " 6   gross               1665 non-null   float64\n",
            " 7   act1_name           1665 non-null   float64\n",
            " 8   vote_users          1665 non-null   int64  \n",
            " 9   cast_total_FBLikes  1665 non-null   int64  \n",
            " 10  act3_name           1665 non-null   float64\n",
            " 11  keywords            1665 non-null   float64\n",
            " 12  review_users        1665 non-null   float64\n",
            " 13  budget              1665 non-null   float64\n",
            " 14  act2_FBLikes        1665 non-null   float64\n",
            " 15  movie_FBLikes       1665 non-null   int64  \n",
            " 16  rating              1665 non-null   float64\n",
            "dtypes: float64(13), int64(3), object(1)\n",
            "memory usage: 234.1+ KB\n"
          ]
        }
      ]
    },
    {
      "cell_type": "markdown",
      "source": [
        "* Re-arranging the features in a more coherant order"
      ],
      "metadata": {
        "id": "dSE7TDkYFFLR"
      }
    },
    {
      "cell_type": "code",
      "source": [
        "rearrangement = ['keywords', 'director_name', 'act1_name', 'act2_name', 'act3_name', 'director_FBLikes', 'act1_FBLikes', 'act2_FBLikes', 'act3_FBLikes', 'cast_total_FBLikes', 'movie_FBLikes', 'gross', 'budget', 'vote_users', 'review_users']"
      ],
      "metadata": {
        "id": "a4TAFhasFWUE"
      },
      "execution_count": null,
      "outputs": []
    },
    {
      "cell_type": "code",
      "source": [
        "X = df.reindex(columns = rearrangement)"
      ],
      "metadata": {
        "id": "RtFs4YM1GwxJ"
      },
      "execution_count": null,
      "outputs": []
    },
    {
      "cell_type": "code",
      "source": [
        "X.sample(5)"
      ],
      "metadata": {
        "colab": {
          "base_uri": "https://localhost:8080/",
          "height": 206
        },
        "id": "2VRwqcmp4oXL",
        "outputId": "7458902f-a97b-4455-998f-924defe6873f"
      },
      "execution_count": null,
      "outputs": [
        {
          "output_type": "execute_result",
          "data": {
            "text/plain": [
              "      keywords  director_name  act1_name  act2_name  act3_name  \\\n",
              "1269    3668.0         1535.0     1295.0     1543.0     1789.0   \n",
              "139     4901.4         1477.0      849.0     1734.0     2165.0   \n",
              "2891    3289.6         1173.0      606.0     1331.0      991.0   \n",
              "303     2064.2         1015.0      943.0      593.0      591.0   \n",
              "3416    1908.6          303.0      540.0      324.0      774.0   \n",
              "\n",
              "      director_FBLikes  act1_FBLikes  act2_FBLikes  act3_FBLikes  \\\n",
              "1269             335.0       15000.0         467.0          64.0   \n",
              "139               90.0       11000.0       10000.0          15.0   \n",
              "2891             122.0         873.0         461.0         383.0   \n",
              "303              456.0       20000.0         548.0         394.0   \n",
              "3416             387.0        8000.0         489.0         399.0   \n",
              "\n",
              "      cast_total_FBLikes  movie_FBLikes        gross       budget  vote_users  \\\n",
              "1269               15595          39000   31836745.0   40000000.0       81298   \n",
              "139                21015          20000  165230261.0  150000000.0      182718   \n",
              "2891                2812          23000   51872378.0   13000000.0       88241   \n",
              "303                21393          24000   34964818.0  150000000.0       39956   \n",
              "3416                9608            143     127144.0    8000000.0        5159   \n",
              "\n",
              "      review_users  \n",
              "1269         341.0  \n",
              "139          209.0  \n",
              "2891         266.0  \n",
              "303          186.0  \n",
              "3416          27.0  "
            ],
            "text/html": [
              "\n",
              "  <div id=\"df-2073561c-3856-4eb9-b997-93e468b65f0d\">\n",
              "    <div class=\"colab-df-container\">\n",
              "      <div>\n",
              "<style scoped>\n",
              "    .dataframe tbody tr th:only-of-type {\n",
              "        vertical-align: middle;\n",
              "    }\n",
              "\n",
              "    .dataframe tbody tr th {\n",
              "        vertical-align: top;\n",
              "    }\n",
              "\n",
              "    .dataframe thead th {\n",
              "        text-align: right;\n",
              "    }\n",
              "</style>\n",
              "<table border=\"1\" class=\"dataframe\">\n",
              "  <thead>\n",
              "    <tr style=\"text-align: right;\">\n",
              "      <th></th>\n",
              "      <th>keywords</th>\n",
              "      <th>director_name</th>\n",
              "      <th>act1_name</th>\n",
              "      <th>act2_name</th>\n",
              "      <th>act3_name</th>\n",
              "      <th>director_FBLikes</th>\n",
              "      <th>act1_FBLikes</th>\n",
              "      <th>act2_FBLikes</th>\n",
              "      <th>act3_FBLikes</th>\n",
              "      <th>cast_total_FBLikes</th>\n",
              "      <th>movie_FBLikes</th>\n",
              "      <th>gross</th>\n",
              "      <th>budget</th>\n",
              "      <th>vote_users</th>\n",
              "      <th>review_users</th>\n",
              "    </tr>\n",
              "  </thead>\n",
              "  <tbody>\n",
              "    <tr>\n",
              "      <th>1269</th>\n",
              "      <td>3668.0</td>\n",
              "      <td>1535.0</td>\n",
              "      <td>1295.0</td>\n",
              "      <td>1543.0</td>\n",
              "      <td>1789.0</td>\n",
              "      <td>335.0</td>\n",
              "      <td>15000.0</td>\n",
              "      <td>467.0</td>\n",
              "      <td>64.0</td>\n",
              "      <td>15595</td>\n",
              "      <td>39000</td>\n",
              "      <td>31836745.0</td>\n",
              "      <td>40000000.0</td>\n",
              "      <td>81298</td>\n",
              "      <td>341.0</td>\n",
              "    </tr>\n",
              "    <tr>\n",
              "      <th>139</th>\n",
              "      <td>4901.4</td>\n",
              "      <td>1477.0</td>\n",
              "      <td>849.0</td>\n",
              "      <td>1734.0</td>\n",
              "      <td>2165.0</td>\n",
              "      <td>90.0</td>\n",
              "      <td>11000.0</td>\n",
              "      <td>10000.0</td>\n",
              "      <td>15.0</td>\n",
              "      <td>21015</td>\n",
              "      <td>20000</td>\n",
              "      <td>165230261.0</td>\n",
              "      <td>150000000.0</td>\n",
              "      <td>182718</td>\n",
              "      <td>209.0</td>\n",
              "    </tr>\n",
              "    <tr>\n",
              "      <th>2891</th>\n",
              "      <td>3289.6</td>\n",
              "      <td>1173.0</td>\n",
              "      <td>606.0</td>\n",
              "      <td>1331.0</td>\n",
              "      <td>991.0</td>\n",
              "      <td>122.0</td>\n",
              "      <td>873.0</td>\n",
              "      <td>461.0</td>\n",
              "      <td>383.0</td>\n",
              "      <td>2812</td>\n",
              "      <td>23000</td>\n",
              "      <td>51872378.0</td>\n",
              "      <td>13000000.0</td>\n",
              "      <td>88241</td>\n",
              "      <td>266.0</td>\n",
              "    </tr>\n",
              "    <tr>\n",
              "      <th>303</th>\n",
              "      <td>2064.2</td>\n",
              "      <td>1015.0</td>\n",
              "      <td>943.0</td>\n",
              "      <td>593.0</td>\n",
              "      <td>591.0</td>\n",
              "      <td>456.0</td>\n",
              "      <td>20000.0</td>\n",
              "      <td>548.0</td>\n",
              "      <td>394.0</td>\n",
              "      <td>21393</td>\n",
              "      <td>24000</td>\n",
              "      <td>34964818.0</td>\n",
              "      <td>150000000.0</td>\n",
              "      <td>39956</td>\n",
              "      <td>186.0</td>\n",
              "    </tr>\n",
              "    <tr>\n",
              "      <th>3416</th>\n",
              "      <td>1908.6</td>\n",
              "      <td>303.0</td>\n",
              "      <td>540.0</td>\n",
              "      <td>324.0</td>\n",
              "      <td>774.0</td>\n",
              "      <td>387.0</td>\n",
              "      <td>8000.0</td>\n",
              "      <td>489.0</td>\n",
              "      <td>399.0</td>\n",
              "      <td>9608</td>\n",
              "      <td>143</td>\n",
              "      <td>127144.0</td>\n",
              "      <td>8000000.0</td>\n",
              "      <td>5159</td>\n",
              "      <td>27.0</td>\n",
              "    </tr>\n",
              "  </tbody>\n",
              "</table>\n",
              "</div>\n",
              "      <button class=\"colab-df-convert\" onclick=\"convertToInteractive('df-2073561c-3856-4eb9-b997-93e468b65f0d')\"\n",
              "              title=\"Convert this dataframe to an interactive table.\"\n",
              "              style=\"display:none;\">\n",
              "        \n",
              "  <svg xmlns=\"http://www.w3.org/2000/svg\" height=\"24px\"viewBox=\"0 0 24 24\"\n",
              "       width=\"24px\">\n",
              "    <path d=\"M0 0h24v24H0V0z\" fill=\"none\"/>\n",
              "    <path d=\"M18.56 5.44l.94 2.06.94-2.06 2.06-.94-2.06-.94-.94-2.06-.94 2.06-2.06.94zm-11 1L8.5 8.5l.94-2.06 2.06-.94-2.06-.94L8.5 2.5l-.94 2.06-2.06.94zm10 10l.94 2.06.94-2.06 2.06-.94-2.06-.94-.94-2.06-.94 2.06-2.06.94z\"/><path d=\"M17.41 7.96l-1.37-1.37c-.4-.4-.92-.59-1.43-.59-.52 0-1.04.2-1.43.59L10.3 9.45l-7.72 7.72c-.78.78-.78 2.05 0 2.83L4 21.41c.39.39.9.59 1.41.59.51 0 1.02-.2 1.41-.59l7.78-7.78 2.81-2.81c.8-.78.8-2.07 0-2.86zM5.41 20L4 18.59l7.72-7.72 1.47 1.35L5.41 20z\"/>\n",
              "  </svg>\n",
              "      </button>\n",
              "      \n",
              "  <style>\n",
              "    .colab-df-container {\n",
              "      display:flex;\n",
              "      flex-wrap:wrap;\n",
              "      gap: 12px;\n",
              "    }\n",
              "\n",
              "    .colab-df-convert {\n",
              "      background-color: #E8F0FE;\n",
              "      border: none;\n",
              "      border-radius: 50%;\n",
              "      cursor: pointer;\n",
              "      display: none;\n",
              "      fill: #1967D2;\n",
              "      height: 32px;\n",
              "      padding: 0 0 0 0;\n",
              "      width: 32px;\n",
              "    }\n",
              "\n",
              "    .colab-df-convert:hover {\n",
              "      background-color: #E2EBFA;\n",
              "      box-shadow: 0px 1px 2px rgba(60, 64, 67, 0.3), 0px 1px 3px 1px rgba(60, 64, 67, 0.15);\n",
              "      fill: #174EA6;\n",
              "    }\n",
              "\n",
              "    [theme=dark] .colab-df-convert {\n",
              "      background-color: #3B4455;\n",
              "      fill: #D2E3FC;\n",
              "    }\n",
              "\n",
              "    [theme=dark] .colab-df-convert:hover {\n",
              "      background-color: #434B5C;\n",
              "      box-shadow: 0px 1px 3px 1px rgba(0, 0, 0, 0.15);\n",
              "      filter: drop-shadow(0px 1px 2px rgba(0, 0, 0, 0.3));\n",
              "      fill: #FFFFFF;\n",
              "    }\n",
              "  </style>\n",
              "\n",
              "      <script>\n",
              "        const buttonEl =\n",
              "          document.querySelector('#df-2073561c-3856-4eb9-b997-93e468b65f0d button.colab-df-convert');\n",
              "        buttonEl.style.display =\n",
              "          google.colab.kernel.accessAllowed ? 'block' : 'none';\n",
              "\n",
              "        async function convertToInteractive(key) {\n",
              "          const element = document.querySelector('#df-2073561c-3856-4eb9-b997-93e468b65f0d');\n",
              "          const dataTable =\n",
              "            await google.colab.kernel.invokeFunction('convertToInteractive',\n",
              "                                                     [key], {});\n",
              "          if (!dataTable) return;\n",
              "\n",
              "          const docLinkHtml = 'Like what you see? Visit the ' +\n",
              "            '<a target=\"_blank\" href=https://colab.research.google.com/notebooks/data_table.ipynb>data table notebook</a>'\n",
              "            + ' to learn more about interactive tables.';\n",
              "          element.innerHTML = '';\n",
              "          dataTable['output_type'] = 'display_data';\n",
              "          await google.colab.output.renderOutput(dataTable, element);\n",
              "          const docLink = document.createElement('div');\n",
              "          docLink.innerHTML = docLinkHtml;\n",
              "          element.appendChild(docLink);\n",
              "        }\n",
              "      </script>\n",
              "    </div>\n",
              "  </div>\n",
              "  "
            ]
          },
          "metadata": {},
          "execution_count": 71
        }
      ]
    },
    {
      "cell_type": "code",
      "source": [
        "X.info()"
      ],
      "metadata": {
        "colab": {
          "base_uri": "https://localhost:8080/"
        },
        "id": "KmKUISLV-hKO",
        "outputId": "47b9b91f-8dc8-4047-cc9d-31b2dae50dcd"
      },
      "execution_count": null,
      "outputs": [
        {
          "output_type": "stream",
          "name": "stdout",
          "text": [
            "<class 'pandas.core.frame.DataFrame'>\n",
            "Int64Index: 1665 entries, 3 to 5042\n",
            "Data columns (total 15 columns):\n",
            " #   Column              Non-Null Count  Dtype  \n",
            "---  ------              --------------  -----  \n",
            " 0   keywords            1665 non-null   float64\n",
            " 1   director_name       1665 non-null   float64\n",
            " 2   act1_name           1665 non-null   float64\n",
            " 3   act2_name           1665 non-null   float64\n",
            " 4   act3_name           1665 non-null   float64\n",
            " 5   director_FBLikes    1665 non-null   float64\n",
            " 6   act1_FBLikes        1665 non-null   float64\n",
            " 7   act2_FBLikes        1665 non-null   float64\n",
            " 8   act3_FBLikes        1665 non-null   float64\n",
            " 9   cast_total_FBLikes  1665 non-null   int64  \n",
            " 10  movie_FBLikes       1665 non-null   int64  \n",
            " 11  gross               1665 non-null   float64\n",
            " 12  budget              1665 non-null   float64\n",
            " 13  vote_users          1665 non-null   int64  \n",
            " 14  review_users        1665 non-null   float64\n",
            "dtypes: float64(12), int64(3)\n",
            "memory usage: 208.1 KB\n"
          ]
        }
      ]
    },
    {
      "cell_type": "markdown",
      "source": [
        "Setting a dataframe for the target (i.e., the output)"
      ],
      "metadata": {
        "id": "1CCcrl9IAKkO"
      }
    },
    {
      "cell_type": "code",
      "source": [
        "y = pd.DataFrame()\n",
        "y = df[['rating']]"
      ],
      "metadata": {
        "id": "VQWR_t53_vsE"
      },
      "execution_count": null,
      "outputs": []
    },
    {
      "cell_type": "code",
      "source": [
        "y.info()"
      ],
      "metadata": {
        "colab": {
          "base_uri": "https://localhost:8080/"
        },
        "id": "6CoXHy6pACNQ",
        "outputId": "211689c6-a595-4f2e-c2a9-8397a19426d9"
      },
      "execution_count": null,
      "outputs": [
        {
          "output_type": "stream",
          "name": "stdout",
          "text": [
            "<class 'pandas.core.frame.DataFrame'>\n",
            "Int64Index: 1665 entries, 3 to 5042\n",
            "Data columns (total 1 columns):\n",
            " #   Column  Non-Null Count  Dtype  \n",
            "---  ------  --------------  -----  \n",
            " 0   rating  1665 non-null   float64\n",
            "dtypes: float64(1)\n",
            "memory usage: 26.0 KB\n"
          ]
        }
      ]
    },
    {
      "cell_type": "code",
      "source": [
        "from sklearn.preprocessing import MinMaxScaler\n",
        "scaler = MinMaxScaler()\n",
        "\n",
        "X_sc = pd.DataFrame(scaler.fit_transform(X.astype(float)))\n",
        "X_sc.index = X.index\n",
        "X_sc.columns = X.columns"
      ],
      "metadata": {
        "id": "YinRXQf4-uUH"
      },
      "execution_count": null,
      "outputs": []
    },
    {
      "cell_type": "code",
      "source": [
        "X_sc.sample(5)"
      ],
      "metadata": {
        "colab": {
          "base_uri": "https://localhost:8080/",
          "height": 206
        },
        "id": "ZoO5SG9MBMzp",
        "outputId": "1e5d51e8-1ba6-405a-ffd2-a6812bde464c"
      },
      "execution_count": null,
      "outputs": [
        {
          "output_type": "execute_result",
          "data": {
            "text/plain": [
              "      keywords  director_name  act1_name  act2_name  act3_name  \\\n",
              "3510  0.613180       0.886113   0.792313   0.951684   0.677820   \n",
              "1389  0.206007       0.549099   0.536750   0.290337   0.125940   \n",
              "2610  0.474313       0.663568   0.449764   0.777482   0.635714   \n",
              "2820  0.255311       0.227775   0.217127   0.210106   0.239850   \n",
              "1088  0.693410       0.586868   0.361430   0.748227   0.844361   \n",
              "\n",
              "      director_FBLikes  act1_FBLikes  act2_FBLikes  act3_FBLikes  \\\n",
              "3510          0.006305      0.030743      0.029555      0.017175   \n",
              "1389          0.021132      0.057667      0.482705      0.565180   \n",
              "2610          0.000087      0.065359      0.448219      0.038264   \n",
              "2820          0.020480      0.003177      0.027796      0.018567   \n",
              "1088          0.001348      0.003704      0.003035      0.003566   \n",
              "\n",
              "      cast_total_FBLikes  movie_FBLikes     gross    budget  vote_users  \\\n",
              "3510            0.037801       0.005696  0.004479  0.000573    0.020496   \n",
              "1389            0.167004       0.031485  0.032186  0.003029    0.023675   \n",
              "2610            0.117456       0.002831  0.000485  0.001269    0.003953   \n",
              "2820            0.010127       0.177622  0.292667  0.010233    0.099633   \n",
              "1088            0.004989       0.074467  0.135891  0.003684    0.044795   \n",
              "\n",
              "      review_users  \n",
              "3510      0.025080  \n",
              "1389      0.036442  \n",
              "2610      0.007288  \n",
              "2820      0.104823  \n",
              "1088      0.053591  "
            ],
            "text/html": [
              "\n",
              "  <div id=\"df-1fcf35f3-6b62-4c16-aec5-5577a2a2a91d\">\n",
              "    <div class=\"colab-df-container\">\n",
              "      <div>\n",
              "<style scoped>\n",
              "    .dataframe tbody tr th:only-of-type {\n",
              "        vertical-align: middle;\n",
              "    }\n",
              "\n",
              "    .dataframe tbody tr th {\n",
              "        vertical-align: top;\n",
              "    }\n",
              "\n",
              "    .dataframe thead th {\n",
              "        text-align: right;\n",
              "    }\n",
              "</style>\n",
              "<table border=\"1\" class=\"dataframe\">\n",
              "  <thead>\n",
              "    <tr style=\"text-align: right;\">\n",
              "      <th></th>\n",
              "      <th>keywords</th>\n",
              "      <th>director_name</th>\n",
              "      <th>act1_name</th>\n",
              "      <th>act2_name</th>\n",
              "      <th>act3_name</th>\n",
              "      <th>director_FBLikes</th>\n",
              "      <th>act1_FBLikes</th>\n",
              "      <th>act2_FBLikes</th>\n",
              "      <th>act3_FBLikes</th>\n",
              "      <th>cast_total_FBLikes</th>\n",
              "      <th>movie_FBLikes</th>\n",
              "      <th>gross</th>\n",
              "      <th>budget</th>\n",
              "      <th>vote_users</th>\n",
              "      <th>review_users</th>\n",
              "    </tr>\n",
              "  </thead>\n",
              "  <tbody>\n",
              "    <tr>\n",
              "      <th>3510</th>\n",
              "      <td>0.613180</td>\n",
              "      <td>0.886113</td>\n",
              "      <td>0.792313</td>\n",
              "      <td>0.951684</td>\n",
              "      <td>0.677820</td>\n",
              "      <td>0.006305</td>\n",
              "      <td>0.030743</td>\n",
              "      <td>0.029555</td>\n",
              "      <td>0.017175</td>\n",
              "      <td>0.037801</td>\n",
              "      <td>0.005696</td>\n",
              "      <td>0.004479</td>\n",
              "      <td>0.000573</td>\n",
              "      <td>0.020496</td>\n",
              "      <td>0.025080</td>\n",
              "    </tr>\n",
              "    <tr>\n",
              "      <th>1389</th>\n",
              "      <td>0.206007</td>\n",
              "      <td>0.549099</td>\n",
              "      <td>0.536750</td>\n",
              "      <td>0.290337</td>\n",
              "      <td>0.125940</td>\n",
              "      <td>0.021132</td>\n",
              "      <td>0.057667</td>\n",
              "      <td>0.482705</td>\n",
              "      <td>0.565180</td>\n",
              "      <td>0.167004</td>\n",
              "      <td>0.031485</td>\n",
              "      <td>0.032186</td>\n",
              "      <td>0.003029</td>\n",
              "      <td>0.023675</td>\n",
              "      <td>0.036442</td>\n",
              "    </tr>\n",
              "    <tr>\n",
              "      <th>2610</th>\n",
              "      <td>0.474313</td>\n",
              "      <td>0.663568</td>\n",
              "      <td>0.449764</td>\n",
              "      <td>0.777482</td>\n",
              "      <td>0.635714</td>\n",
              "      <td>0.000087</td>\n",
              "      <td>0.065359</td>\n",
              "      <td>0.448219</td>\n",
              "      <td>0.038264</td>\n",
              "      <td>0.117456</td>\n",
              "      <td>0.002831</td>\n",
              "      <td>0.000485</td>\n",
              "      <td>0.001269</td>\n",
              "      <td>0.003953</td>\n",
              "      <td>0.007288</td>\n",
              "    </tr>\n",
              "    <tr>\n",
              "      <th>2820</th>\n",
              "      <td>0.255311</td>\n",
              "      <td>0.227775</td>\n",
              "      <td>0.217127</td>\n",
              "      <td>0.210106</td>\n",
              "      <td>0.239850</td>\n",
              "      <td>0.020480</td>\n",
              "      <td>0.003177</td>\n",
              "      <td>0.027796</td>\n",
              "      <td>0.018567</td>\n",
              "      <td>0.010127</td>\n",
              "      <td>0.177622</td>\n",
              "      <td>0.292667</td>\n",
              "      <td>0.010233</td>\n",
              "      <td>0.099633</td>\n",
              "      <td>0.104823</td>\n",
              "    </tr>\n",
              "    <tr>\n",
              "      <th>1088</th>\n",
              "      <td>0.693410</td>\n",
              "      <td>0.586868</td>\n",
              "      <td>0.361430</td>\n",
              "      <td>0.748227</td>\n",
              "      <td>0.844361</td>\n",
              "      <td>0.001348</td>\n",
              "      <td>0.003704</td>\n",
              "      <td>0.003035</td>\n",
              "      <td>0.003566</td>\n",
              "      <td>0.004989</td>\n",
              "      <td>0.074467</td>\n",
              "      <td>0.135891</td>\n",
              "      <td>0.003684</td>\n",
              "      <td>0.044795</td>\n",
              "      <td>0.053591</td>\n",
              "    </tr>\n",
              "  </tbody>\n",
              "</table>\n",
              "</div>\n",
              "      <button class=\"colab-df-convert\" onclick=\"convertToInteractive('df-1fcf35f3-6b62-4c16-aec5-5577a2a2a91d')\"\n",
              "              title=\"Convert this dataframe to an interactive table.\"\n",
              "              style=\"display:none;\">\n",
              "        \n",
              "  <svg xmlns=\"http://www.w3.org/2000/svg\" height=\"24px\"viewBox=\"0 0 24 24\"\n",
              "       width=\"24px\">\n",
              "    <path d=\"M0 0h24v24H0V0z\" fill=\"none\"/>\n",
              "    <path d=\"M18.56 5.44l.94 2.06.94-2.06 2.06-.94-2.06-.94-.94-2.06-.94 2.06-2.06.94zm-11 1L8.5 8.5l.94-2.06 2.06-.94-2.06-.94L8.5 2.5l-.94 2.06-2.06.94zm10 10l.94 2.06.94-2.06 2.06-.94-2.06-.94-.94-2.06-.94 2.06-2.06.94z\"/><path d=\"M17.41 7.96l-1.37-1.37c-.4-.4-.92-.59-1.43-.59-.52 0-1.04.2-1.43.59L10.3 9.45l-7.72 7.72c-.78.78-.78 2.05 0 2.83L4 21.41c.39.39.9.59 1.41.59.51 0 1.02-.2 1.41-.59l7.78-7.78 2.81-2.81c.8-.78.8-2.07 0-2.86zM5.41 20L4 18.59l7.72-7.72 1.47 1.35L5.41 20z\"/>\n",
              "  </svg>\n",
              "      </button>\n",
              "      \n",
              "  <style>\n",
              "    .colab-df-container {\n",
              "      display:flex;\n",
              "      flex-wrap:wrap;\n",
              "      gap: 12px;\n",
              "    }\n",
              "\n",
              "    .colab-df-convert {\n",
              "      background-color: #E8F0FE;\n",
              "      border: none;\n",
              "      border-radius: 50%;\n",
              "      cursor: pointer;\n",
              "      display: none;\n",
              "      fill: #1967D2;\n",
              "      height: 32px;\n",
              "      padding: 0 0 0 0;\n",
              "      width: 32px;\n",
              "    }\n",
              "\n",
              "    .colab-df-convert:hover {\n",
              "      background-color: #E2EBFA;\n",
              "      box-shadow: 0px 1px 2px rgba(60, 64, 67, 0.3), 0px 1px 3px 1px rgba(60, 64, 67, 0.15);\n",
              "      fill: #174EA6;\n",
              "    }\n",
              "\n",
              "    [theme=dark] .colab-df-convert {\n",
              "      background-color: #3B4455;\n",
              "      fill: #D2E3FC;\n",
              "    }\n",
              "\n",
              "    [theme=dark] .colab-df-convert:hover {\n",
              "      background-color: #434B5C;\n",
              "      box-shadow: 0px 1px 3px 1px rgba(0, 0, 0, 0.15);\n",
              "      filter: drop-shadow(0px 1px 2px rgba(0, 0, 0, 0.3));\n",
              "      fill: #FFFFFF;\n",
              "    }\n",
              "  </style>\n",
              "\n",
              "      <script>\n",
              "        const buttonEl =\n",
              "          document.querySelector('#df-1fcf35f3-6b62-4c16-aec5-5577a2a2a91d button.colab-df-convert');\n",
              "        buttonEl.style.display =\n",
              "          google.colab.kernel.accessAllowed ? 'block' : 'none';\n",
              "\n",
              "        async function convertToInteractive(key) {\n",
              "          const element = document.querySelector('#df-1fcf35f3-6b62-4c16-aec5-5577a2a2a91d');\n",
              "          const dataTable =\n",
              "            await google.colab.kernel.invokeFunction('convertToInteractive',\n",
              "                                                     [key], {});\n",
              "          if (!dataTable) return;\n",
              "\n",
              "          const docLinkHtml = 'Like what you see? Visit the ' +\n",
              "            '<a target=\"_blank\" href=https://colab.research.google.com/notebooks/data_table.ipynb>data table notebook</a>'\n",
              "            + ' to learn more about interactive tables.';\n",
              "          element.innerHTML = '';\n",
              "          dataTable['output_type'] = 'display_data';\n",
              "          await google.colab.output.renderOutput(dataTable, element);\n",
              "          const docLink = document.createElement('div');\n",
              "          docLink.innerHTML = docLinkHtml;\n",
              "          element.appendChild(docLink);\n",
              "        }\n",
              "      </script>\n",
              "    </div>\n",
              "  </div>\n",
              "  "
            ]
          },
          "metadata": {},
          "execution_count": 76
        }
      ]
    },
    {
      "cell_type": "markdown",
      "source": [
        "## Visualization"
      ],
      "metadata": {
        "id": "kTx_gy1JBbjc"
      }
    },
    {
      "cell_type": "markdown",
      "source": [
        "* Visualising Features in a Scatterplot"
      ],
      "metadata": {
        "id": "KSwyo6VeBf2J"
      }
    },
    {
      "cell_type": "code",
      "source": [
        "fig, ax = plt.subplots(5,3, figsize=(21,40))\n",
        "\n",
        "ax[0,0].scatter(y['rating'], X_sc['keywords'], facecolor='blue')\n",
        "ax[0,0].set_xlabel('rating')\n",
        "ax[0,0].set_ylabel('keywords normalized')\n",
        "ax[0,0].set_title('keywords')\n",
        "\n",
        "ax[0,1].scatter(y['rating'], X_sc['director_name'], facecolor='red')\n",
        "ax[0,1].set_xlabel('rating')\n",
        "ax[0,1].set_ylabel('director_name normalized')\n",
        "ax[0,1].set_title('director_name')\n",
        "\n",
        "\n",
        "ax[0,2].scatter(y['rating'], X_sc['director_FBLikes'], facecolor='red')\n",
        "ax[0,2].set_xlabel('rating')\n",
        "ax[0,2].set_ylabel('director_FBLikes normalized')\n",
        "ax[0,2].set_title('director_FBLikes')\n",
        "\n",
        "ax[1,0].scatter(y['rating'], X_sc['act1_name'], facecolor='red')\n",
        "ax[1,0].set_xlabel('rating')\n",
        "ax[1,0].set_ylabel('act1_name normalized')\n",
        "ax[1,0].set_title('act1_name')\n",
        "\n",
        "ax[1,1].scatter(y['rating'], X_sc['act2_name'], facecolor='red')\n",
        "ax[1,1].set_xlabel('rating')\n",
        "ax[1,1].set_ylabel('act2_name normalized')\n",
        "ax[1,1].set_title('act2_name')\n",
        "\n",
        "ax[1,2].scatter(y['rating'], X_sc['act3_name'], facecolor='orange')\n",
        "ax[1,2].set_xlabel('rating')\n",
        "ax[1,2].set_ylabel('act3_name normalized')\n",
        "ax[1,2].set_title('act3_name')\n",
        "\n",
        "\n",
        "ax[2,0].scatter(y['rating'], X_sc['act1_FBLikes'], facecolor='green')\n",
        "ax[2,0].set_xlabel('rating')\n",
        "ax[2,0].set_ylabel('act1_FBLikes normalized')\n",
        "ax[2,0].set_title('act1_FBLikes')\n",
        "\n",
        "ax[2,1].scatter(y['rating'], X_sc['act2_FBLikes'], facecolor='orange')\n",
        "ax[2,1].set_xlabel('rating')\n",
        "ax[2,1].set_ylabel('act2_FBLikes normalized')\n",
        "ax[2,1].set_title('act2_FBLikes')\n",
        "\n",
        "ax[2,2].scatter(y['rating'], X_sc['act3_FBLikes'], facecolor='orange')\n",
        "ax[2,2].set_xlabel('rating')\n",
        "ax[2,2].set_ylabel('act3_FBLikes normalized')\n",
        "ax[2,2].set_title('act3_FBLikes')\n",
        "\n",
        "ax[3,0].scatter(y['rating'], X_sc['cast_total_FBLikes'], facecolor='blue')\n",
        "ax[3,0].set_xlabel('rating')\n",
        "ax[3,0].set_ylabel('cast_total_FBLikes normalized')\n",
        "ax[3,0].set_title('cast_total_FBLikes')\n",
        "\n",
        "ax[3,1].scatter(y['rating'], X_sc['movie_FBLikes'], facecolor='red')\n",
        "ax[3,1].set_xlabel('rating')\n",
        "ax[3,1].set_ylabel('movie_FBLikes normalized')\n",
        "ax[3,1].set_title('movie_FBLikes')\n",
        "\n",
        "ax[3,2].scatter(y['rating'], X_sc['gross'], facecolor='red')\n",
        "ax[3,2].set_xlabel('rating')\n",
        "ax[3,2].set_ylabel('gross normalized')\n",
        "ax[3,2].set_title('gross')\n",
        "\n",
        "ax[4,0].scatter(y['rating'], X_sc['budget'], facecolor='green')\n",
        "ax[4,0].set_xlabel('rating')\n",
        "ax[4,0].set_ylabel('budget normalized')\n",
        "ax[4,0].set_title('budget')\n",
        "\n",
        "ax[4,1].scatter(y['rating'], X_sc['vote_users'], facecolor='orange')\n",
        "ax[4,1].set_xlabel('rating')\n",
        "ax[4,1].set_ylabel('vote_users normalized')\n",
        "ax[4,1].set_title('vote_users')\n",
        "\n",
        "ax[4,2].scatter(y['rating'], X_sc['review_users'], facecolor='orange')\n",
        "ax[4,2].set_xlabel('rating')\n",
        "ax[4,2].set_ylabel('review_users normalized')\n",
        "ax[4,2].set_title('review_users')\n",
        "\n",
        "\n",
        "fig.suptitle(\"Corrlation between a movie's features and its rating\")"
      ],
      "metadata": {
        "colab": {
          "base_uri": "https://localhost:8080/",
          "height": 1000
        },
        "id": "khWA3TBZBirp",
        "outputId": "2337af96-a339-43ea-a39e-d64e730c0b67"
      },
      "execution_count": null,
      "outputs": [
        {
          "output_type": "execute_result",
          "data": {
            "text/plain": [
              "Text(0.5, 0.98, \"Corrlation between a movie's features and its rating\")"
            ]
          },
          "metadata": {},
          "execution_count": 77
        },
        {
          "output_type": "display_data",
          "data": {
            "text/plain": [
              "<Figure size 1512x2880 with 15 Axes>"
            ],
            "image/png": "[encoded data removed]"
          },
          "metadata": {
            "needs_background": "light"
          }
        }
      ]
    },
    {
      "cell_type": "markdown",
      "source": [
        "We notice that the following features have a significant correlation with the rating:\n",
        "\n",
        "'keywords', 'director_name', 'act1_name', 'act2_name', 'act3_name', 'movie_FBLikes', 'gross',  'vote_users', 'review_users'"
      ],
      "metadata": {
        "id": "xebMJQR0MkgA"
      }
    },
    {
      "cell_type": "markdown",
      "source": [
        "Therefore, we can keep just the above features, which have an outstanding correlation:"
      ],
      "metadata": {
        "id": "voTt-2mJOZNa"
      }
    },
    {
      "cell_type": "code",
      "source": [
        "filtered_features = ['keywords', 'director_name', 'act1_name', 'act2_name', 'act3_name', 'movie_FBLikes', 'gross',  'vote_users', 'review_users']"
      ],
      "metadata": {
        "id": "38p8cL6oNC1L"
      },
      "execution_count": null,
      "outputs": []
    },
    {
      "cell_type": "code",
      "source": [
        "X_sc_net = X_sc[ filtered_features ]"
      ],
      "metadata": {
        "id": "sbda2UAHOz1l"
      },
      "execution_count": null,
      "outputs": []
    },
    {
      "cell_type": "code",
      "source": [
        "X_sc_net.sample(5)"
      ],
      "metadata": {
        "colab": {
          "base_uri": "https://localhost:8080/",
          "height": 206
        },
        "id": "pb1hNBJKPPU2",
        "outputId": "59ea4fc5-34b5-483b-cc94-0f65ed7491d3"
      },
      "execution_count": null,
      "outputs": [
        {
          "output_type": "execute_result",
          "data": {
            "text/plain": [
              "      keywords  director_name  act1_name  act2_name  act3_name  movie_FBLikes  \\\n",
              "3394  0.182438       0.126089   0.246123   0.365248   0.231955       0.000186   \n",
              "3560  0.387935       0.346310   0.221173   0.177305   0.450000       0.001086   \n",
              "1991  0.235086       0.039512   0.020904   0.203457   0.022556       0.000556   \n",
              "1763  0.535656       0.772225   0.880647   0.696809   0.231955       0.031485   \n",
              "4011  0.069465       0.088321   0.246797   0.148936   0.326316       0.002831   \n",
              "\n",
              "         gross  vote_users  review_users  \n",
              "3394  0.007195    0.001654      0.006860  \n",
              "3560  0.036958    0.003751      0.011147  \n",
              "1991  0.008670    0.002851      0.005145  \n",
              "1763  0.078928    0.106040      0.152626  \n",
              "4011  0.000147    0.007214      0.028510  "
            ],
            "text/html": [
              "\n",
              "  <div id=\"df-90dd9545-ca4a-4f8d-bf08-117783053f3c\">\n",
              "    <div class=\"colab-df-container\">\n",
              "      <div>\n",
              "<style scoped>\n",
              "    .dataframe tbody tr th:only-of-type {\n",
              "        vertical-align: middle;\n",
              "    }\n",
              "\n",
              "    .dataframe tbody tr th {\n",
              "        vertical-align: top;\n",
              "    }\n",
              "\n",
              "    .dataframe thead th {\n",
              "        text-align: right;\n",
              "    }\n",
              "</style>\n",
              "<table border=\"1\" class=\"dataframe\">\n",
              "  <thead>\n",
              "    <tr style=\"text-align: right;\">\n",
              "      <th></th>\n",
              "      <th>keywords</th>\n",
              "      <th>director_name</th>\n",
              "      <th>act1_name</th>\n",
              "      <th>act2_name</th>\n",
              "      <th>act3_name</th>\n",
              "      <th>movie_FBLikes</th>\n",
              "      <th>gross</th>\n",
              "      <th>vote_users</th>\n",
              "      <th>review_users</th>\n",
              "    </tr>\n",
              "  </thead>\n",
              "  <tbody>\n",
              "    <tr>\n",
              "      <th>3394</th>\n",
              "      <td>0.182438</td>\n",
              "      <td>0.126089</td>\n",
              "      <td>0.246123</td>\n",
              "      <td>0.365248</td>\n",
              "      <td>0.231955</td>\n",
              "      <td>0.000186</td>\n",
              "      <td>0.007195</td>\n",
              "      <td>0.001654</td>\n",
              "      <td>0.006860</td>\n",
              "    </tr>\n",
              "    <tr>\n",
              "      <th>3560</th>\n",
              "      <td>0.387935</td>\n",
              "      <td>0.346310</td>\n",
              "      <td>0.221173</td>\n",
              "      <td>0.177305</td>\n",
              "      <td>0.450000</td>\n",
              "      <td>0.001086</td>\n",
              "      <td>0.036958</td>\n",
              "      <td>0.003751</td>\n",
              "      <td>0.011147</td>\n",
              "    </tr>\n",
              "    <tr>\n",
              "      <th>1991</th>\n",
              "      <td>0.235086</td>\n",
              "      <td>0.039512</td>\n",
              "      <td>0.020904</td>\n",
              "      <td>0.203457</td>\n",
              "      <td>0.022556</td>\n",
              "      <td>0.000556</td>\n",
              "      <td>0.008670</td>\n",
              "      <td>0.002851</td>\n",
              "      <td>0.005145</td>\n",
              "    </tr>\n",
              "    <tr>\n",
              "      <th>1763</th>\n",
              "      <td>0.535656</td>\n",
              "      <td>0.772225</td>\n",
              "      <td>0.880647</td>\n",
              "      <td>0.696809</td>\n",
              "      <td>0.231955</td>\n",
              "      <td>0.031485</td>\n",
              "      <td>0.078928</td>\n",
              "      <td>0.106040</td>\n",
              "      <td>0.152626</td>\n",
              "    </tr>\n",
              "    <tr>\n",
              "      <th>4011</th>\n",
              "      <td>0.069465</td>\n",
              "      <td>0.088321</td>\n",
              "      <td>0.246797</td>\n",
              "      <td>0.148936</td>\n",
              "      <td>0.326316</td>\n",
              "      <td>0.002831</td>\n",
              "      <td>0.000147</td>\n",
              "      <td>0.007214</td>\n",
              "      <td>0.028510</td>\n",
              "    </tr>\n",
              "  </tbody>\n",
              "</table>\n",
              "</div>\n",
              "      <button class=\"colab-df-convert\" onclick=\"convertToInteractive('df-90dd9545-ca4a-4f8d-bf08-117783053f3c')\"\n",
              "              title=\"Convert this dataframe to an interactive table.\"\n",
              "              style=\"display:none;\">\n",
              "        \n",
              "  <svg xmlns=\"http://www.w3.org/2000/svg\" height=\"24px\"viewBox=\"0 0 24 24\"\n",
              "       width=\"24px\">\n",
              "    <path d=\"M0 0h24v24H0V0z\" fill=\"none\"/>\n",
              "    <path d=\"M18.56 5.44l.94 2.06.94-2.06 2.06-.94-2.06-.94-.94-2.06-.94 2.06-2.06.94zm-11 1L8.5 8.5l.94-2.06 2.06-.94-2.06-.94L8.5 2.5l-.94 2.06-2.06.94zm10 10l.94 2.06.94-2.06 2.06-.94-2.06-.94-.94-2.06-.94 2.06-2.06.94z\"/><path d=\"M17.41 7.96l-1.37-1.37c-.4-.4-.92-.59-1.43-.59-.52 0-1.04.2-1.43.59L10.3 9.45l-7.72 7.72c-.78.78-.78 2.05 0 2.83L4 21.41c.39.39.9.59 1.41.59.51 0 1.02-.2 1.41-.59l7.78-7.78 2.81-2.81c.8-.78.8-2.07 0-2.86zM5.41 20L4 18.59l7.72-7.72 1.47 1.35L5.41 20z\"/>\n",
              "  </svg>\n",
              "      </button>\n",
              "      \n",
              "  <style>\n",
              "    .colab-df-container {\n",
              "      display:flex;\n",
              "      flex-wrap:wrap;\n",
              "      gap: 12px;\n",
              "    }\n",
              "\n",
              "    .colab-df-convert {\n",
              "      background-color: #E8F0FE;\n",
              "      border: none;\n",
              "      border-radius: 50%;\n",
              "      cursor: pointer;\n",
              "      display: none;\n",
              "      fill: #1967D2;\n",
              "      height: 32px;\n",
              "      padding: 0 0 0 0;\n",
              "      width: 32px;\n",
              "    }\n",
              "\n",
              "    .colab-df-convert:hover {\n",
              "      background-color: #E2EBFA;\n",
              "      box-shadow: 0px 1px 2px rgba(60, 64, 67, 0.3), 0px 1px 3px 1px rgba(60, 64, 67, 0.15);\n",
              "      fill: #174EA6;\n",
              "    }\n",
              "\n",
              "    [theme=dark] .colab-df-convert {\n",
              "      background-color: #3B4455;\n",
              "      fill: #D2E3FC;\n",
              "    }\n",
              "\n",
              "    [theme=dark] .colab-df-convert:hover {\n",
              "      background-color: #434B5C;\n",
              "      box-shadow: 0px 1px 3px 1px rgba(0, 0, 0, 0.15);\n",
              "      filter: drop-shadow(0px 1px 2px rgba(0, 0, 0, 0.3));\n",
              "      fill: #FFFFFF;\n",
              "    }\n",
              "  </style>\n",
              "\n",
              "      <script>\n",
              "        const buttonEl =\n",
              "          document.querySelector('#df-90dd9545-ca4a-4f8d-bf08-117783053f3c button.colab-df-convert');\n",
              "        buttonEl.style.display =\n",
              "          google.colab.kernel.accessAllowed ? 'block' : 'none';\n",
              "\n",
              "        async function convertToInteractive(key) {\n",
              "          const element = document.querySelector('#df-90dd9545-ca4a-4f8d-bf08-117783053f3c');\n",
              "          const dataTable =\n",
              "            await google.colab.kernel.invokeFunction('convertToInteractive',\n",
              "                                                     [key], {});\n",
              "          if (!dataTable) return;\n",
              "\n",
              "          const docLinkHtml = 'Like what you see? Visit the ' +\n",
              "            '<a target=\"_blank\" href=https://colab.research.google.com/notebooks/data_table.ipynb>data table notebook</a>'\n",
              "            + ' to learn more about interactive tables.';\n",
              "          element.innerHTML = '';\n",
              "          dataTable['output_type'] = 'display_data';\n",
              "          await google.colab.output.renderOutput(dataTable, element);\n",
              "          const docLink = document.createElement('div');\n",
              "          docLink.innerHTML = docLinkHtml;\n",
              "          element.appendChild(docLink);\n",
              "        }\n",
              "      </script>\n",
              "    </div>\n",
              "  </div>\n",
              "  "
            ]
          },
          "metadata": {},
          "execution_count": 80
        }
      ]
    },
    {
      "cell_type": "code",
      "source": [
        "X_sc_net.to_csv('X_sc_net.csv', index=False)"
      ],
      "metadata": {
        "id": "WoSIU3I0QXFJ"
      },
      "execution_count": null,
      "outputs": []
    },
    {
      "cell_type": "markdown",
      "source": [
        " # Data Splitting into testing, training, and validation\n",
        " ---\n",
        " "
      ],
      "metadata": {
        "id": "n8SvOA4Kh9tL"
      }
    },
    {
      "cell_type": "code",
      "source": [
        "from sklearn.model_selection import train_test_split\n",
        "X_train, X_test, y_train, y_test = train_test_split(X_sc_net, y, test_size = 0.2)"
      ],
      "metadata": {
        "id": "by_tS25giZ_M"
      },
      "execution_count": null,
      "outputs": []
    },
    {
      "cell_type": "code",
      "source": [
        "y_train.head()"
      ],
      "metadata": {
        "colab": {
          "base_uri": "https://localhost:8080/",
          "height": 206
        },
        "id": "JfHtLLaGlrfq",
        "outputId": "fe6257e6-30be-4c9b-b7a3-7dc661470e09"
      },
      "execution_count": null,
      "outputs": [
        {
          "output_type": "execute_result",
          "data": {
            "text/plain": [
              "      rating\n",
              "2909     6.6\n",
              "216      6.7\n",
              "2693     5.6\n",
              "2571     5.2\n",
              "3420     6.4"
            ],
            "text/html": [
              "\n",
              "  <div id=\"df-fc3478f2-7a5f-4577-9aae-6a1cd74e016d\">\n",
              "    <div class=\"colab-df-container\">\n",
              "      <div>\n",
              "<style scoped>\n",
              "    .dataframe tbody tr th:only-of-type {\n",
              "        vertical-align: middle;\n",
              "    }\n",
              "\n",
              "    .dataframe tbody tr th {\n",
              "        vertical-align: top;\n",
              "    }\n",
              "\n",
              "    .dataframe thead th {\n",
              "        text-align: right;\n",
              "    }\n",
              "</style>\n",
              "<table border=\"1\" class=\"dataframe\">\n",
              "  <thead>\n",
              "    <tr style=\"text-align: right;\">\n",
              "      <th></th>\n",
              "      <th>rating</th>\n",
              "    </tr>\n",
              "  </thead>\n",
              "  <tbody>\n",
              "    <tr>\n",
              "      <th>2909</th>\n",
              "      <td>6.6</td>\n",
              "    </tr>\n",
              "    <tr>\n",
              "      <th>216</th>\n",
              "      <td>6.7</td>\n",
              "    </tr>\n",
              "    <tr>\n",
              "      <th>2693</th>\n",
              "      <td>5.6</td>\n",
              "    </tr>\n",
              "    <tr>\n",
              "      <th>2571</th>\n",
              "      <td>5.2</td>\n",
              "    </tr>\n",
              "    <tr>\n",
              "      <th>3420</th>\n",
              "      <td>6.4</td>\n",
              "    </tr>\n",
              "  </tbody>\n",
              "</table>\n",
              "</div>\n",
              "      <button class=\"colab-df-convert\" onclick=\"convertToInteractive('df-fc3478f2-7a5f-4577-9aae-6a1cd74e016d')\"\n",
              "              title=\"Convert this dataframe to an interactive table.\"\n",
              "              style=\"display:none;\">\n",
              "        \n",
              "  <svg xmlns=\"http://www.w3.org/2000/svg\" height=\"24px\"viewBox=\"0 0 24 24\"\n",
              "       width=\"24px\">\n",
              "    <path d=\"M0 0h24v24H0V0z\" fill=\"none\"/>\n",
              "    <path d=\"M18.56 5.44l.94 2.06.94-2.06 2.06-.94-2.06-.94-.94-2.06-.94 2.06-2.06.94zm-11 1L8.5 8.5l.94-2.06 2.06-.94-2.06-.94L8.5 2.5l-.94 2.06-2.06.94zm10 10l.94 2.06.94-2.06 2.06-.94-2.06-.94-.94-2.06-.94 2.06-2.06.94z\"/><path d=\"M17.41 7.96l-1.37-1.37c-.4-.4-.92-.59-1.43-.59-.52 0-1.04.2-1.43.59L10.3 9.45l-7.72 7.72c-.78.78-.78 2.05 0 2.83L4 21.41c.39.39.9.59 1.41.59.51 0 1.02-.2 1.41-.59l7.78-7.78 2.81-2.81c.8-.78.8-2.07 0-2.86zM5.41 20L4 18.59l7.72-7.72 1.47 1.35L5.41 20z\"/>\n",
              "  </svg>\n",
              "      </button>\n",
              "      \n",
              "  <style>\n",
              "    .colab-df-container {\n",
              "      display:flex;\n",
              "      flex-wrap:wrap;\n",
              "      gap: 12px;\n",
              "    }\n",
              "\n",
              "    .colab-df-convert {\n",
              "      background-color: #E8F0FE;\n",
              "      border: none;\n",
              "      border-radius: 50%;\n",
              "      cursor: pointer;\n",
              "      display: none;\n",
              "      fill: #1967D2;\n",
              "      height: 32px;\n",
              "      padding: 0 0 0 0;\n",
              "      width: 32px;\n",
              "    }\n",
              "\n",
              "    .colab-df-convert:hover {\n",
              "      background-color: #E2EBFA;\n",
              "      box-shadow: 0px 1px 2px rgba(60, 64, 67, 0.3), 0px 1px 3px 1px rgba(60, 64, 67, 0.15);\n",
              "      fill: #174EA6;\n",
              "    }\n",
              "\n",
              "    [theme=dark] .colab-df-convert {\n",
              "      background-color: #3B4455;\n",
              "      fill: #D2E3FC;\n",
              "    }\n",
              "\n",
              "    [theme=dark] .colab-df-convert:hover {\n",
              "      background-color: #434B5C;\n",
              "      box-shadow: 0px 1px 3px 1px rgba(0, 0, 0, 0.15);\n",
              "      filter: drop-shadow(0px 1px 2px rgba(0, 0, 0, 0.3));\n",
              "      fill: #FFFFFF;\n",
              "    }\n",
              "  </style>\n",
              "\n",
              "      <script>\n",
              "        const buttonEl =\n",
              "          document.querySelector('#df-fc3478f2-7a5f-4577-9aae-6a1cd74e016d button.colab-df-convert');\n",
              "        buttonEl.style.display =\n",
              "          google.colab.kernel.accessAllowed ? 'block' : 'none';\n",
              "\n",
              "        async function convertToInteractive(key) {\n",
              "          const element = document.querySelector('#df-fc3478f2-7a5f-4577-9aae-6a1cd74e016d');\n",
              "          const dataTable =\n",
              "            await google.colab.kernel.invokeFunction('convertToInteractive',\n",
              "                                                     [key], {});\n",
              "          if (!dataTable) return;\n",
              "\n",
              "          const docLinkHtml = 'Like what you see? Visit the ' +\n",
              "            '<a target=\"_blank\" href=https://colab.research.google.com/notebooks/data_table.ipynb>data table notebook</a>'\n",
              "            + ' to learn more about interactive tables.';\n",
              "          element.innerHTML = '';\n",
              "          dataTable['output_type'] = 'display_data';\n",
              "          await google.colab.output.renderOutput(dataTable, element);\n",
              "          const docLink = document.createElement('div');\n",
              "          docLink.innerHTML = docLinkHtml;\n",
              "          element.appendChild(docLink);\n",
              "        }\n",
              "      </script>\n",
              "    </div>\n",
              "  </div>\n",
              "  "
            ]
          },
          "metadata": {},
          "execution_count": 83
        }
      ]
    },
    {
      "cell_type": "code",
      "source": [
        "X_train.shape"
      ],
      "metadata": {
        "colab": {
          "base_uri": "https://localhost:8080/"
        },
        "id": "EElW3h4H8AMO",
        "outputId": "fa5d59cf-2402-4b72-c994-b7dad3b0b80f"
      },
      "execution_count": null,
      "outputs": [
        {
          "output_type": "execute_result",
          "data": {
            "text/plain": [
              "(1332, 9)"
            ]
          },
          "metadata": {},
          "execution_count": 84
        }
      ]
    },
    {
      "cell_type": "markdown",
      "source": [
        " # Machine Learning Model\n",
        " ---\n",
        " "
      ],
      "metadata": {
        "id": "xBBqQD-Ul8MX"
      }
    },
    {
      "cell_type": "code",
      "source": [
        "from xgboost import XGBRegressor\n",
        "regressor = XGBRegressor(colsample_bytree= 1, gamma= 0.2, max_depth= 6, min_child_weight= 3,\n",
        "                         subsample = 0.8, objective='reg:squarederror')\n",
        "regressor.fit(X_train, y_train)\n",
        "\n"
      ],
      "metadata": {
        "colab": {
          "base_uri": "https://localhost:8080/"
        },
        "id": "LaM964AVtr3J",
        "outputId": "5b365de7-e8e8-441a-9e81-deba96f1ad5c"
      },
      "execution_count": null,
      "outputs": [
        {
          "output_type": "execute_result",
          "data": {
            "text/plain": [
              "XGBRegressor(gamma=0.2, max_depth=6, min_child_weight=3,\n",
              "             objective='reg:squarederror', subsample=0.8)"
            ]
          },
          "metadata": {},
          "execution_count": 85
        }
      ]
    },
    {
      "cell_type": "markdown",
      "source": [],
      "metadata": {
        "id": "OLfuHoL058bW"
      }
    },
    {
      "cell_type": "code",
      "source": [
        "y_pred = regressor.predict(X_test)\n",
        "from sklearn.metrics import r2_score\n",
        "score = r2_score(y_test, y_pred) \n",
        "\n"
      ],
      "metadata": {
        "id": "4HVKlUpC56hX"
      },
      "execution_count": null,
      "outputs": []
    },
    {
      "cell_type": "code",
      "source": [
        "print(score)"
      ],
      "metadata": {
        "colab": {
          "base_uri": "https://localhost:8080/"
        },
        "id": "-GCaAyFG8PoO",
        "outputId": "9680ee9d-a561-4379-b757-c4d4935de819"
      },
      "execution_count": null,
      "outputs": [
        {
          "output_type": "stream",
          "name": "stdout",
          "text": [
            "0.9289271477324756\n"
          ]
        }
      ]
    },
    {
      "cell_type": "markdown",
      "source": [],
      "metadata": {
        "id": "aT30U8rZ59ib"
      }
    },
    {
      "cell_type": "code",
      "source": [
        "fig, ax = plt.subplots()\n",
        "ax.scatter(y_test, y_pred)\n",
        "ax.plot([y.min(), y.max()], [y.min(), y.max()], 'k--', lw=4)\n",
        "ax.set_xlabel('Measured rating')\n",
        "ax.set_ylabel('Predicted rating')\n",
        "plt.title('Measured versus predicted rating')\n",
        "plt.ylim((5, 9))   # set the ylim to bottom, top\n",
        "plt.xlim(5, 9)     # set the ylim to bottom, top\n",
        "plt.show()"
      ],
      "metadata": {
        "colab": {
          "base_uri": "https://localhost:8080/",
          "height": 295
        },
        "id": "P63WALPK57DA",
        "outputId": "ea58284d-58fc-4f9d-a4ad-d5819e228f32"
      },
      "execution_count": null,
      "outputs": [
        {
          "output_type": "display_data",
          "data": {
            "text/plain": [
              "<Figure size 432x288 with 1 Axes>"
            ],
            "image/png": "[encoded data removed]"
          },
          "metadata": {
            "needs_background": "light"
          }
        }
      ]
    },
    {
      "cell_type": "markdown",
      "source": [],
      "metadata": {
        "id": "EOTOYjpc5-jO"
      }
    },
    {
      "cell_type": "markdown",
      "source": [
        " # Notes\n",
        " ---\n",
        " "
      ],
      "metadata": {
        "id": "mxmd8L87izxf"
      }
    },
    {
      "cell_type": "markdown",
      "source": [
        "* Why the regression method was chosen, rather than deep learning:\n",
        "A deep learning model isn't preferable/necessary in this case, as the output has a continuous numerical value, ranging between 0 and 1. The regression model worked efficiently with a good accuracy.\n",
        "\n",
        "* I could include some features, which showed some unclear correlation, such as: 'director_FBLikes', 'cast_total_FBLikes' and the other Facebook-Likes features, but they might not be fully independent (especially the  cast_total_FBLikes, which is the sum of the likes of the likes of the director, the first 3 actors and other actors).\n",
        "\n",
        "* XGBoost was chosen over others, as it's one of the most efficient regressors.\n",
        "\n",
        "* Fine-tuning of the hyperparameters:\n",
        "- I first set colsample_bytree to 0.6, just being cautious it wouldn't take too long, then after it performed fast, I set it to 1"
      ],
      "metadata": {
        "id": "NLMD_N-jjF2M"
      }
    },
    {
      "cell_type": "code",
      "source": [],
      "metadata": {
        "id": "3ERVPXrxjD5-"
      },
      "execution_count": null,
      "outputs": []
    }
  ]
}